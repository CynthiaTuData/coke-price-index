{
 "cells": [
  {
   "cell_type": "code",
   "execution_count": 1,
   "id": "dc0fc5c7",
   "metadata": {},
   "outputs": [],
   "source": [
    "import pandas as pd"
   ]
  },
  {
   "cell_type": "markdown",
   "id": "27867871",
   "metadata": {},
   "source": [
    "# Step 1: Scraping"
   ]
  },
  {
   "cell_type": "markdown",
   "id": "29b360a5",
   "metadata": {},
   "source": [
    "## Collect coke price data"
   ]
  },
  {
   "cell_type": "code",
   "execution_count": 2,
   "id": "3af4cc37",
   "metadata": {},
   "outputs": [],
   "source": [
    "coke_url = \"https://www.numbeo.com/cost-of-living/prices_by_country.jsp?displayCurrency=USD&itemId=6\""
   ]
  },
  {
   "cell_type": "code",
   "execution_count": 3,
   "id": "db477cd2",
   "metadata": {},
   "outputs": [
    {
     "data": {
      "text/html": [
       "<div>\n",
       "<style scoped>\n",
       "    .dataframe tbody tr th:only-of-type {\n",
       "        vertical-align: middle;\n",
       "    }\n",
       "\n",
       "    .dataframe tbody tr th {\n",
       "        vertical-align: top;\n",
       "    }\n",
       "\n",
       "    .dataframe thead th {\n",
       "        text-align: right;\n",
       "    }\n",
       "</style>\n",
       "<table border=\"1\" class=\"dataframe\">\n",
       "  <thead>\n",
       "    <tr style=\"text-align: right;\">\n",
       "      <th></th>\n",
       "      <th>Rank</th>\n",
       "      <th>Country</th>\n",
       "      <th>Coke/Pepsi (0.33 liter bottle)</th>\n",
       "    </tr>\n",
       "  </thead>\n",
       "  <tbody>\n",
       "    <tr>\n",
       "      <th>0</th>\n",
       "      <td>NaN</td>\n",
       "      <td>Kazakhstan</td>\n",
       "      <td>0.64</td>\n",
       "    </tr>\n",
       "    <tr>\n",
       "      <th>1</th>\n",
       "      <td>NaN</td>\n",
       "      <td>Portugal</td>\n",
       "      <td>1.51</td>\n",
       "    </tr>\n",
       "  </tbody>\n",
       "</table>\n",
       "</div>"
      ],
      "text/plain": [
       "   Rank     Country  Coke/Pepsi (0.33 liter bottle)\n",
       "0   NaN  Kazakhstan                            0.64\n",
       "1   NaN    Portugal                            1.51"
      ]
     },
     "execution_count": 3,
     "metadata": {},
     "output_type": "execute_result"
    }
   ],
   "source": [
    "tables = pd.read_html(coke_url)\n",
    "coke_df = tables[1]\n",
    "coke_df.head(2)"
   ]
  },
  {
   "cell_type": "code",
   "execution_count": 4,
   "id": "e3f418a9",
   "metadata": {
    "scrolled": true
   },
   "outputs": [],
   "source": [
    "coke_df = coke_df.drop(columns='Rank')\n"
   ]
  },
  {
   "cell_type": "code",
   "execution_count": 5,
   "id": "c921a524",
   "metadata": {},
   "outputs": [
    {
     "data": {
      "text/html": [
       "<div>\n",
       "<style scoped>\n",
       "    .dataframe tbody tr th:only-of-type {\n",
       "        vertical-align: middle;\n",
       "    }\n",
       "\n",
       "    .dataframe tbody tr th {\n",
       "        vertical-align: top;\n",
       "    }\n",
       "\n",
       "    .dataframe thead th {\n",
       "        text-align: right;\n",
       "    }\n",
       "</style>\n",
       "<table border=\"1\" class=\"dataframe\">\n",
       "  <thead>\n",
       "    <tr style=\"text-align: right;\">\n",
       "      <th></th>\n",
       "      <th>country</th>\n",
       "      <th>price</th>\n",
       "    </tr>\n",
       "  </thead>\n",
       "  <tbody>\n",
       "    <tr>\n",
       "      <th>0</th>\n",
       "      <td>Kazakhstan</td>\n",
       "      <td>0.64</td>\n",
       "    </tr>\n",
       "    <tr>\n",
       "      <th>1</th>\n",
       "      <td>Portugal</td>\n",
       "      <td>1.51</td>\n",
       "    </tr>\n",
       "    <tr>\n",
       "      <th>2</th>\n",
       "      <td>Greece</td>\n",
       "      <td>1.92</td>\n",
       "    </tr>\n",
       "    <tr>\n",
       "      <th>3</th>\n",
       "      <td>Latvia</td>\n",
       "      <td>1.28</td>\n",
       "    </tr>\n",
       "    <tr>\n",
       "      <th>4</th>\n",
       "      <td>Iran</td>\n",
       "      <td>0.91</td>\n",
       "    </tr>\n",
       "  </tbody>\n",
       "</table>\n",
       "</div>"
      ],
      "text/plain": [
       "      country  price\n",
       "0  Kazakhstan   0.64\n",
       "1    Portugal   1.51\n",
       "2      Greece   1.92\n",
       "3      Latvia   1.28\n",
       "4        Iran   0.91"
      ]
     },
     "execution_count": 5,
     "metadata": {},
     "output_type": "execute_result"
    }
   ],
   "source": [
    "coke_df = coke_df.rename(columns={'Country': \"country\", 'Coke/Pepsi (0.33 liter bottle)': \"price\"})\n",
    "coke_df.head()"
   ]
  },
  {
   "cell_type": "markdown",
   "id": "79785128",
   "metadata": {},
   "source": [
    "## Collect salary data"
   ]
  },
  {
   "cell_type": "code",
   "execution_count": 6,
   "id": "a1406351",
   "metadata": {
    "scrolled": true
   },
   "outputs": [
    {
     "data": {
      "text/html": [
       "<div>\n",
       "<style scoped>\n",
       "    .dataframe tbody tr th:only-of-type {\n",
       "        vertical-align: middle;\n",
       "    }\n",
       "\n",
       "    .dataframe tbody tr th {\n",
       "        vertical-align: top;\n",
       "    }\n",
       "\n",
       "    .dataframe thead th {\n",
       "        text-align: right;\n",
       "    }\n",
       "</style>\n",
       "<table border=\"1\" class=\"dataframe\">\n",
       "  <thead>\n",
       "    <tr style=\"text-align: right;\">\n",
       "      <th></th>\n",
       "      <th>0</th>\n",
       "      <th>1</th>\n",
       "      <th>2</th>\n",
       "      <th>3</th>\n",
       "    </tr>\n",
       "  </thead>\n",
       "  <tbody>\n",
       "    <tr>\n",
       "      <th>0</th>\n",
       "      <td>1.0</td>\n",
       "      <td>Switzerland</td>\n",
       "      <td>NaN</td>\n",
       "      <td>5,935.58 $</td>\n",
       "    </tr>\n",
       "    <tr>\n",
       "      <th>1</th>\n",
       "      <td>2.0</td>\n",
       "      <td>Singapore</td>\n",
       "      <td>NaN</td>\n",
       "      <td>5,009.32 $</td>\n",
       "    </tr>\n",
       "    <tr>\n",
       "      <th>2</th>\n",
       "      <td>3.0</td>\n",
       "      <td>United States</td>\n",
       "      <td>NaN</td>\n",
       "      <td>4,185.35 $</td>\n",
       "    </tr>\n",
       "    <tr>\n",
       "      <th>3</th>\n",
       "      <td>4.0</td>\n",
       "      <td>Qatar</td>\n",
       "      <td>NaN</td>\n",
       "      <td>3,977.93 $</td>\n",
       "    </tr>\n",
       "    <tr>\n",
       "      <th>4</th>\n",
       "      <td>5.0</td>\n",
       "      <td>Iceland</td>\n",
       "      <td>NaN</td>\n",
       "      <td>3,850.25 $</td>\n",
       "    </tr>\n",
       "  </tbody>\n",
       "</table>\n",
       "</div>"
      ],
      "text/plain": [
       "     0              1   2           3\n",
       "0  1.0    Switzerland NaN  5,935.58 $\n",
       "1  2.0      Singapore NaN  5,009.32 $\n",
       "2  3.0  United States NaN  4,185.35 $\n",
       "3  4.0          Qatar NaN  3,977.93 $\n",
       "4  5.0        Iceland NaN  3,850.25 $"
      ]
     },
     "execution_count": 6,
     "metadata": {},
     "output_type": "execute_result"
    }
   ],
   "source": [
    "salary_url = \"https://www.numbeo.com/cost-of-living/country_price_rankings?itemId=105\"\n",
    "salary_tables = pd.read_html(salary_url)\n",
    "salary_df = salary_tables[1]\n",
    "salary_df.head()"
   ]
  },
  {
   "cell_type": "code",
   "execution_count": 7,
   "id": "0db1ed68",
   "metadata": {},
   "outputs": [
    {
     "data": {
      "text/html": [
       "<div>\n",
       "<style scoped>\n",
       "    .dataframe tbody tr th:only-of-type {\n",
       "        vertical-align: middle;\n",
       "    }\n",
       "\n",
       "    .dataframe tbody tr th {\n",
       "        vertical-align: top;\n",
       "    }\n",
       "\n",
       "    .dataframe thead th {\n",
       "        text-align: right;\n",
       "    }\n",
       "</style>\n",
       "<table border=\"1\" class=\"dataframe\">\n",
       "  <thead>\n",
       "    <tr style=\"text-align: right;\">\n",
       "      <th></th>\n",
       "      <th>country</th>\n",
       "      <th>mo_salary</th>\n",
       "    </tr>\n",
       "  </thead>\n",
       "  <tbody>\n",
       "    <tr>\n",
       "      <th>0</th>\n",
       "      <td>Switzerland</td>\n",
       "      <td>5,935.58 $</td>\n",
       "    </tr>\n",
       "    <tr>\n",
       "      <th>1</th>\n",
       "      <td>Singapore</td>\n",
       "      <td>5,009.32 $</td>\n",
       "    </tr>\n",
       "    <tr>\n",
       "      <th>2</th>\n",
       "      <td>United States</td>\n",
       "      <td>4,185.35 $</td>\n",
       "    </tr>\n",
       "    <tr>\n",
       "      <th>3</th>\n",
       "      <td>Qatar</td>\n",
       "      <td>3,977.93 $</td>\n",
       "    </tr>\n",
       "    <tr>\n",
       "      <th>4</th>\n",
       "      <td>Iceland</td>\n",
       "      <td>3,850.25 $</td>\n",
       "    </tr>\n",
       "  </tbody>\n",
       "</table>\n",
       "</div>"
      ],
      "text/plain": [
       "         country   mo_salary\n",
       "0    Switzerland  5,935.58 $\n",
       "1      Singapore  5,009.32 $\n",
       "2  United States  4,185.35 $\n",
       "3          Qatar  3,977.93 $\n",
       "4        Iceland  3,850.25 $"
      ]
     },
     "execution_count": 7,
     "metadata": {},
     "output_type": "execute_result"
    }
   ],
   "source": [
    "salary_df = salary_df.drop(columns=[0,2])\n",
    "salary_df = salary_df.rename(columns={1: \"country\", 3: \"mo_salary\"})\n",
    "salary_df.head()"
   ]
  },
  {
   "cell_type": "code",
   "execution_count": null,
   "id": "0c3a2383",
   "metadata": {},
   "outputs": [],
   "source": []
  },
  {
   "cell_type": "markdown",
   "id": "a7b6bcc7",
   "metadata": {},
   "source": [
    "# Step 2: Cleaning"
   ]
  },
  {
   "cell_type": "markdown",
   "id": "9b3a8147",
   "metadata": {},
   "source": [
    "## Cleaning country names"
   ]
  },
  {
   "cell_type": "code",
   "execution_count": null,
   "id": "42a09ad7",
   "metadata": {},
   "outputs": [],
   "source": []
  },
  {
   "cell_type": "code",
   "execution_count": 8,
   "id": "0118d6c7",
   "metadata": {},
   "outputs": [
    {
     "data": {
      "text/html": [
       "<div>\n",
       "<style scoped>\n",
       "    .dataframe tbody tr th:only-of-type {\n",
       "        vertical-align: middle;\n",
       "    }\n",
       "\n",
       "    .dataframe tbody tr th {\n",
       "        vertical-align: top;\n",
       "    }\n",
       "\n",
       "    .dataframe thead th {\n",
       "        text-align: right;\n",
       "    }\n",
       "</style>\n",
       "<table border=\"1\" class=\"dataframe\">\n",
       "  <thead>\n",
       "    <tr style=\"text-align: right;\">\n",
       "      <th></th>\n",
       "      <th>country</th>\n",
       "      <th>price</th>\n",
       "      <th>mo_salary</th>\n",
       "    </tr>\n",
       "  </thead>\n",
       "  <tbody>\n",
       "    <tr>\n",
       "      <th>0</th>\n",
       "      <td>Kazakhstan</td>\n",
       "      <td>0.64</td>\n",
       "      <td>467.31 $</td>\n",
       "    </tr>\n",
       "    <tr>\n",
       "      <th>1</th>\n",
       "      <td>Portugal</td>\n",
       "      <td>1.51</td>\n",
       "      <td>1,067.16 $</td>\n",
       "    </tr>\n",
       "    <tr>\n",
       "      <th>2</th>\n",
       "      <td>Greece</td>\n",
       "      <td>1.92</td>\n",
       "      <td>881.98 $</td>\n",
       "    </tr>\n",
       "    <tr>\n",
       "      <th>3</th>\n",
       "      <td>Latvia</td>\n",
       "      <td>1.28</td>\n",
       "      <td>1,025.95 $</td>\n",
       "    </tr>\n",
       "    <tr>\n",
       "      <th>4</th>\n",
       "      <td>Iran</td>\n",
       "      <td>0.91</td>\n",
       "      <td>313.94 $</td>\n",
       "    </tr>\n",
       "    <tr>\n",
       "      <th>...</th>\n",
       "      <td>...</td>\n",
       "      <td>...</td>\n",
       "      <td>...</td>\n",
       "    </tr>\n",
       "    <tr>\n",
       "      <th>103</th>\n",
       "      <td>Denmark</td>\n",
       "      <td>3.47</td>\n",
       "      <td>3,511.97 $</td>\n",
       "    </tr>\n",
       "    <tr>\n",
       "      <th>104</th>\n",
       "      <td>Dominican Republic</td>\n",
       "      <td>0.92</td>\n",
       "      <td>369.87 $</td>\n",
       "    </tr>\n",
       "    <tr>\n",
       "      <th>105</th>\n",
       "      <td>Mexico</td>\n",
       "      <td>0.99</td>\n",
       "      <td>677.77 $</td>\n",
       "    </tr>\n",
       "    <tr>\n",
       "      <th>106</th>\n",
       "      <td>Montenegro</td>\n",
       "      <td>2.04</td>\n",
       "      <td>653.89 $</td>\n",
       "    </tr>\n",
       "    <tr>\n",
       "      <th>107</th>\n",
       "      <td>Indonesia</td>\n",
       "      <td>0.60</td>\n",
       "      <td>343.55 $</td>\n",
       "    </tr>\n",
       "  </tbody>\n",
       "</table>\n",
       "<p>108 rows × 3 columns</p>\n",
       "</div>"
      ],
      "text/plain": [
       "                country  price   mo_salary\n",
       "0            Kazakhstan   0.64    467.31 $\n",
       "1              Portugal   1.51  1,067.16 $\n",
       "2                Greece   1.92    881.98 $\n",
       "3                Latvia   1.28  1,025.95 $\n",
       "4                  Iran   0.91    313.94 $\n",
       "..                  ...    ...         ...\n",
       "103             Denmark   3.47  3,511.97 $\n",
       "104  Dominican Republic   0.92    369.87 $\n",
       "105              Mexico   0.99    677.77 $\n",
       "106          Montenegro   2.04    653.89 $\n",
       "107           Indonesia   0.60    343.55 $\n",
       "\n",
       "[108 rows x 3 columns]"
      ]
     },
     "execution_count": 8,
     "metadata": {},
     "output_type": "execute_result"
    }
   ],
   "source": [
    "# Merging datasets\n",
    "merged = pd.merge(coke_df, salary_df, how=\"left\", on=\"country\")\n",
    "merged"
   ]
  },
  {
   "cell_type": "code",
   "execution_count": 9,
   "id": "4da3cbeb",
   "metadata": {},
   "outputs": [],
   "source": [
    "cleaned_df = merged.replace({'[$]':'',',':''},regex=True)"
   ]
  },
  {
   "cell_type": "code",
   "execution_count": 10,
   "id": "4fe3bc2a",
   "metadata": {},
   "outputs": [
    {
     "data": {
      "text/html": [
       "<div>\n",
       "<style scoped>\n",
       "    .dataframe tbody tr th:only-of-type {\n",
       "        vertical-align: middle;\n",
       "    }\n",
       "\n",
       "    .dataframe tbody tr th {\n",
       "        vertical-align: top;\n",
       "    }\n",
       "\n",
       "    .dataframe thead th {\n",
       "        text-align: right;\n",
       "    }\n",
       "</style>\n",
       "<table border=\"1\" class=\"dataframe\">\n",
       "  <thead>\n",
       "    <tr style=\"text-align: right;\">\n",
       "      <th></th>\n",
       "      <th>country</th>\n",
       "      <th>price</th>\n",
       "      <th>mo_salary</th>\n",
       "    </tr>\n",
       "  </thead>\n",
       "  <tbody>\n",
       "    <tr>\n",
       "      <th>0</th>\n",
       "      <td>Kazakhstan</td>\n",
       "      <td>0.64</td>\n",
       "      <td>467.31</td>\n",
       "    </tr>\n",
       "    <tr>\n",
       "      <th>1</th>\n",
       "      <td>Portugal</td>\n",
       "      <td>1.51</td>\n",
       "      <td>1067.16</td>\n",
       "    </tr>\n",
       "    <tr>\n",
       "      <th>2</th>\n",
       "      <td>Greece</td>\n",
       "      <td>1.92</td>\n",
       "      <td>881.98</td>\n",
       "    </tr>\n",
       "    <tr>\n",
       "      <th>3</th>\n",
       "      <td>Latvia</td>\n",
       "      <td>1.28</td>\n",
       "      <td>1025.95</td>\n",
       "    </tr>\n",
       "    <tr>\n",
       "      <th>4</th>\n",
       "      <td>Iran</td>\n",
       "      <td>0.91</td>\n",
       "      <td>313.94</td>\n",
       "    </tr>\n",
       "  </tbody>\n",
       "</table>\n",
       "</div>"
      ],
      "text/plain": [
       "      country  price mo_salary\n",
       "0  Kazakhstan   0.64   467.31 \n",
       "1    Portugal   1.51  1067.16 \n",
       "2      Greece   1.92   881.98 \n",
       "3      Latvia   1.28  1025.95 \n",
       "4        Iran   0.91   313.94 "
      ]
     },
     "execution_count": 10,
     "metadata": {},
     "output_type": "execute_result"
    }
   ],
   "source": [
    "cleaned_df.head()"
   ]
  },
  {
   "cell_type": "code",
   "execution_count": 11,
   "id": "f76ddeb5",
   "metadata": {},
   "outputs": [],
   "source": [
    "cleaned_df['mo_salary']=cleaned_df['mo_salary'].astype(float)\n",
    "cleaned_df['price']=cleaned_df['price'].astype(float)"
   ]
  },
  {
   "cell_type": "code",
   "execution_count": 12,
   "id": "a2834f05",
   "metadata": {},
   "outputs": [
    {
     "name": "stderr",
     "output_type": "stream",
     "text": [
      "/var/folders/0h/2v5mxpvs49s0_gs3lqjt474h0000gn/T/ipykernel_73646/938645974.py:1: FutureWarning: The default value of regex will change from True to False in a future version.\n",
      "  cleaned_df['country'] = cleaned_df.country.str.replace(\" [(]China[)]\",\"\").str.replace(\" [(]Disputed Territory[)]\",\"\")\n"
     ]
    },
    {
     "data": {
      "text/html": [
       "<div>\n",
       "<style scoped>\n",
       "    .dataframe tbody tr th:only-of-type {\n",
       "        vertical-align: middle;\n",
       "    }\n",
       "\n",
       "    .dataframe tbody tr th {\n",
       "        vertical-align: top;\n",
       "    }\n",
       "\n",
       "    .dataframe thead th {\n",
       "        text-align: right;\n",
       "    }\n",
       "</style>\n",
       "<table border=\"1\" class=\"dataframe\">\n",
       "  <thead>\n",
       "    <tr style=\"text-align: right;\">\n",
       "      <th></th>\n",
       "      <th>country</th>\n",
       "      <th>price</th>\n",
       "      <th>mo_salary</th>\n",
       "    </tr>\n",
       "  </thead>\n",
       "  <tbody>\n",
       "    <tr>\n",
       "      <th>10</th>\n",
       "      <td>Nepal</td>\n",
       "      <td>0.44</td>\n",
       "      <td>193.09</td>\n",
       "    </tr>\n",
       "    <tr>\n",
       "      <th>77</th>\n",
       "      <td>Albania</td>\n",
       "      <td>1.35</td>\n",
       "      <td>433.49</td>\n",
       "    </tr>\n",
       "    <tr>\n",
       "      <th>53</th>\n",
       "      <td>Israel</td>\n",
       "      <td>2.74</td>\n",
       "      <td>2632.57</td>\n",
       "    </tr>\n",
       "    <tr>\n",
       "      <th>9</th>\n",
       "      <td>Chile</td>\n",
       "      <td>1.34</td>\n",
       "      <td>680.73</td>\n",
       "    </tr>\n",
       "    <tr>\n",
       "      <th>76</th>\n",
       "      <td>Mauritius</td>\n",
       "      <td>1.02</td>\n",
       "      <td>501.54</td>\n",
       "    </tr>\n",
       "    <tr>\n",
       "      <th>39</th>\n",
       "      <td>Croatia</td>\n",
       "      <td>2.23</td>\n",
       "      <td>1039.08</td>\n",
       "    </tr>\n",
       "    <tr>\n",
       "      <th>4</th>\n",
       "      <td>Iran</td>\n",
       "      <td>0.91</td>\n",
       "      <td>313.94</td>\n",
       "    </tr>\n",
       "    <tr>\n",
       "      <th>97</th>\n",
       "      <td>Romania</td>\n",
       "      <td>1.46</td>\n",
       "      <td>776.97</td>\n",
       "    </tr>\n",
       "    <tr>\n",
       "      <th>59</th>\n",
       "      <td>Iceland</td>\n",
       "      <td>2.44</td>\n",
       "      <td>3850.25</td>\n",
       "    </tr>\n",
       "    <tr>\n",
       "      <th>36</th>\n",
       "      <td>Kuwait</td>\n",
       "      <td>0.54</td>\n",
       "      <td>2078.20</td>\n",
       "    </tr>\n",
       "  </tbody>\n",
       "</table>\n",
       "</div>"
      ],
      "text/plain": [
       "      country  price  mo_salary\n",
       "10      Nepal   0.44     193.09\n",
       "77    Albania   1.35     433.49\n",
       "53     Israel   2.74    2632.57\n",
       "9       Chile   1.34     680.73\n",
       "76  Mauritius   1.02     501.54\n",
       "39    Croatia   2.23    1039.08\n",
       "4        Iran   0.91     313.94\n",
       "97    Romania   1.46     776.97\n",
       "59    Iceland   2.44    3850.25\n",
       "36     Kuwait   0.54    2078.20"
      ]
     },
     "execution_count": 12,
     "metadata": {},
     "output_type": "execute_result"
    }
   ],
   "source": [
    "cleaned_df['country'] = cleaned_df.country.str.replace(\" [(]China[)]\",\"\").str.replace(\" [(]Disputed Territory[)]\",\"\")\n",
    "cleaned_df.sample(10)"
   ]
  },
  {
   "cell_type": "markdown",
   "id": "0355eb82",
   "metadata": {},
   "source": [
    "# Step 3: Data Analysis"
   ]
  },
  {
   "cell_type": "code",
   "execution_count": 27,
   "id": "2600e14a",
   "metadata": {},
   "outputs": [
    {
     "data": {
      "text/html": [
       "<div>\n",
       "<style scoped>\n",
       "    .dataframe tbody tr th:only-of-type {\n",
       "        vertical-align: middle;\n",
       "    }\n",
       "\n",
       "    .dataframe tbody tr th {\n",
       "        vertical-align: top;\n",
       "    }\n",
       "\n",
       "    .dataframe thead th {\n",
       "        text-align: right;\n",
       "    }\n",
       "</style>\n",
       "<table border=\"1\" class=\"dataframe\">\n",
       "  <thead>\n",
       "    <tr style=\"text-align: right;\">\n",
       "      <th></th>\n",
       "      <th>country</th>\n",
       "      <th>price</th>\n",
       "      <th>mo_salary</th>\n",
       "      <th>bottle_per_day</th>\n",
       "      <th>daily_salary</th>\n",
       "    </tr>\n",
       "  </thead>\n",
       "  <tbody>\n",
       "    <tr>\n",
       "      <th>0</th>\n",
       "      <td>Kazakhstan</td>\n",
       "      <td>0.64</td>\n",
       "      <td>467.31</td>\n",
       "      <td>35.0</td>\n",
       "      <td>22.25</td>\n",
       "    </tr>\n",
       "    <tr>\n",
       "      <th>1</th>\n",
       "      <td>Portugal</td>\n",
       "      <td>1.51</td>\n",
       "      <td>1067.16</td>\n",
       "      <td>34.0</td>\n",
       "      <td>50.82</td>\n",
       "    </tr>\n",
       "    <tr>\n",
       "      <th>2</th>\n",
       "      <td>Greece</td>\n",
       "      <td>1.92</td>\n",
       "      <td>881.98</td>\n",
       "      <td>22.0</td>\n",
       "      <td>42.00</td>\n",
       "    </tr>\n",
       "    <tr>\n",
       "      <th>3</th>\n",
       "      <td>Latvia</td>\n",
       "      <td>1.28</td>\n",
       "      <td>1025.95</td>\n",
       "      <td>38.0</td>\n",
       "      <td>48.85</td>\n",
       "    </tr>\n",
       "    <tr>\n",
       "      <th>4</th>\n",
       "      <td>Iran</td>\n",
       "      <td>0.91</td>\n",
       "      <td>313.94</td>\n",
       "      <td>16.0</td>\n",
       "      <td>14.95</td>\n",
       "    </tr>\n",
       "  </tbody>\n",
       "</table>\n",
       "</div>"
      ],
      "text/plain": [
       "      country  price  mo_salary  bottle_per_day  daily_salary\n",
       "0  Kazakhstan   0.64     467.31            35.0         22.25\n",
       "1    Portugal   1.51    1067.16            34.0         50.82\n",
       "2      Greece   1.92     881.98            22.0         42.00\n",
       "3      Latvia   1.28    1025.95            38.0         48.85\n",
       "4        Iran   0.91     313.94            16.0         14.95"
      ]
     },
     "execution_count": 27,
     "metadata": {},
     "output_type": "execute_result"
    }
   ],
   "source": [
    "cleaned_df['bottle_per_day'] = cleaned_df['mo_salary']/21/cleaned_df['price']\n",
    "cleaned_df['bottle_per_day'] = cleaned_df['bottle_per_day'].round()\n",
    "cleaned_df['daily_salary'] = cleaned_df['mo_salary']/21\n",
    "cleaned_df['daily_salary'] = cleaned_df['daily_salary'].round(2)\n",
    "cleaned_df.head()"
   ]
  },
  {
   "cell_type": "code",
   "execution_count": null,
   "id": "dc8003cb",
   "metadata": {},
   "outputs": [],
   "source": []
  },
  {
   "cell_type": "code",
   "execution_count": 28,
   "id": "fa24f685",
   "metadata": {},
   "outputs": [
    {
     "data": {
      "text/html": [
       "<div>\n",
       "<style scoped>\n",
       "    .dataframe tbody tr th:only-of-type {\n",
       "        vertical-align: middle;\n",
       "    }\n",
       "\n",
       "    .dataframe tbody tr th {\n",
       "        vertical-align: top;\n",
       "    }\n",
       "\n",
       "    .dataframe thead th {\n",
       "        text-align: right;\n",
       "    }\n",
       "</style>\n",
       "<table border=\"1\" class=\"dataframe\">\n",
       "  <thead>\n",
       "    <tr style=\"text-align: right;\">\n",
       "      <th></th>\n",
       "      <th>country</th>\n",
       "      <th>price</th>\n",
       "      <th>mo_salary</th>\n",
       "      <th>bottle_per_day</th>\n",
       "      <th>daily_salary</th>\n",
       "    </tr>\n",
       "  </thead>\n",
       "  <tbody>\n",
       "    <tr>\n",
       "      <th>5</th>\n",
       "      <td>Morocco</td>\n",
       "      <td>0.50</td>\n",
       "      <td>382.22</td>\n",
       "      <td>36.0</td>\n",
       "      <td>18.20</td>\n",
       "    </tr>\n",
       "    <tr>\n",
       "      <th>106</th>\n",
       "      <td>Montenegro</td>\n",
       "      <td>2.04</td>\n",
       "      <td>653.89</td>\n",
       "      <td>15.0</td>\n",
       "      <td>31.14</td>\n",
       "    </tr>\n",
       "    <tr>\n",
       "      <th>89</th>\n",
       "      <td>Pakistan</td>\n",
       "      <td>0.20</td>\n",
       "      <td>136.56</td>\n",
       "      <td>33.0</td>\n",
       "      <td>6.50</td>\n",
       "    </tr>\n",
       "    <tr>\n",
       "      <th>69</th>\n",
       "      <td>Colombia</td>\n",
       "      <td>0.62</td>\n",
       "      <td>296.78</td>\n",
       "      <td>23.0</td>\n",
       "      <td>14.13</td>\n",
       "    </tr>\n",
       "    <tr>\n",
       "      <th>30</th>\n",
       "      <td>Costa Rica</td>\n",
       "      <td>1.79</td>\n",
       "      <td>852.41</td>\n",
       "      <td>23.0</td>\n",
       "      <td>40.59</td>\n",
       "    </tr>\n",
       "    <tr>\n",
       "      <th>46</th>\n",
       "      <td>Palestine</td>\n",
       "      <td>0.87</td>\n",
       "      <td>711.55</td>\n",
       "      <td>39.0</td>\n",
       "      <td>33.88</td>\n",
       "    </tr>\n",
       "    <tr>\n",
       "      <th>33</th>\n",
       "      <td>Poland</td>\n",
       "      <td>1.33</td>\n",
       "      <td>1071.76</td>\n",
       "      <td>38.0</td>\n",
       "      <td>51.04</td>\n",
       "    </tr>\n",
       "    <tr>\n",
       "      <th>19</th>\n",
       "      <td>Finland</td>\n",
       "      <td>2.63</td>\n",
       "      <td>2773.65</td>\n",
       "      <td>50.0</td>\n",
       "      <td>132.08</td>\n",
       "    </tr>\n",
       "    <tr>\n",
       "      <th>72</th>\n",
       "      <td>Hungary</td>\n",
       "      <td>1.15</td>\n",
       "      <td>877.14</td>\n",
       "      <td>36.0</td>\n",
       "      <td>41.77</td>\n",
       "    </tr>\n",
       "    <tr>\n",
       "      <th>76</th>\n",
       "      <td>Mauritius</td>\n",
       "      <td>1.02</td>\n",
       "      <td>501.54</td>\n",
       "      <td>23.0</td>\n",
       "      <td>23.88</td>\n",
       "    </tr>\n",
       "  </tbody>\n",
       "</table>\n",
       "</div>"
      ],
      "text/plain": [
       "        country  price  mo_salary  bottle_per_day  daily_salary\n",
       "5       Morocco   0.50     382.22            36.0         18.20\n",
       "106  Montenegro   2.04     653.89            15.0         31.14\n",
       "89     Pakistan   0.20     136.56            33.0          6.50\n",
       "69     Colombia   0.62     296.78            23.0         14.13\n",
       "30   Costa Rica   1.79     852.41            23.0         40.59\n",
       "46    Palestine   0.87     711.55            39.0         33.88\n",
       "33       Poland   1.33    1071.76            38.0         51.04\n",
       "19      Finland   2.63    2773.65            50.0        132.08\n",
       "72      Hungary   1.15     877.14            36.0         41.77\n",
       "76    Mauritius   1.02     501.54            23.0         23.88"
      ]
     },
     "execution_count": 28,
     "metadata": {},
     "output_type": "execute_result"
    }
   ],
   "source": [
    "cleaned_df.sort_values(by=['bottle_per_day'], ascending=False).dropna().sample(10)"
   ]
  },
  {
   "cell_type": "code",
   "execution_count": 29,
   "id": "546dcec5",
   "metadata": {},
   "outputs": [],
   "source": [
    "cleaned_df.to_csv(\"merged.csv\",index=False)"
   ]
  },
  {
   "cell_type": "code",
   "execution_count": 30,
   "id": "0f70fcbd",
   "metadata": {},
   "outputs": [
    {
     "data": {
      "text/plain": [
       "<AxesSubplot: ylabel='country'>"
      ]
     },
     "execution_count": 30,
     "metadata": {},
     "output_type": "execute_result"
    },
    {
     "data": {
      "image/png": "[encoded data removed]",
      "text/plain": [
       "<Figure size 640x480 with 1 Axes>"
      ]
     },
     "metadata": {},
     "output_type": "display_data"
    }
   ],
   "source": [
    "cleaned_df.sort_values(by='bottle_per_day').dropna().tail(10)\\\n",
    "    .plot(kind='barh',ylabel='country',y='bottle_per_day',x='country')"
   ]
  },
  {
   "cell_type": "code",
   "execution_count": 31,
   "id": "20dc2abc",
   "metadata": {},
   "outputs": [
    {
     "data": {
      "text/plain": [
       "<AxesSubplot: xlabel='bottle_per_day', ylabel='mo_salary'>"
      ]
     },
     "execution_count": 31,
     "metadata": {},
     "output_type": "execute_result"
    },
    {
     "data": {
      "image/png": "[encoded data removed]",
      "text/plain": [
       "<Figure size 640x480 with 1 Axes>"
      ]
     },
     "metadata": {},
     "output_type": "display_data"
    }
   ],
   "source": [
    "cleaned_df.plot(kind='scatter', y='mo_salary',x='bottle_per_day')"
   ]
  },
  {
   "cell_type": "code",
   "execution_count": null,
   "id": "02759e6e",
   "metadata": {},
   "outputs": [],
   "source": []
  },
  {
   "cell_type": "markdown",
   "id": "a1a58fd2",
   "metadata": {},
   "source": [
    "# Visualization"
   ]
  },
  {
   "cell_type": "code",
   "execution_count": 32,
   "id": "92fc341c",
   "metadata": {},
   "outputs": [
    {
     "name": "stdout",
     "output_type": "stream",
     "text": [
      "The rpy2.ipython extension is already loaded. To reload it, use:\n",
      "  %reload_ext rpy2.ipython\n"
     ]
    }
   ],
   "source": [
    "%load_ext rpy2.ipython"
   ]
  },
  {
   "cell_type": "code",
   "execution_count": 33,
   "id": "e4054c79",
   "metadata": {},
   "outputs": [],
   "source": [
    "import altair as alt"
   ]
  },
  {
   "cell_type": "code",
   "execution_count": 20,
   "id": "cd2af063",
   "metadata": {},
   "outputs": [
    {
     "name": "stderr",
     "output_type": "stream",
     "text": [
      "/Users/tuxinyi/.pyenv/versions/3.11.0rc2/lib/python3.11/site-packages/altair/utils/core.py:317: FutureWarning: iteritems is deprecated and will be removed in a future version. Use .items instead.\n",
      "  for col_name, dtype in df.dtypes.iteritems():\n"
     ]
    },
    {
     "data": {
      "text/html": [
       "\n",
       "<div id=\"altair-viz-798c3d9828de4322945dd24b6d705183\"></div>\n",
       "<script type=\"text/javascript\">\n",
       "  var VEGA_DEBUG = (typeof VEGA_DEBUG == \"undefined\") ? {} : VEGA_DEBUG;\n",
       "  (function(spec, embedOpt){\n",
       "    let outputDiv = document.currentScript.previousElementSibling;\n",
       "    if (outputDiv.id !== \"altair-viz-798c3d9828de4322945dd24b6d705183\") {\n",
       "      outputDiv = document.getElementById(\"altair-viz-798c3d9828de4322945dd24b6d705183\");\n",
       "    }\n",
       "    const paths = {\n",
       "      \"vega\": \"https://cdn.jsdelivr.net/npm//vega@5?noext\",\n",
       "      \"vega-lib\": \"https://cdn.jsdelivr.net/npm//vega-lib?noext\",\n",
       "      \"vega-lite\": \"https://cdn.jsdelivr.net/npm//vega-lite@4.17.0?noext\",\n",
       "      \"vega-embed\": \"https://cdn.jsdelivr.net/npm//vega-embed@6?noext\",\n",
       "    };\n",
       "\n",
       "    function maybeLoadScript(lib, version) {\n",
       "      var key = `${lib.replace(\"-\", \"\")}_version`;\n",
       "      return (VEGA_DEBUG[key] == version) ?\n",
       "        Promise.resolve(paths[lib]) :\n",
       "        new Promise(function(resolve, reject) {\n",
       "          var s = document.createElement('script');\n",
       "          document.getElementsByTagName(\"head\")[0].appendChild(s);\n",
       "          s.async = true;\n",
       "          s.onload = () => {\n",
       "            VEGA_DEBUG[key] = version;\n",
       "            return resolve(paths[lib]);\n",
       "          };\n",
       "          s.onerror = () => reject(`Error loading script: ${paths[lib]}`);\n",
       "          s.src = paths[lib];\n",
       "        });\n",
       "    }\n",
       "\n",
       "    function showError(err) {\n",
       "      outputDiv.innerHTML = `<div class=\"error\" style=\"color:red;\">${err}</div>`;\n",
       "      throw err;\n",
       "    }\n",
       "\n",
       "    function displayChart(vegaEmbed) {\n",
       "      vegaEmbed(outputDiv, spec, embedOpt)\n",
       "        .catch(err => showError(`Javascript Error: ${err.message}<br>This usually means there's a typo in your chart specification. See the javascript console for the full traceback.`));\n",
       "    }\n",
       "\n",
       "    if(typeof define === \"function\" && define.amd) {\n",
       "      requirejs.config({paths});\n",
       "      require([\"vega-embed\"], displayChart, err => showError(`Error loading script: ${err.message}`));\n",
       "    } else {\n",
       "      maybeLoadScript(\"vega\", \"5\")\n",
       "        .then(() => maybeLoadScript(\"vega-lite\", \"4.17.0\"))\n",
       "        .then(() => maybeLoadScript(\"vega-embed\", \"6\"))\n",
       "        .catch(showError)\n",
       "        .then(() => displayChart(vegaEmbed));\n",
       "    }\n",
       "  })({\"config\": {\"view\": {\"continuousWidth\": 400, \"continuousHeight\": 300}}, \"layer\": [{\"mark\": \"bar\", \"encoding\": {\"x\": {\"field\": \"bottle_per_day\", \"type\": \"quantitative\"}, \"y\": {\"field\": \"country\", \"type\": \"nominal\"}}}, {\"mark\": {\"type\": \"text\", \"align\": \"left\", \"baseline\": \"middle\", \"dx\": 3}, \"encoding\": {\"text\": {\"field\": \"bottle_per_day\", \"type\": \"quantitative\"}, \"x\": {\"field\": \"bottle_per_day\", \"type\": \"quantitative\"}, \"y\": {\"field\": \"country\", \"type\": \"nominal\"}}}], \"data\": {\"name\": \"data-1206efadb1ccdf7faa60b08ab880dccd\"}, \"height\": 900, \"$schema\": \"https://vega.github.io/schema/vega-lite/v4.17.0.json\", \"datasets\": {\"data-1206efadb1ccdf7faa60b08ab880dccd\": [{\"country\": \"Kazakhstan\", \"price\": 0.64, \"mo_salary\": 467.31, \"bottle_per_day\": 35.0}, {\"country\": \"Portugal\", \"price\": 1.51, \"mo_salary\": 1067.16, \"bottle_per_day\": 34.0}, {\"country\": \"Greece\", \"price\": 1.92, \"mo_salary\": 881.98, \"bottle_per_day\": 22.0}, {\"country\": \"Latvia\", \"price\": 1.28, \"mo_salary\": 1025.95, \"bottle_per_day\": 38.0}, {\"country\": \"Iran\", \"price\": 0.91, \"mo_salary\": 313.94, \"bottle_per_day\": 16.0}, {\"country\": \"Morocco\", \"price\": 0.5, \"mo_salary\": 382.22, \"bottle_per_day\": 36.0}, {\"country\": \"Panama\", \"price\": 1.47, \"mo_salary\": 770.5, \"bottle_per_day\": 25.0}, {\"country\": \"Guatemala\", \"price\": 1.0, \"mo_salary\": 487.46, \"bottle_per_day\": 23.0}, {\"country\": \"Iraq\", \"price\": 0.43, \"mo_salary\": 557.71, \"bottle_per_day\": 62.0}, {\"country\": \"Chile\", \"price\": 1.34, \"mo_salary\": 680.73, \"bottle_per_day\": 24.0}, {\"country\": \"Nepal\", \"price\": 0.44, \"mo_salary\": 193.09, \"bottle_per_day\": 21.0}, {\"country\": \"Argentina\", \"price\": 1.07, \"mo_salary\": 423.66, \"bottle_per_day\": 19.0}, {\"country\": \"Ukraine\", \"price\": 0.56, \"mo_salary\": 390.91, \"bottle_per_day\": 33.0}, {\"country\": \"Ghana\", \"price\": 0.49, \"mo_salary\": 173.53, \"bottle_per_day\": 17.0}, {\"country\": \"Bahrain\", \"price\": 0.71, \"mo_salary\": 2075.6, \"bottle_per_day\": 139.0}, {\"country\": \"India\", \"price\": 0.43, \"mo_salary\": 566.38, \"bottle_per_day\": 63.0}, {\"country\": \"Canada\", \"price\": 1.83, \"mo_salary\": 3097.26, \"bottle_per_day\": 81.0}, {\"country\": \"Turkey\", \"price\": 0.7, \"mo_salary\": 377.48, \"bottle_per_day\": 26.0}, {\"country\": \"Belgium\", \"price\": 2.68, \"mo_salary\": 2590.81, \"bottle_per_day\": 46.0}, {\"country\": \"Finland\", \"price\": 2.63, \"mo_salary\": 2773.65, \"bottle_per_day\": 50.0}, {\"country\": \"North Macedonia\", \"price\": 1.29, \"mo_salary\": 446.51, \"bottle_per_day\": 16.0}, {\"country\": \"South Africa\", \"price\": 0.9, \"mo_salary\": 1284.09, \"bottle_per_day\": 68.0}, {\"country\": \"Georgia\", \"price\": 0.81, \"mo_salary\": 461.84, \"bottle_per_day\": 27.0}, {\"country\": \"Jamaica\", \"price\": 1.06, \"mo_salary\": 603.4, \"bottle_per_day\": 27.0}, {\"country\": \"Peru\", \"price\": 0.7, \"mo_salary\": 420.87, \"bottle_per_day\": 29.0}, {\"country\": \"Germany\", \"price\": 2.74, \"mo_salary\": 2979.02, \"bottle_per_day\": 52.0}, {\"country\": \"Puerto Rico\", \"price\": 1.42, \"mo_salary\": 1721.56, \"bottle_per_day\": 58.0}, {\"country\": \"United States\", \"price\": 2.29, \"mo_salary\": 4185.35, \"bottle_per_day\": 87.0}, {\"country\": \"Thailand\", \"price\": 0.64, \"mo_salary\": 566.59, \"bottle_per_day\": 42.0}, {\"country\": \"Libya\", \"price\": 0.48, \"mo_salary\": 291.81, \"bottle_per_day\": 29.0}, {\"country\": \"Costa Rica\", \"price\": 1.79, \"mo_salary\": 852.41, \"bottle_per_day\": 23.0}, {\"country\": \"Sweden\", \"price\": 1.92, \"mo_salary\": 2647.89, \"bottle_per_day\": 66.0}, {\"country\": \"Vietnam\", \"price\": 0.54, \"mo_salary\": 444.83, \"bottle_per_day\": 39.0}, {\"country\": \"Poland\", \"price\": 1.33, \"mo_salary\": 1071.76, \"bottle_per_day\": 38.0}, {\"country\": \"Bulgaria\", \"price\": 1.2, \"mo_salary\": 806.4, \"bottle_per_day\": 32.0}, {\"country\": \"Jordan\", \"price\": 0.52, \"mo_salary\": 636.55, \"bottle_per_day\": 58.0}, {\"country\": \"Kuwait\", \"price\": 0.54, \"mo_salary\": 2078.2, \"bottle_per_day\": 183.0}, {\"country\": \"Nigeria\", \"price\": 0.36, \"mo_salary\": 158.66, \"bottle_per_day\": 21.0}, {\"country\": \"Tunisia\", \"price\": 0.51, \"mo_salary\": 293.3, \"bottle_per_day\": 27.0}, {\"country\": \"Croatia\", \"price\": 2.23, \"mo_salary\": 1039.08, \"bottle_per_day\": 22.0}, {\"country\": \"Sri Lanka\", \"price\": 0.42, \"mo_salary\": 153.44, \"bottle_per_day\": 17.0}, {\"country\": \"Uruguay\", \"price\": 2.11, \"mo_salary\": 907.89, \"bottle_per_day\": 20.0}, {\"country\": \"United Kingdom\", \"price\": 1.8, \"mo_salary\": 2828.78, \"bottle_per_day\": 75.0}, {\"country\": \"United Arab Emirates\", \"price\": 1.07, \"mo_salary\": 3569.88, \"bottle_per_day\": 159.0}, {\"country\": \"Kenya\", \"price\": 0.52, \"mo_salary\": 396.67, \"bottle_per_day\": 36.0}, {\"country\": \"Switzerland\", \"price\": 4.5, \"mo_salary\": 5935.58, \"bottle_per_day\": 63.0}, {\"country\": \"Palestine\", \"price\": 0.87, \"mo_salary\": 711.55, \"bottle_per_day\": 39.0}, {\"country\": \"Spain\", \"price\": 2.0, \"mo_salary\": 1840.09, \"bottle_per_day\": 44.0}, {\"country\": \"Lebanon\", \"price\": 1.93, \"mo_salary\": 584.58, \"bottle_per_day\": 14.0}, {\"country\": \"Azerbaijan\", \"price\": 0.5, \"mo_salary\": 355.96, \"bottle_per_day\": 34.0}, {\"country\": \"Venezuela\", \"price\": 1.19, \"mo_salary\": 175.99, \"bottle_per_day\": 7.0}, {\"country\": \"Czech Republic\", \"price\": 1.56, \"mo_salary\": 1539.41, \"bottle_per_day\": 47.0}, {\"country\": \"Guernsey\", \"price\": 2.18, \"mo_salary\": 2901.69, \"bottle_per_day\": 63.0}, {\"country\": \"Israel\", \"price\": 2.74, \"mo_salary\": 2632.57, \"bottle_per_day\": 46.0}, {\"country\": \"Australia\", \"price\": 2.65, \"mo_salary\": 3772.57, \"bottle_per_day\": 68.0}, {\"country\": \"Estonia\", \"price\": 2.06, \"mo_salary\": 1367.12, \"bottle_per_day\": 32.0}, {\"country\": \"Hong Kong\", \"price\": 1.21, \"mo_salary\": 2852.65, \"bottle_per_day\": 112.0}, {\"country\": \"Cyprus\", \"price\": 1.7, \"mo_salary\": 1419.6, \"bottle_per_day\": 40.0}, {\"country\": \"Malaysia\", \"price\": 0.61, \"mo_salary\": 920.98, \"bottle_per_day\": 72.0}, {\"country\": \"Iceland\", \"price\": 2.44, \"mo_salary\": 3850.25, \"bottle_per_day\": 75.0}, {\"country\": \"Oman\", \"price\": 0.81, \"mo_salary\": 2082.23, \"bottle_per_day\": 122.0}, {\"country\": \"Bosnia And Herzegovina\", \"price\": 1.43, \"mo_salary\": 620.76, \"bottle_per_day\": 21.0}, {\"country\": \"Armenia\", \"price\": 0.97, \"mo_salary\": 544.24, \"bottle_per_day\": 27.0}, {\"country\": \"Austria\", \"price\": 2.93, \"mo_salary\": 2559.08, \"bottle_per_day\": 42.0}, {\"country\": \"South Korea\", \"price\": 1.49, \"mo_salary\": 2368.38, \"bottle_per_day\": 76.0}, {\"country\": \"El Salvador\", \"price\": 0.74, \"mo_salary\": 398.21, \"bottle_per_day\": 26.0}, {\"country\": \"Brazil\", \"price\": 1.03, \"mo_salary\": 396.29, \"bottle_per_day\": 18.0}, {\"country\": \"Algeria\", \"price\": 0.49, \"mo_salary\": 264.84, \"bottle_per_day\": 26.0}, {\"country\": \"Slovenia\", \"price\": 2.36, \"mo_salary\": 1288.39, \"bottle_per_day\": 26.0}, {\"country\": \"Colombia\", \"price\": 0.62, \"mo_salary\": 296.78, \"bottle_per_day\": 23.0}, {\"country\": \"Ecuador\", \"price\": 0.83, \"mo_salary\": 501.36, \"bottle_per_day\": 29.0}, {\"country\": \"Kosovo\", \"price\": 1.11, \"mo_salary\": 419.33, \"bottle_per_day\": 18.0}, {\"country\": \"Hungary\", \"price\": 1.15, \"mo_salary\": 877.14, \"bottle_per_day\": 36.0}, {\"country\": \"Japan\", \"price\": 1.14, \"mo_salary\": 2578.83, \"bottle_per_day\": 108.0}, {\"country\": \"Moldova\", \"price\": 0.76, \"mo_salary\": 418.24, \"bottle_per_day\": 26.0}, {\"country\": \"Belarus\", \"price\": 0.81, \"mo_salary\": 512.89, \"bottle_per_day\": 30.0}, {\"country\": \"Mauritius\", \"price\": 1.02, \"mo_salary\": 501.54, \"bottle_per_day\": 23.0}, {\"country\": \"Albania\", \"price\": 1.35, \"mo_salary\": 433.49, \"bottle_per_day\": 15.0}, {\"country\": \"Trinidad And Tobago\", \"price\": 0.97, \"mo_salary\": 786.83, \"bottle_per_day\": 39.0}, {\"country\": \"New Zealand\", \"price\": 2.36, \"mo_salary\": 2987.27, \"bottle_per_day\": 60.0}, {\"country\": \"Italy\", \"price\": 2.44, \"mo_salary\": 1678.48, \"bottle_per_day\": 33.0}, {\"country\": \"Ethiopia\", \"price\": 0.52, \"mo_salary\": 214.22, \"bottle_per_day\": 20.0}, {\"country\": \"Singapore\", \"price\": 1.56, \"mo_salary\": 5009.32, \"bottle_per_day\": 153.0}, {\"country\": \"Egypt\", \"price\": 0.22, \"mo_salary\": 141.28, \"bottle_per_day\": 31.0}, {\"country\": \"Bolivia\", \"price\": 0.85, \"mo_salary\": 449.21, \"bottle_per_day\": 25.0}, {\"country\": \"Malta\", \"price\": 2.08, \"mo_salary\": 1363.61, \"bottle_per_day\": 31.0}, {\"country\": \"Russia\", \"price\": 0.99, \"mo_salary\": 680.93, \"bottle_per_day\": 33.0}, {\"country\": \"Saudi Arabia\", \"price\": 0.75, \"mo_salary\": 1957.03, \"bottle_per_day\": 124.0}, {\"country\": \"Netherlands\", \"price\": 2.72, \"mo_salary\": 3391.88, \"bottle_per_day\": 59.0}, {\"country\": \"Pakistan\", \"price\": 0.2, \"mo_salary\": 136.56, \"bottle_per_day\": 33.0}, {\"country\": \"China\", \"price\": 0.49, \"mo_salary\": 1103.47, \"bottle_per_day\": 107.0}, {\"country\": \"Ireland\", \"price\": 2.13, \"mo_salary\": 2920.02, \"bottle_per_day\": 65.0}, {\"country\": \"Qatar\", \"price\": 1.04, \"mo_salary\": 3977.93, \"bottle_per_day\": 182.0}, {\"country\": \"Slovakia\", \"price\": 1.7, \"mo_salary\": 1032.31, \"bottle_per_day\": 29.0}, {\"country\": \"France\", \"price\": 2.86, \"mo_salary\": 2482.36, \"bottle_per_day\": 41.0}, {\"country\": \"Lithuania\", \"price\": 1.98, \"mo_salary\": 1147.81, \"bottle_per_day\": 28.0}, {\"country\": \"Serbia\", \"price\": 1.4, \"mo_salary\": 598.79, \"bottle_per_day\": 20.0}, {\"country\": \"Romania\", \"price\": 1.46, \"mo_salary\": 776.97, \"bottle_per_day\": 25.0}, {\"country\": \"Philippines\", \"price\": 0.74, \"mo_salary\": 303.29, \"bottle_per_day\": 20.0}, {\"country\": \"Uzbekistan\", \"price\": 0.56, \"mo_salary\": 294.83, \"bottle_per_day\": 25.0}, {\"country\": \"Bangladesh\", \"price\": 0.28, \"mo_salary\": 247.72, \"bottle_per_day\": 42.0}, {\"country\": \"Taiwan\", \"price\": 1.04, \"mo_salary\": 1543.73, \"bottle_per_day\": 71.0}, {\"country\": \"Norway\", \"price\": 3.14, \"mo_salary\": 3415.1, \"bottle_per_day\": 52.0}, {\"country\": \"Denmark\", \"price\": 3.47, \"mo_salary\": 3511.97, \"bottle_per_day\": 48.0}, {\"country\": \"Dominican Republic\", \"price\": 0.92, \"mo_salary\": 369.87, \"bottle_per_day\": 19.0}, {\"country\": \"Mexico\", \"price\": 0.99, \"mo_salary\": 677.77, \"bottle_per_day\": 33.0}, {\"country\": \"Montenegro\", \"price\": 2.04, \"mo_salary\": 653.89, \"bottle_per_day\": 15.0}, {\"country\": \"Indonesia\", \"price\": 0.6, \"mo_salary\": 343.55, \"bottle_per_day\": 27.0}]}}, {\"mode\": \"vega-lite\"});\n",
       "</script>"
      ],
      "text/plain": [
       "alt.LayerChart(...)"
      ]
     },
     "execution_count": 20,
     "metadata": {},
     "output_type": "execute_result"
    }
   ],
   "source": [
    "bars = alt.Chart(cleaned_df).mark_bar().encode(x='bottle_per_day',y=\"country\")\n",
    "\n",
    "text = bars.mark_text(align='left',baseline='middle',dx=3)\\\n",
    ".encode(text='bottle_per_day')\n",
    "\n",
    "(bars + text).properties(height=900)"
   ]
  },
  {
   "cell_type": "code",
   "execution_count": 21,
   "id": "51fafbd5",
   "metadata": {},
   "outputs": [
    {
     "data": {
      "text/html": [
       "\n",
       "<div id=\"altair-viz-6470e032783f44ceb34d50ba9ab429e6\"></div>\n",
       "<script type=\"text/javascript\">\n",
       "  var VEGA_DEBUG = (typeof VEGA_DEBUG == \"undefined\") ? {} : VEGA_DEBUG;\n",
       "  (function(spec, embedOpt){\n",
       "    let outputDiv = document.currentScript.previousElementSibling;\n",
       "    if (outputDiv.id !== \"altair-viz-6470e032783f44ceb34d50ba9ab429e6\") {\n",
       "      outputDiv = document.getElementById(\"altair-viz-6470e032783f44ceb34d50ba9ab429e6\");\n",
       "    }\n",
       "    const paths = {\n",
       "      \"vega\": \"https://cdn.jsdelivr.net/npm//vega@5?noext\",\n",
       "      \"vega-lib\": \"https://cdn.jsdelivr.net/npm//vega-lib?noext\",\n",
       "      \"vega-lite\": \"https://cdn.jsdelivr.net/npm//vega-lite@4.17.0?noext\",\n",
       "      \"vega-embed\": \"https://cdn.jsdelivr.net/npm//vega-embed@6?noext\",\n",
       "    };\n",
       "\n",
       "    function maybeLoadScript(lib, version) {\n",
       "      var key = `${lib.replace(\"-\", \"\")}_version`;\n",
       "      return (VEGA_DEBUG[key] == version) ?\n",
       "        Promise.resolve(paths[lib]) :\n",
       "        new Promise(function(resolve, reject) {\n",
       "          var s = document.createElement('script');\n",
       "          document.getElementsByTagName(\"head\")[0].appendChild(s);\n",
       "          s.async = true;\n",
       "          s.onload = () => {\n",
       "            VEGA_DEBUG[key] = version;\n",
       "            return resolve(paths[lib]);\n",
       "          };\n",
       "          s.onerror = () => reject(`Error loading script: ${paths[lib]}`);\n",
       "          s.src = paths[lib];\n",
       "        });\n",
       "    }\n",
       "\n",
       "    function showError(err) {\n",
       "      outputDiv.innerHTML = `<div class=\"error\" style=\"color:red;\">${err}</div>`;\n",
       "      throw err;\n",
       "    }\n",
       "\n",
       "    function displayChart(vegaEmbed) {\n",
       "      vegaEmbed(outputDiv, spec, embedOpt)\n",
       "        .catch(err => showError(`Javascript Error: ${err.message}<br>This usually means there's a typo in your chart specification. See the javascript console for the full traceback.`));\n",
       "    }\n",
       "\n",
       "    if(typeof define === \"function\" && define.amd) {\n",
       "      requirejs.config({paths});\n",
       "      require([\"vega-embed\"], displayChart, err => showError(`Error loading script: ${err.message}`));\n",
       "    } else {\n",
       "      maybeLoadScript(\"vega\", \"5\")\n",
       "        .then(() => maybeLoadScript(\"vega-lite\", \"4.17.0\"))\n",
       "        .then(() => maybeLoadScript(\"vega-embed\", \"6\"))\n",
       "        .catch(showError)\n",
       "        .then(() => displayChart(vegaEmbed));\n",
       "    }\n",
       "  })({\"config\": {\"view\": {\"continuousWidth\": 400, \"continuousHeight\": 300}}, \"layer\": [{\"mark\": \"bar\", \"encoding\": {\"color\": {\"value\": \"#fa253b\"}, \"x\": {\"field\": \"bottle_per_day\", \"type\": \"quantitative\"}, \"y\": {\"field\": \"country\", \"sort\": \"-x\", \"type\": \"nominal\"}}, \"transform\": [{\"window\": [{\"op\": \"rank\", \"field\": \"bottle_per_day\", \"as\": \"rank\"}], \"sort\": [{\"field\": \"bottle_per_day\", \"order\": \"descending\"}]}, {\"filter\": \"(datum.rank <= 10)\"}]}, {\"mark\": {\"type\": \"text\", \"align\": \"left\", \"baseline\": \"middle\", \"dx\": 3}, \"encoding\": {\"color\": {\"value\": \"#1E1E1E\"}, \"text\": {\"field\": \"bottle_per_day\", \"type\": \"quantitative\"}, \"x\": {\"field\": \"bottle_per_day\", \"type\": \"quantitative\"}, \"y\": {\"field\": \"country\", \"sort\": \"-x\", \"type\": \"nominal\"}}, \"transform\": [{\"window\": [{\"op\": \"rank\", \"field\": \"bottle_per_day\", \"as\": \"rank\"}], \"sort\": [{\"field\": \"bottle_per_day\", \"order\": \"descending\"}]}, {\"filter\": \"(datum.rank <= 10)\"}]}], \"data\": {\"name\": \"data-1206efadb1ccdf7faa60b08ab880dccd\"}, \"$schema\": \"https://vega.github.io/schema/vega-lite/v4.17.0.json\", \"datasets\": {\"data-1206efadb1ccdf7faa60b08ab880dccd\": [{\"country\": \"Kazakhstan\", \"price\": 0.64, \"mo_salary\": 467.31, \"bottle_per_day\": 35.0}, {\"country\": \"Portugal\", \"price\": 1.51, \"mo_salary\": 1067.16, \"bottle_per_day\": 34.0}, {\"country\": \"Greece\", \"price\": 1.92, \"mo_salary\": 881.98, \"bottle_per_day\": 22.0}, {\"country\": \"Latvia\", \"price\": 1.28, \"mo_salary\": 1025.95, \"bottle_per_day\": 38.0}, {\"country\": \"Iran\", \"price\": 0.91, \"mo_salary\": 313.94, \"bottle_per_day\": 16.0}, {\"country\": \"Morocco\", \"price\": 0.5, \"mo_salary\": 382.22, \"bottle_per_day\": 36.0}, {\"country\": \"Panama\", \"price\": 1.47, \"mo_salary\": 770.5, \"bottle_per_day\": 25.0}, {\"country\": \"Guatemala\", \"price\": 1.0, \"mo_salary\": 487.46, \"bottle_per_day\": 23.0}, {\"country\": \"Iraq\", \"price\": 0.43, \"mo_salary\": 557.71, \"bottle_per_day\": 62.0}, {\"country\": \"Chile\", \"price\": 1.34, \"mo_salary\": 680.73, \"bottle_per_day\": 24.0}, {\"country\": \"Nepal\", \"price\": 0.44, \"mo_salary\": 193.09, \"bottle_per_day\": 21.0}, {\"country\": \"Argentina\", \"price\": 1.07, \"mo_salary\": 423.66, \"bottle_per_day\": 19.0}, {\"country\": \"Ukraine\", \"price\": 0.56, \"mo_salary\": 390.91, \"bottle_per_day\": 33.0}, {\"country\": \"Ghana\", \"price\": 0.49, \"mo_salary\": 173.53, \"bottle_per_day\": 17.0}, {\"country\": \"Bahrain\", \"price\": 0.71, \"mo_salary\": 2075.6, \"bottle_per_day\": 139.0}, {\"country\": \"India\", \"price\": 0.43, \"mo_salary\": 566.38, \"bottle_per_day\": 63.0}, {\"country\": \"Canada\", \"price\": 1.83, \"mo_salary\": 3097.26, \"bottle_per_day\": 81.0}, {\"country\": \"Turkey\", \"price\": 0.7, \"mo_salary\": 377.48, \"bottle_per_day\": 26.0}, {\"country\": \"Belgium\", \"price\": 2.68, \"mo_salary\": 2590.81, \"bottle_per_day\": 46.0}, {\"country\": \"Finland\", \"price\": 2.63, \"mo_salary\": 2773.65, \"bottle_per_day\": 50.0}, {\"country\": \"North Macedonia\", \"price\": 1.29, \"mo_salary\": 446.51, \"bottle_per_day\": 16.0}, {\"country\": \"South Africa\", \"price\": 0.9, \"mo_salary\": 1284.09, \"bottle_per_day\": 68.0}, {\"country\": \"Georgia\", \"price\": 0.81, \"mo_salary\": 461.84, \"bottle_per_day\": 27.0}, {\"country\": \"Jamaica\", \"price\": 1.06, \"mo_salary\": 603.4, \"bottle_per_day\": 27.0}, {\"country\": \"Peru\", \"price\": 0.7, \"mo_salary\": 420.87, \"bottle_per_day\": 29.0}, {\"country\": \"Germany\", \"price\": 2.74, \"mo_salary\": 2979.02, \"bottle_per_day\": 52.0}, {\"country\": \"Puerto Rico\", \"price\": 1.42, \"mo_salary\": 1721.56, \"bottle_per_day\": 58.0}, {\"country\": \"United States\", \"price\": 2.29, \"mo_salary\": 4185.35, \"bottle_per_day\": 87.0}, {\"country\": \"Thailand\", \"price\": 0.64, \"mo_salary\": 566.59, \"bottle_per_day\": 42.0}, {\"country\": \"Libya\", \"price\": 0.48, \"mo_salary\": 291.81, \"bottle_per_day\": 29.0}, {\"country\": \"Costa Rica\", \"price\": 1.79, \"mo_salary\": 852.41, \"bottle_per_day\": 23.0}, {\"country\": \"Sweden\", \"price\": 1.92, \"mo_salary\": 2647.89, \"bottle_per_day\": 66.0}, {\"country\": \"Vietnam\", \"price\": 0.54, \"mo_salary\": 444.83, \"bottle_per_day\": 39.0}, {\"country\": \"Poland\", \"price\": 1.33, \"mo_salary\": 1071.76, \"bottle_per_day\": 38.0}, {\"country\": \"Bulgaria\", \"price\": 1.2, \"mo_salary\": 806.4, \"bottle_per_day\": 32.0}, {\"country\": \"Jordan\", \"price\": 0.52, \"mo_salary\": 636.55, \"bottle_per_day\": 58.0}, {\"country\": \"Kuwait\", \"price\": 0.54, \"mo_salary\": 2078.2, \"bottle_per_day\": 183.0}, {\"country\": \"Nigeria\", \"price\": 0.36, \"mo_salary\": 158.66, \"bottle_per_day\": 21.0}, {\"country\": \"Tunisia\", \"price\": 0.51, \"mo_salary\": 293.3, \"bottle_per_day\": 27.0}, {\"country\": \"Croatia\", \"price\": 2.23, \"mo_salary\": 1039.08, \"bottle_per_day\": 22.0}, {\"country\": \"Sri Lanka\", \"price\": 0.42, \"mo_salary\": 153.44, \"bottle_per_day\": 17.0}, {\"country\": \"Uruguay\", \"price\": 2.11, \"mo_salary\": 907.89, \"bottle_per_day\": 20.0}, {\"country\": \"United Kingdom\", \"price\": 1.8, \"mo_salary\": 2828.78, \"bottle_per_day\": 75.0}, {\"country\": \"United Arab Emirates\", \"price\": 1.07, \"mo_salary\": 3569.88, \"bottle_per_day\": 159.0}, {\"country\": \"Kenya\", \"price\": 0.52, \"mo_salary\": 396.67, \"bottle_per_day\": 36.0}, {\"country\": \"Switzerland\", \"price\": 4.5, \"mo_salary\": 5935.58, \"bottle_per_day\": 63.0}, {\"country\": \"Palestine\", \"price\": 0.87, \"mo_salary\": 711.55, \"bottle_per_day\": 39.0}, {\"country\": \"Spain\", \"price\": 2.0, \"mo_salary\": 1840.09, \"bottle_per_day\": 44.0}, {\"country\": \"Lebanon\", \"price\": 1.93, \"mo_salary\": 584.58, \"bottle_per_day\": 14.0}, {\"country\": \"Azerbaijan\", \"price\": 0.5, \"mo_salary\": 355.96, \"bottle_per_day\": 34.0}, {\"country\": \"Venezuela\", \"price\": 1.19, \"mo_salary\": 175.99, \"bottle_per_day\": 7.0}, {\"country\": \"Czech Republic\", \"price\": 1.56, \"mo_salary\": 1539.41, \"bottle_per_day\": 47.0}, {\"country\": \"Guernsey\", \"price\": 2.18, \"mo_salary\": 2901.69, \"bottle_per_day\": 63.0}, {\"country\": \"Israel\", \"price\": 2.74, \"mo_salary\": 2632.57, \"bottle_per_day\": 46.0}, {\"country\": \"Australia\", \"price\": 2.65, \"mo_salary\": 3772.57, \"bottle_per_day\": 68.0}, {\"country\": \"Estonia\", \"price\": 2.06, \"mo_salary\": 1367.12, \"bottle_per_day\": 32.0}, {\"country\": \"Hong Kong\", \"price\": 1.21, \"mo_salary\": 2852.65, \"bottle_per_day\": 112.0}, {\"country\": \"Cyprus\", \"price\": 1.7, \"mo_salary\": 1419.6, \"bottle_per_day\": 40.0}, {\"country\": \"Malaysia\", \"price\": 0.61, \"mo_salary\": 920.98, \"bottle_per_day\": 72.0}, {\"country\": \"Iceland\", \"price\": 2.44, \"mo_salary\": 3850.25, \"bottle_per_day\": 75.0}, {\"country\": \"Oman\", \"price\": 0.81, \"mo_salary\": 2082.23, \"bottle_per_day\": 122.0}, {\"country\": \"Bosnia And Herzegovina\", \"price\": 1.43, \"mo_salary\": 620.76, \"bottle_per_day\": 21.0}, {\"country\": \"Armenia\", \"price\": 0.97, \"mo_salary\": 544.24, \"bottle_per_day\": 27.0}, {\"country\": \"Austria\", \"price\": 2.93, \"mo_salary\": 2559.08, \"bottle_per_day\": 42.0}, {\"country\": \"South Korea\", \"price\": 1.49, \"mo_salary\": 2368.38, \"bottle_per_day\": 76.0}, {\"country\": \"El Salvador\", \"price\": 0.74, \"mo_salary\": 398.21, \"bottle_per_day\": 26.0}, {\"country\": \"Brazil\", \"price\": 1.03, \"mo_salary\": 396.29, \"bottle_per_day\": 18.0}, {\"country\": \"Algeria\", \"price\": 0.49, \"mo_salary\": 264.84, \"bottle_per_day\": 26.0}, {\"country\": \"Slovenia\", \"price\": 2.36, \"mo_salary\": 1288.39, \"bottle_per_day\": 26.0}, {\"country\": \"Colombia\", \"price\": 0.62, \"mo_salary\": 296.78, \"bottle_per_day\": 23.0}, {\"country\": \"Ecuador\", \"price\": 0.83, \"mo_salary\": 501.36, \"bottle_per_day\": 29.0}, {\"country\": \"Kosovo\", \"price\": 1.11, \"mo_salary\": 419.33, \"bottle_per_day\": 18.0}, {\"country\": \"Hungary\", \"price\": 1.15, \"mo_salary\": 877.14, \"bottle_per_day\": 36.0}, {\"country\": \"Japan\", \"price\": 1.14, \"mo_salary\": 2578.83, \"bottle_per_day\": 108.0}, {\"country\": \"Moldova\", \"price\": 0.76, \"mo_salary\": 418.24, \"bottle_per_day\": 26.0}, {\"country\": \"Belarus\", \"price\": 0.81, \"mo_salary\": 512.89, \"bottle_per_day\": 30.0}, {\"country\": \"Mauritius\", \"price\": 1.02, \"mo_salary\": 501.54, \"bottle_per_day\": 23.0}, {\"country\": \"Albania\", \"price\": 1.35, \"mo_salary\": 433.49, \"bottle_per_day\": 15.0}, {\"country\": \"Trinidad And Tobago\", \"price\": 0.97, \"mo_salary\": 786.83, \"bottle_per_day\": 39.0}, {\"country\": \"New Zealand\", \"price\": 2.36, \"mo_salary\": 2987.27, \"bottle_per_day\": 60.0}, {\"country\": \"Italy\", \"price\": 2.44, \"mo_salary\": 1678.48, \"bottle_per_day\": 33.0}, {\"country\": \"Ethiopia\", \"price\": 0.52, \"mo_salary\": 214.22, \"bottle_per_day\": 20.0}, {\"country\": \"Singapore\", \"price\": 1.56, \"mo_salary\": 5009.32, \"bottle_per_day\": 153.0}, {\"country\": \"Egypt\", \"price\": 0.22, \"mo_salary\": 141.28, \"bottle_per_day\": 31.0}, {\"country\": \"Bolivia\", \"price\": 0.85, \"mo_salary\": 449.21, \"bottle_per_day\": 25.0}, {\"country\": \"Malta\", \"price\": 2.08, \"mo_salary\": 1363.61, \"bottle_per_day\": 31.0}, {\"country\": \"Russia\", \"price\": 0.99, \"mo_salary\": 680.93, \"bottle_per_day\": 33.0}, {\"country\": \"Saudi Arabia\", \"price\": 0.75, \"mo_salary\": 1957.03, \"bottle_per_day\": 124.0}, {\"country\": \"Netherlands\", \"price\": 2.72, \"mo_salary\": 3391.88, \"bottle_per_day\": 59.0}, {\"country\": \"Pakistan\", \"price\": 0.2, \"mo_salary\": 136.56, \"bottle_per_day\": 33.0}, {\"country\": \"China\", \"price\": 0.49, \"mo_salary\": 1103.47, \"bottle_per_day\": 107.0}, {\"country\": \"Ireland\", \"price\": 2.13, \"mo_salary\": 2920.02, \"bottle_per_day\": 65.0}, {\"country\": \"Qatar\", \"price\": 1.04, \"mo_salary\": 3977.93, \"bottle_per_day\": 182.0}, {\"country\": \"Slovakia\", \"price\": 1.7, \"mo_salary\": 1032.31, \"bottle_per_day\": 29.0}, {\"country\": \"France\", \"price\": 2.86, \"mo_salary\": 2482.36, \"bottle_per_day\": 41.0}, {\"country\": \"Lithuania\", \"price\": 1.98, \"mo_salary\": 1147.81, \"bottle_per_day\": 28.0}, {\"country\": \"Serbia\", \"price\": 1.4, \"mo_salary\": 598.79, \"bottle_per_day\": 20.0}, {\"country\": \"Romania\", \"price\": 1.46, \"mo_salary\": 776.97, \"bottle_per_day\": 25.0}, {\"country\": \"Philippines\", \"price\": 0.74, \"mo_salary\": 303.29, \"bottle_per_day\": 20.0}, {\"country\": \"Uzbekistan\", \"price\": 0.56, \"mo_salary\": 294.83, \"bottle_per_day\": 25.0}, {\"country\": \"Bangladesh\", \"price\": 0.28, \"mo_salary\": 247.72, \"bottle_per_day\": 42.0}, {\"country\": \"Taiwan\", \"price\": 1.04, \"mo_salary\": 1543.73, \"bottle_per_day\": 71.0}, {\"country\": \"Norway\", \"price\": 3.14, \"mo_salary\": 3415.1, \"bottle_per_day\": 52.0}, {\"country\": \"Denmark\", \"price\": 3.47, \"mo_salary\": 3511.97, \"bottle_per_day\": 48.0}, {\"country\": \"Dominican Republic\", \"price\": 0.92, \"mo_salary\": 369.87, \"bottle_per_day\": 19.0}, {\"country\": \"Mexico\", \"price\": 0.99, \"mo_salary\": 677.77, \"bottle_per_day\": 33.0}, {\"country\": \"Montenegro\", \"price\": 2.04, \"mo_salary\": 653.89, \"bottle_per_day\": 15.0}, {\"country\": \"Indonesia\", \"price\": 0.6, \"mo_salary\": 343.55, \"bottle_per_day\": 27.0}]}}, {\"mode\": \"vega-lite\"});\n",
       "</script>"
      ],
      "text/plain": [
       "alt.LayerChart(...)"
      ]
     },
     "execution_count": 21,
     "metadata": {},
     "output_type": "execute_result"
    }
   ],
   "source": [
    "# TOP TEN COUNTRIES\n",
    "bars= alt.Chart(cleaned_df).transform_window(\n",
    "    rank='rank(bottle_per_day)',\n",
    "    sort=[alt.SortField('bottle_per_day', order='descending')]\n",
    ").transform_filter(\n",
    "    alt.datum.rank <= 10\n",
    ").mark_bar().encode(\n",
    "    x='bottle_per_day',\n",
    "    y=alt.Y('country',sort='-x'),color=alt.value('#fa253b'))\n",
    "\n",
    "text = bars.mark_text(\n",
    "    align='left',\n",
    "    baseline='middle',\n",
    "    dx=3).encode(\n",
    "    text='bottle_per_day',color=alt.value('#1E1E1E'))\n",
    "\n",
    "bars + text\n"
   ]
  },
  {
   "cell_type": "code",
   "execution_count": 22,
   "id": "5a5b5c88",
   "metadata": {},
   "outputs": [
    {
     "data": {
      "text/html": [
       "\n",
       "<div id=\"altair-viz-ed44dc7b55f84779ac6ea90b90833199\"></div>\n",
       "<script type=\"text/javascript\">\n",
       "  var VEGA_DEBUG = (typeof VEGA_DEBUG == \"undefined\") ? {} : VEGA_DEBUG;\n",
       "  (function(spec, embedOpt){\n",
       "    let outputDiv = document.currentScript.previousElementSibling;\n",
       "    if (outputDiv.id !== \"altair-viz-ed44dc7b55f84779ac6ea90b90833199\") {\n",
       "      outputDiv = document.getElementById(\"altair-viz-ed44dc7b55f84779ac6ea90b90833199\");\n",
       "    }\n",
       "    const paths = {\n",
       "      \"vega\": \"https://cdn.jsdelivr.net/npm//vega@5?noext\",\n",
       "      \"vega-lib\": \"https://cdn.jsdelivr.net/npm//vega-lib?noext\",\n",
       "      \"vega-lite\": \"https://cdn.jsdelivr.net/npm//vega-lite@4.17.0?noext\",\n",
       "      \"vega-embed\": \"https://cdn.jsdelivr.net/npm//vega-embed@6?noext\",\n",
       "    };\n",
       "\n",
       "    function maybeLoadScript(lib, version) {\n",
       "      var key = `${lib.replace(\"-\", \"\")}_version`;\n",
       "      return (VEGA_DEBUG[key] == version) ?\n",
       "        Promise.resolve(paths[lib]) :\n",
       "        new Promise(function(resolve, reject) {\n",
       "          var s = document.createElement('script');\n",
       "          document.getElementsByTagName(\"head\")[0].appendChild(s);\n",
       "          s.async = true;\n",
       "          s.onload = () => {\n",
       "            VEGA_DEBUG[key] = version;\n",
       "            return resolve(paths[lib]);\n",
       "          };\n",
       "          s.onerror = () => reject(`Error loading script: ${paths[lib]}`);\n",
       "          s.src = paths[lib];\n",
       "        });\n",
       "    }\n",
       "\n",
       "    function showError(err) {\n",
       "      outputDiv.innerHTML = `<div class=\"error\" style=\"color:red;\">${err}</div>`;\n",
       "      throw err;\n",
       "    }\n",
       "\n",
       "    function displayChart(vegaEmbed) {\n",
       "      vegaEmbed(outputDiv, spec, embedOpt)\n",
       "        .catch(err => showError(`Javascript Error: ${err.message}<br>This usually means there's a typo in your chart specification. See the javascript console for the full traceback.`));\n",
       "    }\n",
       "\n",
       "    if(typeof define === \"function\" && define.amd) {\n",
       "      requirejs.config({paths});\n",
       "      require([\"vega-embed\"], displayChart, err => showError(`Error loading script: ${err.message}`));\n",
       "    } else {\n",
       "      maybeLoadScript(\"vega\", \"5\")\n",
       "        .then(() => maybeLoadScript(\"vega-lite\", \"4.17.0\"))\n",
       "        .then(() => maybeLoadScript(\"vega-embed\", \"6\"))\n",
       "        .catch(showError)\n",
       "        .then(() => displayChart(vegaEmbed));\n",
       "    }\n",
       "  })({\"config\": {\"view\": {\"continuousWidth\": 400, \"continuousHeight\": 300}}, \"layer\": [{\"mark\": \"bar\", \"encoding\": {\"color\": {\"value\": \"#fa253b\"}, \"x\": {\"field\": \"bottle_per_day\", \"type\": \"quantitative\"}, \"y\": {\"field\": \"country\", \"sort\": \"-x\", \"type\": \"nominal\"}}, \"transform\": [{\"window\": [{\"op\": \"rank\", \"field\": \"bottle_per_day\", \"as\": \"rank\"}], \"sort\": [{\"field\": \"bottle_per_day\", \"order\": \"ascending\"}]}, {\"filter\": \"(datum.rank <= 10)\"}]}, {\"mark\": {\"type\": \"text\", \"align\": \"left\", \"baseline\": \"middle\", \"dx\": 3}, \"encoding\": {\"color\": {\"value\": \"#1E1E1E\"}, \"text\": {\"field\": \"bottle_per_day\", \"type\": \"quantitative\"}, \"x\": {\"field\": \"bottle_per_day\", \"type\": \"quantitative\"}, \"y\": {\"field\": \"country\", \"sort\": \"-x\", \"type\": \"nominal\"}}, \"transform\": [{\"window\": [{\"op\": \"rank\", \"field\": \"bottle_per_day\", \"as\": \"rank\"}], \"sort\": [{\"field\": \"bottle_per_day\", \"order\": \"ascending\"}]}, {\"filter\": \"(datum.rank <= 10)\"}]}], \"data\": {\"name\": \"data-1206efadb1ccdf7faa60b08ab880dccd\"}, \"$schema\": \"https://vega.github.io/schema/vega-lite/v4.17.0.json\", \"datasets\": {\"data-1206efadb1ccdf7faa60b08ab880dccd\": [{\"country\": \"Kazakhstan\", \"price\": 0.64, \"mo_salary\": 467.31, \"bottle_per_day\": 35.0}, {\"country\": \"Portugal\", \"price\": 1.51, \"mo_salary\": 1067.16, \"bottle_per_day\": 34.0}, {\"country\": \"Greece\", \"price\": 1.92, \"mo_salary\": 881.98, \"bottle_per_day\": 22.0}, {\"country\": \"Latvia\", \"price\": 1.28, \"mo_salary\": 1025.95, \"bottle_per_day\": 38.0}, {\"country\": \"Iran\", \"price\": 0.91, \"mo_salary\": 313.94, \"bottle_per_day\": 16.0}, {\"country\": \"Morocco\", \"price\": 0.5, \"mo_salary\": 382.22, \"bottle_per_day\": 36.0}, {\"country\": \"Panama\", \"price\": 1.47, \"mo_salary\": 770.5, \"bottle_per_day\": 25.0}, {\"country\": \"Guatemala\", \"price\": 1.0, \"mo_salary\": 487.46, \"bottle_per_day\": 23.0}, {\"country\": \"Iraq\", \"price\": 0.43, \"mo_salary\": 557.71, \"bottle_per_day\": 62.0}, {\"country\": \"Chile\", \"price\": 1.34, \"mo_salary\": 680.73, \"bottle_per_day\": 24.0}, {\"country\": \"Nepal\", \"price\": 0.44, \"mo_salary\": 193.09, \"bottle_per_day\": 21.0}, {\"country\": \"Argentina\", \"price\": 1.07, \"mo_salary\": 423.66, \"bottle_per_day\": 19.0}, {\"country\": \"Ukraine\", \"price\": 0.56, \"mo_salary\": 390.91, \"bottle_per_day\": 33.0}, {\"country\": \"Ghana\", \"price\": 0.49, \"mo_salary\": 173.53, \"bottle_per_day\": 17.0}, {\"country\": \"Bahrain\", \"price\": 0.71, \"mo_salary\": 2075.6, \"bottle_per_day\": 139.0}, {\"country\": \"India\", \"price\": 0.43, \"mo_salary\": 566.38, \"bottle_per_day\": 63.0}, {\"country\": \"Canada\", \"price\": 1.83, \"mo_salary\": 3097.26, \"bottle_per_day\": 81.0}, {\"country\": \"Turkey\", \"price\": 0.7, \"mo_salary\": 377.48, \"bottle_per_day\": 26.0}, {\"country\": \"Belgium\", \"price\": 2.68, \"mo_salary\": 2590.81, \"bottle_per_day\": 46.0}, {\"country\": \"Finland\", \"price\": 2.63, \"mo_salary\": 2773.65, \"bottle_per_day\": 50.0}, {\"country\": \"North Macedonia\", \"price\": 1.29, \"mo_salary\": 446.51, \"bottle_per_day\": 16.0}, {\"country\": \"South Africa\", \"price\": 0.9, \"mo_salary\": 1284.09, \"bottle_per_day\": 68.0}, {\"country\": \"Georgia\", \"price\": 0.81, \"mo_salary\": 461.84, \"bottle_per_day\": 27.0}, {\"country\": \"Jamaica\", \"price\": 1.06, \"mo_salary\": 603.4, \"bottle_per_day\": 27.0}, {\"country\": \"Peru\", \"price\": 0.7, \"mo_salary\": 420.87, \"bottle_per_day\": 29.0}, {\"country\": \"Germany\", \"price\": 2.74, \"mo_salary\": 2979.02, \"bottle_per_day\": 52.0}, {\"country\": \"Puerto Rico\", \"price\": 1.42, \"mo_salary\": 1721.56, \"bottle_per_day\": 58.0}, {\"country\": \"United States\", \"price\": 2.29, \"mo_salary\": 4185.35, \"bottle_per_day\": 87.0}, {\"country\": \"Thailand\", \"price\": 0.64, \"mo_salary\": 566.59, \"bottle_per_day\": 42.0}, {\"country\": \"Libya\", \"price\": 0.48, \"mo_salary\": 291.81, \"bottle_per_day\": 29.0}, {\"country\": \"Costa Rica\", \"price\": 1.79, \"mo_salary\": 852.41, \"bottle_per_day\": 23.0}, {\"country\": \"Sweden\", \"price\": 1.92, \"mo_salary\": 2647.89, \"bottle_per_day\": 66.0}, {\"country\": \"Vietnam\", \"price\": 0.54, \"mo_salary\": 444.83, \"bottle_per_day\": 39.0}, {\"country\": \"Poland\", \"price\": 1.33, \"mo_salary\": 1071.76, \"bottle_per_day\": 38.0}, {\"country\": \"Bulgaria\", \"price\": 1.2, \"mo_salary\": 806.4, \"bottle_per_day\": 32.0}, {\"country\": \"Jordan\", \"price\": 0.52, \"mo_salary\": 636.55, \"bottle_per_day\": 58.0}, {\"country\": \"Kuwait\", \"price\": 0.54, \"mo_salary\": 2078.2, \"bottle_per_day\": 183.0}, {\"country\": \"Nigeria\", \"price\": 0.36, \"mo_salary\": 158.66, \"bottle_per_day\": 21.0}, {\"country\": \"Tunisia\", \"price\": 0.51, \"mo_salary\": 293.3, \"bottle_per_day\": 27.0}, {\"country\": \"Croatia\", \"price\": 2.23, \"mo_salary\": 1039.08, \"bottle_per_day\": 22.0}, {\"country\": \"Sri Lanka\", \"price\": 0.42, \"mo_salary\": 153.44, \"bottle_per_day\": 17.0}, {\"country\": \"Uruguay\", \"price\": 2.11, \"mo_salary\": 907.89, \"bottle_per_day\": 20.0}, {\"country\": \"United Kingdom\", \"price\": 1.8, \"mo_salary\": 2828.78, \"bottle_per_day\": 75.0}, {\"country\": \"United Arab Emirates\", \"price\": 1.07, \"mo_salary\": 3569.88, \"bottle_per_day\": 159.0}, {\"country\": \"Kenya\", \"price\": 0.52, \"mo_salary\": 396.67, \"bottle_per_day\": 36.0}, {\"country\": \"Switzerland\", \"price\": 4.5, \"mo_salary\": 5935.58, \"bottle_per_day\": 63.0}, {\"country\": \"Palestine\", \"price\": 0.87, \"mo_salary\": 711.55, \"bottle_per_day\": 39.0}, {\"country\": \"Spain\", \"price\": 2.0, \"mo_salary\": 1840.09, \"bottle_per_day\": 44.0}, {\"country\": \"Lebanon\", \"price\": 1.93, \"mo_salary\": 584.58, \"bottle_per_day\": 14.0}, {\"country\": \"Azerbaijan\", \"price\": 0.5, \"mo_salary\": 355.96, \"bottle_per_day\": 34.0}, {\"country\": \"Venezuela\", \"price\": 1.19, \"mo_salary\": 175.99, \"bottle_per_day\": 7.0}, {\"country\": \"Czech Republic\", \"price\": 1.56, \"mo_salary\": 1539.41, \"bottle_per_day\": 47.0}, {\"country\": \"Guernsey\", \"price\": 2.18, \"mo_salary\": 2901.69, \"bottle_per_day\": 63.0}, {\"country\": \"Israel\", \"price\": 2.74, \"mo_salary\": 2632.57, \"bottle_per_day\": 46.0}, {\"country\": \"Australia\", \"price\": 2.65, \"mo_salary\": 3772.57, \"bottle_per_day\": 68.0}, {\"country\": \"Estonia\", \"price\": 2.06, \"mo_salary\": 1367.12, \"bottle_per_day\": 32.0}, {\"country\": \"Hong Kong\", \"price\": 1.21, \"mo_salary\": 2852.65, \"bottle_per_day\": 112.0}, {\"country\": \"Cyprus\", \"price\": 1.7, \"mo_salary\": 1419.6, \"bottle_per_day\": 40.0}, {\"country\": \"Malaysia\", \"price\": 0.61, \"mo_salary\": 920.98, \"bottle_per_day\": 72.0}, {\"country\": \"Iceland\", \"price\": 2.44, \"mo_salary\": 3850.25, \"bottle_per_day\": 75.0}, {\"country\": \"Oman\", \"price\": 0.81, \"mo_salary\": 2082.23, \"bottle_per_day\": 122.0}, {\"country\": \"Bosnia And Herzegovina\", \"price\": 1.43, \"mo_salary\": 620.76, \"bottle_per_day\": 21.0}, {\"country\": \"Armenia\", \"price\": 0.97, \"mo_salary\": 544.24, \"bottle_per_day\": 27.0}, {\"country\": \"Austria\", \"price\": 2.93, \"mo_salary\": 2559.08, \"bottle_per_day\": 42.0}, {\"country\": \"South Korea\", \"price\": 1.49, \"mo_salary\": 2368.38, \"bottle_per_day\": 76.0}, {\"country\": \"El Salvador\", \"price\": 0.74, \"mo_salary\": 398.21, \"bottle_per_day\": 26.0}, {\"country\": \"Brazil\", \"price\": 1.03, \"mo_salary\": 396.29, \"bottle_per_day\": 18.0}, {\"country\": \"Algeria\", \"price\": 0.49, \"mo_salary\": 264.84, \"bottle_per_day\": 26.0}, {\"country\": \"Slovenia\", \"price\": 2.36, \"mo_salary\": 1288.39, \"bottle_per_day\": 26.0}, {\"country\": \"Colombia\", \"price\": 0.62, \"mo_salary\": 296.78, \"bottle_per_day\": 23.0}, {\"country\": \"Ecuador\", \"price\": 0.83, \"mo_salary\": 501.36, \"bottle_per_day\": 29.0}, {\"country\": \"Kosovo\", \"price\": 1.11, \"mo_salary\": 419.33, \"bottle_per_day\": 18.0}, {\"country\": \"Hungary\", \"price\": 1.15, \"mo_salary\": 877.14, \"bottle_per_day\": 36.0}, {\"country\": \"Japan\", \"price\": 1.14, \"mo_salary\": 2578.83, \"bottle_per_day\": 108.0}, {\"country\": \"Moldova\", \"price\": 0.76, \"mo_salary\": 418.24, \"bottle_per_day\": 26.0}, {\"country\": \"Belarus\", \"price\": 0.81, \"mo_salary\": 512.89, \"bottle_per_day\": 30.0}, {\"country\": \"Mauritius\", \"price\": 1.02, \"mo_salary\": 501.54, \"bottle_per_day\": 23.0}, {\"country\": \"Albania\", \"price\": 1.35, \"mo_salary\": 433.49, \"bottle_per_day\": 15.0}, {\"country\": \"Trinidad And Tobago\", \"price\": 0.97, \"mo_salary\": 786.83, \"bottle_per_day\": 39.0}, {\"country\": \"New Zealand\", \"price\": 2.36, \"mo_salary\": 2987.27, \"bottle_per_day\": 60.0}, {\"country\": \"Italy\", \"price\": 2.44, \"mo_salary\": 1678.48, \"bottle_per_day\": 33.0}, {\"country\": \"Ethiopia\", \"price\": 0.52, \"mo_salary\": 214.22, \"bottle_per_day\": 20.0}, {\"country\": \"Singapore\", \"price\": 1.56, \"mo_salary\": 5009.32, \"bottle_per_day\": 153.0}, {\"country\": \"Egypt\", \"price\": 0.22, \"mo_salary\": 141.28, \"bottle_per_day\": 31.0}, {\"country\": \"Bolivia\", \"price\": 0.85, \"mo_salary\": 449.21, \"bottle_per_day\": 25.0}, {\"country\": \"Malta\", \"price\": 2.08, \"mo_salary\": 1363.61, \"bottle_per_day\": 31.0}, {\"country\": \"Russia\", \"price\": 0.99, \"mo_salary\": 680.93, \"bottle_per_day\": 33.0}, {\"country\": \"Saudi Arabia\", \"price\": 0.75, \"mo_salary\": 1957.03, \"bottle_per_day\": 124.0}, {\"country\": \"Netherlands\", \"price\": 2.72, \"mo_salary\": 3391.88, \"bottle_per_day\": 59.0}, {\"country\": \"Pakistan\", \"price\": 0.2, \"mo_salary\": 136.56, \"bottle_per_day\": 33.0}, {\"country\": \"China\", \"price\": 0.49, \"mo_salary\": 1103.47, \"bottle_per_day\": 107.0}, {\"country\": \"Ireland\", \"price\": 2.13, \"mo_salary\": 2920.02, \"bottle_per_day\": 65.0}, {\"country\": \"Qatar\", \"price\": 1.04, \"mo_salary\": 3977.93, \"bottle_per_day\": 182.0}, {\"country\": \"Slovakia\", \"price\": 1.7, \"mo_salary\": 1032.31, \"bottle_per_day\": 29.0}, {\"country\": \"France\", \"price\": 2.86, \"mo_salary\": 2482.36, \"bottle_per_day\": 41.0}, {\"country\": \"Lithuania\", \"price\": 1.98, \"mo_salary\": 1147.81, \"bottle_per_day\": 28.0}, {\"country\": \"Serbia\", \"price\": 1.4, \"mo_salary\": 598.79, \"bottle_per_day\": 20.0}, {\"country\": \"Romania\", \"price\": 1.46, \"mo_salary\": 776.97, \"bottle_per_day\": 25.0}, {\"country\": \"Philippines\", \"price\": 0.74, \"mo_salary\": 303.29, \"bottle_per_day\": 20.0}, {\"country\": \"Uzbekistan\", \"price\": 0.56, \"mo_salary\": 294.83, \"bottle_per_day\": 25.0}, {\"country\": \"Bangladesh\", \"price\": 0.28, \"mo_salary\": 247.72, \"bottle_per_day\": 42.0}, {\"country\": \"Taiwan\", \"price\": 1.04, \"mo_salary\": 1543.73, \"bottle_per_day\": 71.0}, {\"country\": \"Norway\", \"price\": 3.14, \"mo_salary\": 3415.1, \"bottle_per_day\": 52.0}, {\"country\": \"Denmark\", \"price\": 3.47, \"mo_salary\": 3511.97, \"bottle_per_day\": 48.0}, {\"country\": \"Dominican Republic\", \"price\": 0.92, \"mo_salary\": 369.87, \"bottle_per_day\": 19.0}, {\"country\": \"Mexico\", \"price\": 0.99, \"mo_salary\": 677.77, \"bottle_per_day\": 33.0}, {\"country\": \"Montenegro\", \"price\": 2.04, \"mo_salary\": 653.89, \"bottle_per_day\": 15.0}, {\"country\": \"Indonesia\", \"price\": 0.6, \"mo_salary\": 343.55, \"bottle_per_day\": 27.0}]}}, {\"mode\": \"vega-lite\"});\n",
       "</script>"
      ],
      "text/plain": [
       "alt.LayerChart(...)"
      ]
     },
     "execution_count": 22,
     "metadata": {},
     "output_type": "execute_result"
    }
   ],
   "source": [
    "# TOP TEN COUNTRIES\n",
    "bars_bottom= alt.Chart(cleaned_df).transform_window(\n",
    "    rank='rank(bottle_per_day)',\n",
    "    sort=[alt.SortField('bottle_per_day', order='ascending')]\n",
    ").transform_filter(\n",
    "    alt.datum.rank <= 10\n",
    ").mark_bar().encode(\n",
    "    x='bottle_per_day',\n",
    "    y=alt.Y('country',sort='-x'),color=alt.value('#fa253b'))\n",
    "\n",
    "text_bottom = bars_bottom.mark_text(\n",
    "    align='left',\n",
    "    baseline='middle',\n",
    "    dx=3).encode(\n",
    "    text='bottle_per_day',color=alt.value('#1E1E1E'))\n",
    "\n",
    "bars_bottom + text_bottom"
   ]
  },
  {
   "cell_type": "code",
   "execution_count": 23,
   "id": "c135f62c",
   "metadata": {},
   "outputs": [],
   "source": [
    "# alt.Chart(merged).mark_text(size=45, baseline='middle').encode(\n",
    "#     alt.X('x:O', axis=None),\n",
    "#     alt.Y('animal:O', axis=None),\n",
    "#     alt.Row('country:N', header=alt.Header(title='')),\n",
    "#     alt.Text('emoji:N')\n",
    "# ).transform_calculate(\n",
    "#     emoji=\"{'cattle': '🐄', 'pigs': '🐖', 'sheep': '🐏'}[datum.animal]\"\n",
    "# ).transform_window(\n",
    "#     x='rank()',\n",
    "#     groupby=['country', 'animal']\n",
    "# ).properties(width=550, height=140)"
   ]
  },
  {
   "cell_type": "code",
   "execution_count": 24,
   "id": "d0f3e0c5",
   "metadata": {},
   "outputs": [],
   "source": [
    "%%R\n",
    "\n",
    "library(ggplot2)"
   ]
  },
  {
   "cell_type": "code",
   "execution_count": 25,
   "id": "8c0bb44c",
   "metadata": {},
   "outputs": [
    {
     "data": {
      "image/png": "[encoded data removed]"
     },
     "metadata": {},
     "output_type": "display_data"
    }
   ],
   "source": [
    "%%R -i cleaned_df -w 800 -h 800\n",
    "\n",
    "ggplot(cleaned_df, aes(x=bottle_per_day, y=mo_salary)) + \n",
    "  geom_point(aes(size=price, alpha=1))"
   ]
  },
  {
   "cell_type": "code",
   "execution_count": null,
   "id": "c9992b59",
   "metadata": {},
   "outputs": [],
   "source": []
  }
 ],
 "metadata": {
  "kernelspec": {
   "display_name": "Python 3 (ipykernel)",
   "language": "python",
   "name": "python3"
  },
  "language_info": {
   "codemirror_mode": {
    "name": "ipython",
    "version": 3
   },
   "file_extension": ".py",
   "mimetype": "text/x-python",
   "name": "python",
   "nbconvert_exporter": "python",
   "pygments_lexer": "ipython3",
   "version": "3.11.0rc2"
  },
  "vscode": {
   "interpreter": {
    "hash": "aee8b7b246df8f9039afb4144a1f6fd8d2ca17a180786b69acc140d282b71a49"
   }
  }
 },
 "nbformat": 4,
 "nbformat_minor": 5
}
