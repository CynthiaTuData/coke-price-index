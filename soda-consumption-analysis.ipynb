{
 "cells": [
  {
   "cell_type": "code",
   "execution_count": 1,
   "id": "9615306e",
   "metadata": {},
   "outputs": [],
   "source": [
    "import pandas as pd\n",
    "import re"
   ]
  },
  {
   "cell_type": "markdown",
   "id": "0ead324f",
   "metadata": {},
   "source": [
    "### What this notebook is for:\n",
    "Based on the annual soda consumption per capita data, I intend to calculate how much soda countries around the world consume annually."
   ]
  },
  {
   "cell_type": "markdown",
   "id": "7d405052",
   "metadata": {},
   "source": [
    "# Get Consumption data"
   ]
  },
  {
   "cell_type": "code",
   "execution_count": 2,
   "id": "e29eb4ee",
   "metadata": {
    "scrolled": false
   },
   "outputs": [
    {
     "data": {
      "text/html": [
       "<div>\n",
       "<style scoped>\n",
       "    .dataframe tbody tr th:only-of-type {\n",
       "        vertical-align: middle;\n",
       "    }\n",
       "\n",
       "    .dataframe tbody tr th {\n",
       "        vertical-align: top;\n",
       "    }\n",
       "\n",
       "    .dataframe thead th {\n",
       "        text-align: right;\n",
       "    }\n",
       "</style>\n",
       "<table border=\"1\" class=\"dataframe\">\n",
       "  <thead>\n",
       "    <tr style=\"text-align: right;\">\n",
       "      <th></th>\n",
       "      <th>country</th>\n",
       "      <th>servings</th>\n",
       "    </tr>\n",
       "  </thead>\n",
       "  <tbody>\n",
       "    <tr>\n",
       "      <th>0</th>\n",
       "      <td>Mexico</td>\n",
       "      <td>634</td>\n",
       "    </tr>\n",
       "    <tr>\n",
       "      <th>1</th>\n",
       "      <td>United States</td>\n",
       "      <td>618</td>\n",
       "    </tr>\n",
       "    <tr>\n",
       "      <th>2</th>\n",
       "      <td>Brazil</td>\n",
       "      <td>280</td>\n",
       "    </tr>\n",
       "    <tr>\n",
       "      <th>3</th>\n",
       "      <td>Japan</td>\n",
       "      <td>116</td>\n",
       "    </tr>\n",
       "    <tr>\n",
       "      <th>4</th>\n",
       "      <td>Russia</td>\n",
       "      <td>108</td>\n",
       "    </tr>\n",
       "    <tr>\n",
       "      <th>5</th>\n",
       "      <td>China</td>\n",
       "      <td>56</td>\n",
       "    </tr>\n",
       "    <tr>\n",
       "      <th>6</th>\n",
       "      <td>Nigeria</td>\n",
       "      <td>49</td>\n",
       "    </tr>\n",
       "    <tr>\n",
       "      <th>7</th>\n",
       "      <td>Pakistan</td>\n",
       "      <td>49</td>\n",
       "    </tr>\n",
       "    <tr>\n",
       "      <th>8</th>\n",
       "      <td>Indonesia</td>\n",
       "      <td>18</td>\n",
       "    </tr>\n",
       "    <tr>\n",
       "      <th>9</th>\n",
       "      <td>India</td>\n",
       "      <td>18</td>\n",
       "    </tr>\n",
       "  </tbody>\n",
       "</table>\n",
       "</div>"
      ],
      "text/plain": [
       "         country  servings\n",
       "0         Mexico       634\n",
       "1  United States       618\n",
       "2         Brazil       280\n",
       "3          Japan       116\n",
       "4         Russia       108\n",
       "5          China        56\n",
       "6        Nigeria        49\n",
       "7       Pakistan        49\n",
       "8      Indonesia        18\n",
       "9          India        18"
      ]
     },
     "execution_count": 2,
     "metadata": {},
     "output_type": "execute_result"
    }
   ],
   "source": [
    "# Source: https://www.statista.com/statistics/505794/cds-per-capita-consumption-in-worlds-top-ten-population-countries/\n",
    "consumption = pd.read_csv('consumption.csv')\n",
    "consumption"
   ]
  },
  {
   "cell_type": "markdown",
   "id": "1b74a502",
   "metadata": {},
   "source": [
    "# Get population data"
   ]
  },
  {
   "cell_type": "code",
   "execution_count": 3,
   "id": "3df9a988",
   "metadata": {},
   "outputs": [
    {
     "data": {
      "text/html": [
       "<div>\n",
       "<style scoped>\n",
       "    .dataframe tbody tr th:only-of-type {\n",
       "        vertical-align: middle;\n",
       "    }\n",
       "\n",
       "    .dataframe tbody tr th {\n",
       "        vertical-align: top;\n",
       "    }\n",
       "\n",
       "    .dataframe thead th {\n",
       "        text-align: right;\n",
       "    }\n",
       "</style>\n",
       "<table border=\"1\" class=\"dataframe\">\n",
       "  <thead>\n",
       "    <tr style=\"text-align: right;\">\n",
       "      <th></th>\n",
       "      <th>Country / Area</th>\n",
       "      <th>UN continental region[4]</th>\n",
       "      <th>UN statistical subregion[4]</th>\n",
       "      <th>Population (1 July 2018)</th>\n",
       "      <th>Population (1 July 2019)</th>\n",
       "      <th>Change</th>\n",
       "    </tr>\n",
       "  </thead>\n",
       "  <tbody>\n",
       "    <tr>\n",
       "      <th>0</th>\n",
       "      <td>China[a]</td>\n",
       "      <td>Asia</td>\n",
       "      <td>Eastern Asia</td>\n",
       "      <td>1427647786</td>\n",
       "      <td>1433783686</td>\n",
       "      <td>+0.43%</td>\n",
       "    </tr>\n",
       "    <tr>\n",
       "      <th>1</th>\n",
       "      <td>India</td>\n",
       "      <td>Asia</td>\n",
       "      <td>Southern Asia</td>\n",
       "      <td>1352642280</td>\n",
       "      <td>1366417754</td>\n",
       "      <td>+1.02%</td>\n",
       "    </tr>\n",
       "    <tr>\n",
       "      <th>2</th>\n",
       "      <td>United States</td>\n",
       "      <td>Americas</td>\n",
       "      <td>Northern America</td>\n",
       "      <td>327096265</td>\n",
       "      <td>329064917</td>\n",
       "      <td>+0.60%</td>\n",
       "    </tr>\n",
       "    <tr>\n",
       "      <th>3</th>\n",
       "      <td>Indonesia</td>\n",
       "      <td>Asia</td>\n",
       "      <td>South-eastern Asia</td>\n",
       "      <td>267670543</td>\n",
       "      <td>270625568</td>\n",
       "      <td>+1.10%</td>\n",
       "    </tr>\n",
       "    <tr>\n",
       "      <th>4</th>\n",
       "      <td>Pakistan</td>\n",
       "      <td>Asia</td>\n",
       "      <td>Southern Asia</td>\n",
       "      <td>212228286</td>\n",
       "      <td>216565318</td>\n",
       "      <td>+2.04%</td>\n",
       "    </tr>\n",
       "  </tbody>\n",
       "</table>\n",
       "</div>"
      ],
      "text/plain": [
       "  Country / Area UN continental region[4] UN statistical subregion[4]  \\\n",
       "0       China[a]                     Asia                Eastern Asia   \n",
       "1          India                     Asia               Southern Asia   \n",
       "2  United States                 Americas            Northern America   \n",
       "3      Indonesia                     Asia          South-eastern Asia   \n",
       "4       Pakistan                     Asia               Southern Asia   \n",
       "\n",
       "   Population (1 July 2018)  Population (1 July 2019)  Change  \n",
       "0                1427647786                1433783686  +0.43%  \n",
       "1                1352642280                1366417754  +1.02%  \n",
       "2                 327096265                 329064917  +0.60%  \n",
       "3                 267670543                 270625568  +1.10%  \n",
       "4                 212228286                 216565318  +2.04%  "
      ]
     },
     "execution_count": 3,
     "metadata": {},
     "output_type": "execute_result"
    }
   ],
   "source": [
    "url = 'https://en.wikipedia.org/wiki/List_of_countries_by_population_(United_Nations)'\n",
    "pop_tables = pd.read_html(url)\n",
    "pop=pop_tables[0]\n",
    "pop.head()"
   ]
  },
  {
   "cell_type": "code",
   "execution_count": 4,
   "id": "ddacf0ae",
   "metadata": {},
   "outputs": [],
   "source": [
    "# Getting the columns I need\n",
    "pop = pop[['Country / Area','Population (1 July 2019)']]"
   ]
  },
  {
   "cell_type": "code",
   "execution_count": 5,
   "id": "b3804b42",
   "metadata": {
    "scrolled": true
   },
   "outputs": [
    {
     "name": "stderr",
     "output_type": "stream",
     "text": [
      "/var/folders/0h/2v5mxpvs49s0_gs3lqjt474h0000gn/T/ipykernel_95374/897450024.py:1: FutureWarning: DataFrame.set_axis 'inplace' keyword is deprecated and will be removed in a future version. Use `obj = obj.set_axis(..., copy=False)` instead\n",
      "  pop = pop.set_axis(['country','population'],axis=1,inplace=False)\n"
     ]
    },
    {
     "data": {
      "text/html": [
       "<div>\n",
       "<style scoped>\n",
       "    .dataframe tbody tr th:only-of-type {\n",
       "        vertical-align: middle;\n",
       "    }\n",
       "\n",
       "    .dataframe tbody tr th {\n",
       "        vertical-align: top;\n",
       "    }\n",
       "\n",
       "    .dataframe thead th {\n",
       "        text-align: right;\n",
       "    }\n",
       "</style>\n",
       "<table border=\"1\" class=\"dataframe\">\n",
       "  <thead>\n",
       "    <tr style=\"text-align: right;\">\n",
       "      <th></th>\n",
       "      <th>country</th>\n",
       "      <th>population</th>\n",
       "    </tr>\n",
       "  </thead>\n",
       "  <tbody>\n",
       "    <tr>\n",
       "      <th>0</th>\n",
       "      <td>China[a]</td>\n",
       "      <td>1433783686</td>\n",
       "    </tr>\n",
       "    <tr>\n",
       "      <th>1</th>\n",
       "      <td>India</td>\n",
       "      <td>1366417754</td>\n",
       "    </tr>\n",
       "    <tr>\n",
       "      <th>2</th>\n",
       "      <td>United States</td>\n",
       "      <td>329064917</td>\n",
       "    </tr>\n",
       "    <tr>\n",
       "      <th>3</th>\n",
       "      <td>Indonesia</td>\n",
       "      <td>270625568</td>\n",
       "    </tr>\n",
       "    <tr>\n",
       "      <th>4</th>\n",
       "      <td>Pakistan</td>\n",
       "      <td>216565318</td>\n",
       "    </tr>\n",
       "  </tbody>\n",
       "</table>\n",
       "</div>"
      ],
      "text/plain": [
       "         country  population\n",
       "0       China[a]  1433783686\n",
       "1          India  1366417754\n",
       "2  United States   329064917\n",
       "3      Indonesia   270625568\n",
       "4       Pakistan   216565318"
      ]
     },
     "execution_count": 5,
     "metadata": {},
     "output_type": "execute_result"
    }
   ],
   "source": [
    "# Rename columns\n",
    "pop = pop.set_axis(['country','population'],axis=1,inplace=False)\n",
    "pop.head()"
   ]
  },
  {
   "cell_type": "code",
   "execution_count": 6,
   "id": "fbb1c7ef",
   "metadata": {},
   "outputs": [
    {
     "data": {
      "text/html": [
       "<div>\n",
       "<style scoped>\n",
       "    .dataframe tbody tr th:only-of-type {\n",
       "        vertical-align: middle;\n",
       "    }\n",
       "\n",
       "    .dataframe tbody tr th {\n",
       "        vertical-align: top;\n",
       "    }\n",
       "\n",
       "    .dataframe thead th {\n",
       "        text-align: right;\n",
       "    }\n",
       "</style>\n",
       "<table border=\"1\" class=\"dataframe\">\n",
       "  <thead>\n",
       "    <tr style=\"text-align: right;\">\n",
       "      <th></th>\n",
       "      <th>country</th>\n",
       "      <th>population</th>\n",
       "    </tr>\n",
       "  </thead>\n",
       "  <tbody>\n",
       "    <tr>\n",
       "      <th>0</th>\n",
       "      <td>China</td>\n",
       "      <td>1433783686</td>\n",
       "    </tr>\n",
       "    <tr>\n",
       "      <th>1</th>\n",
       "      <td>India</td>\n",
       "      <td>1366417754</td>\n",
       "    </tr>\n",
       "    <tr>\n",
       "      <th>2</th>\n",
       "      <td>United States</td>\n",
       "      <td>329064917</td>\n",
       "    </tr>\n",
       "    <tr>\n",
       "      <th>3</th>\n",
       "      <td>Indonesia</td>\n",
       "      <td>270625568</td>\n",
       "    </tr>\n",
       "    <tr>\n",
       "      <th>4</th>\n",
       "      <td>Pakistan</td>\n",
       "      <td>216565318</td>\n",
       "    </tr>\n",
       "  </tbody>\n",
       "</table>\n",
       "</div>"
      ],
      "text/plain": [
       "         country  population\n",
       "0          China  1433783686\n",
       "1          India  1366417754\n",
       "2  United States   329064917\n",
       "3      Indonesia   270625568\n",
       "4       Pakistan   216565318"
      ]
     },
     "execution_count": 6,
     "metadata": {},
     "output_type": "execute_result"
    }
   ],
   "source": [
    "# Data cleaning\n",
    "pop['country']=pop.country.str.replace('[a]','',regex=False)\n",
    "pop.head()"
   ]
  },
  {
   "cell_type": "markdown",
   "id": "a7835bbe",
   "metadata": {},
   "source": [
    "# Merging data and analysis"
   ]
  },
  {
   "cell_type": "code",
   "execution_count": 7,
   "id": "86a42a51",
   "metadata": {},
   "outputs": [
    {
     "data": {
      "text/html": [
       "<div>\n",
       "<style scoped>\n",
       "    .dataframe tbody tr th:only-of-type {\n",
       "        vertical-align: middle;\n",
       "    }\n",
       "\n",
       "    .dataframe tbody tr th {\n",
       "        vertical-align: top;\n",
       "    }\n",
       "\n",
       "    .dataframe thead th {\n",
       "        text-align: right;\n",
       "    }\n",
       "</style>\n",
       "<table border=\"1\" class=\"dataframe\">\n",
       "  <thead>\n",
       "    <tr style=\"text-align: right;\">\n",
       "      <th></th>\n",
       "      <th>country</th>\n",
       "      <th>servings</th>\n",
       "      <th>population</th>\n",
       "    </tr>\n",
       "  </thead>\n",
       "  <tbody>\n",
       "    <tr>\n",
       "      <th>0</th>\n",
       "      <td>Mexico</td>\n",
       "      <td>634</td>\n",
       "      <td>127575529</td>\n",
       "    </tr>\n",
       "    <tr>\n",
       "      <th>1</th>\n",
       "      <td>United States</td>\n",
       "      <td>618</td>\n",
       "      <td>329064917</td>\n",
       "    </tr>\n",
       "  </tbody>\n",
       "</table>\n",
       "</div>"
      ],
      "text/plain": [
       "         country  servings  population\n",
       "0         Mexico       634   127575529\n",
       "1  United States       618   329064917"
      ]
     },
     "execution_count": 7,
     "metadata": {},
     "output_type": "execute_result"
    }
   ],
   "source": [
    "merged = consumption.merge(pop,how='left',on='country')\n",
    "merged.head(2)"
   ]
  },
  {
   "cell_type": "code",
   "execution_count": 8,
   "id": "b29b136e",
   "metadata": {},
   "outputs": [
    {
     "data": {
      "text/html": [
       "<div>\n",
       "<style scoped>\n",
       "    .dataframe tbody tr th:only-of-type {\n",
       "        vertical-align: middle;\n",
       "    }\n",
       "\n",
       "    .dataframe tbody tr th {\n",
       "        vertical-align: top;\n",
       "    }\n",
       "\n",
       "    .dataframe thead th {\n",
       "        text-align: right;\n",
       "    }\n",
       "</style>\n",
       "<table border=\"1\" class=\"dataframe\">\n",
       "  <thead>\n",
       "    <tr style=\"text-align: right;\">\n",
       "      <th></th>\n",
       "      <th>country</th>\n",
       "      <th>servings</th>\n",
       "      <th>population</th>\n",
       "      <th>total</th>\n",
       "    </tr>\n",
       "  </thead>\n",
       "  <tbody>\n",
       "    <tr>\n",
       "      <th>0</th>\n",
       "      <td>Mexico</td>\n",
       "      <td>634</td>\n",
       "      <td>127575529</td>\n",
       "      <td>80882885386</td>\n",
       "    </tr>\n",
       "    <tr>\n",
       "      <th>1</th>\n",
       "      <td>United States</td>\n",
       "      <td>618</td>\n",
       "      <td>329064917</td>\n",
       "      <td>203362118706</td>\n",
       "    </tr>\n",
       "  </tbody>\n",
       "</table>\n",
       "</div>"
      ],
      "text/plain": [
       "         country  servings  population         total\n",
       "0         Mexico       634   127575529   80882885386\n",
       "1  United States       618   329064917  203362118706"
      ]
     },
     "execution_count": 8,
     "metadata": {},
     "output_type": "execute_result"
    }
   ],
   "source": [
    "# calculate the amount of servings consumed by whole country in total\n",
    "merged['total'] = merged['servings']*merged['population']\n",
    "merged.head(2)"
   ]
  },
  {
   "cell_type": "code",
   "execution_count": 9,
   "id": "41adcbc4",
   "metadata": {},
   "outputs": [],
   "source": [
    "# convert the total to gallon\n",
    "merged['per_capita_gallon']=merged['servings']*8/128\n",
    "merged['total_gallon']=round(merged['total']*8/128)"
   ]
  },
  {
   "cell_type": "code",
   "execution_count": 10,
   "id": "9202b16d",
   "metadata": {},
   "outputs": [],
   "source": [
    "pd.set_option('display.float_format', lambda x: '%.5f' % x)"
   ]
  },
  {
   "cell_type": "code",
   "execution_count": 11,
   "id": "c310656f",
   "metadata": {},
   "outputs": [
    {
     "data": {
      "text/html": [
       "<div>\n",
       "<style scoped>\n",
       "    .dataframe tbody tr th:only-of-type {\n",
       "        vertical-align: middle;\n",
       "    }\n",
       "\n",
       "    .dataframe tbody tr th {\n",
       "        vertical-align: top;\n",
       "    }\n",
       "\n",
       "    .dataframe thead th {\n",
       "        text-align: right;\n",
       "    }\n",
       "</style>\n",
       "<table border=\"1\" class=\"dataframe\">\n",
       "  <thead>\n",
       "    <tr style=\"text-align: right;\">\n",
       "      <th></th>\n",
       "      <th>country</th>\n",
       "      <th>servings</th>\n",
       "      <th>population</th>\n",
       "      <th>total</th>\n",
       "      <th>per_capita_gallon</th>\n",
       "      <th>total_gallon</th>\n",
       "      <th>pool_filled</th>\n",
       "    </tr>\n",
       "  </thead>\n",
       "  <tbody>\n",
       "    <tr>\n",
       "      <th>0</th>\n",
       "      <td>Mexico</td>\n",
       "      <td>634</td>\n",
       "      <td>127575529</td>\n",
       "      <td>80882885386</td>\n",
       "      <td>39.62500</td>\n",
       "      <td>5055180337.00000</td>\n",
       "      <td>7659.36415</td>\n",
       "    </tr>\n",
       "    <tr>\n",
       "      <th>1</th>\n",
       "      <td>United States</td>\n",
       "      <td>618</td>\n",
       "      <td>329064917</td>\n",
       "      <td>203362118706</td>\n",
       "      <td>38.62500</td>\n",
       "      <td>12710132419.00000</td>\n",
       "      <td>19257.77639</td>\n",
       "    </tr>\n",
       "  </tbody>\n",
       "</table>\n",
       "</div>"
      ],
      "text/plain": [
       "         country  servings  population         total  per_capita_gallon  \\\n",
       "0         Mexico       634   127575529   80882885386           39.62500   \n",
       "1  United States       618   329064917  203362118706           38.62500   \n",
       "\n",
       "       total_gallon  pool_filled  \n",
       "0  5055180337.00000   7659.36415  \n",
       "1 12710132419.00000  19257.77639  "
      ]
     },
     "execution_count": 11,
     "metadata": {},
     "output_type": "execute_result"
    }
   ],
   "source": [
    "# Convert to see the amount will fill how many Olympics swimming pool\n",
    "pool_gallon = 660000\n",
    "merged['pool_filled'] = merged['total_gallon']/pool_gallon\n",
    "merged.head(2)"
   ]
  },
  {
   "cell_type": "code",
   "execution_count": 20,
   "id": "8bce02e5",
   "metadata": {},
   "outputs": [
    {
     "data": {
      "text/html": [
       "<div>\n",
       "<style scoped>\n",
       "    .dataframe tbody tr th:only-of-type {\n",
       "        vertical-align: middle;\n",
       "    }\n",
       "\n",
       "    .dataframe tbody tr th {\n",
       "        vertical-align: top;\n",
       "    }\n",
       "\n",
       "    .dataframe thead th {\n",
       "        text-align: right;\n",
       "    }\n",
       "</style>\n",
       "<table border=\"1\" class=\"dataframe\">\n",
       "  <thead>\n",
       "    <tr style=\"text-align: right;\">\n",
       "      <th></th>\n",
       "      <th>country</th>\n",
       "      <th>servings</th>\n",
       "      <th>population</th>\n",
       "      <th>total</th>\n",
       "      <th>per_capita_gallon</th>\n",
       "      <th>total_gallon</th>\n",
       "      <th>pool_filled</th>\n",
       "      <th>lake_filled</th>\n",
       "      <th>million_gallon</th>\n",
       "    </tr>\n",
       "  </thead>\n",
       "  <tbody>\n",
       "    <tr>\n",
       "      <th>0</th>\n",
       "      <td>Mexico</td>\n",
       "      <td>634</td>\n",
       "      <td>127575529</td>\n",
       "      <td>80882885386</td>\n",
       "      <td>39.62500</td>\n",
       "      <td>5055180337.00000</td>\n",
       "      <td>7659.36415</td>\n",
       "      <td>5.05518</td>\n",
       "      <td>5.05518</td>\n",
       "    </tr>\n",
       "    <tr>\n",
       "      <th>1</th>\n",
       "      <td>United States</td>\n",
       "      <td>618</td>\n",
       "      <td>329064917</td>\n",
       "      <td>203362118706</td>\n",
       "      <td>38.62500</td>\n",
       "      <td>12710132419.00000</td>\n",
       "      <td>19257.77639</td>\n",
       "      <td>12.71013</td>\n",
       "      <td>12.71013</td>\n",
       "    </tr>\n",
       "    <tr>\n",
       "      <th>2</th>\n",
       "      <td>Brazil</td>\n",
       "      <td>280</td>\n",
       "      <td>211049527</td>\n",
       "      <td>59093867560</td>\n",
       "      <td>17.50000</td>\n",
       "      <td>3693366722.00000</td>\n",
       "      <td>5596.01018</td>\n",
       "      <td>3.69337</td>\n",
       "      <td>3.69337</td>\n",
       "    </tr>\n",
       "    <tr>\n",
       "      <th>3</th>\n",
       "      <td>Japan</td>\n",
       "      <td>116</td>\n",
       "      <td>126860301</td>\n",
       "      <td>14715794916</td>\n",
       "      <td>7.25000</td>\n",
       "      <td>919737182.00000</td>\n",
       "      <td>1393.54118</td>\n",
       "      <td>0.91974</td>\n",
       "      <td>0.91974</td>\n",
       "    </tr>\n",
       "    <tr>\n",
       "      <th>4</th>\n",
       "      <td>Russia</td>\n",
       "      <td>108</td>\n",
       "      <td>145872256</td>\n",
       "      <td>15754203648</td>\n",
       "      <td>6.75000</td>\n",
       "      <td>984637728.00000</td>\n",
       "      <td>1491.87535</td>\n",
       "      <td>0.98464</td>\n",
       "      <td>0.98464</td>\n",
       "    </tr>\n",
       "    <tr>\n",
       "      <th>5</th>\n",
       "      <td>China</td>\n",
       "      <td>56</td>\n",
       "      <td>1433783686</td>\n",
       "      <td>80291886416</td>\n",
       "      <td>3.50000</td>\n",
       "      <td>5018242901.00000</td>\n",
       "      <td>7603.39833</td>\n",
       "      <td>5.01824</td>\n",
       "      <td>5.01824</td>\n",
       "    </tr>\n",
       "    <tr>\n",
       "      <th>6</th>\n",
       "      <td>Nigeria</td>\n",
       "      <td>49</td>\n",
       "      <td>200963599</td>\n",
       "      <td>9847216351</td>\n",
       "      <td>3.06250</td>\n",
       "      <td>615451022.00000</td>\n",
       "      <td>932.50155</td>\n",
       "      <td>0.61545</td>\n",
       "      <td>0.61545</td>\n",
       "    </tr>\n",
       "    <tr>\n",
       "      <th>7</th>\n",
       "      <td>Pakistan</td>\n",
       "      <td>49</td>\n",
       "      <td>216565318</td>\n",
       "      <td>10611700582</td>\n",
       "      <td>3.06250</td>\n",
       "      <td>663231286.00000</td>\n",
       "      <td>1004.89589</td>\n",
       "      <td>0.66323</td>\n",
       "      <td>0.66323</td>\n",
       "    </tr>\n",
       "    <tr>\n",
       "      <th>8</th>\n",
       "      <td>Indonesia</td>\n",
       "      <td>18</td>\n",
       "      <td>270625568</td>\n",
       "      <td>4871260224</td>\n",
       "      <td>1.12500</td>\n",
       "      <td>304453764.00000</td>\n",
       "      <td>461.29358</td>\n",
       "      <td>0.30445</td>\n",
       "      <td>0.30445</td>\n",
       "    </tr>\n",
       "    <tr>\n",
       "      <th>9</th>\n",
       "      <td>India</td>\n",
       "      <td>18</td>\n",
       "      <td>1366417754</td>\n",
       "      <td>24595519572</td>\n",
       "      <td>1.12500</td>\n",
       "      <td>1537219973.00000</td>\n",
       "      <td>2329.12117</td>\n",
       "      <td>1.53722</td>\n",
       "      <td>1.53722</td>\n",
       "    </tr>\n",
       "  </tbody>\n",
       "</table>\n",
       "</div>"
      ],
      "text/plain": [
       "         country  servings  population         total  per_capita_gallon  \\\n",
       "0         Mexico       634   127575529   80882885386           39.62500   \n",
       "1  United States       618   329064917  203362118706           38.62500   \n",
       "2         Brazil       280   211049527   59093867560           17.50000   \n",
       "3          Japan       116   126860301   14715794916            7.25000   \n",
       "4         Russia       108   145872256   15754203648            6.75000   \n",
       "5          China        56  1433783686   80291886416            3.50000   \n",
       "6        Nigeria        49   200963599    9847216351            3.06250   \n",
       "7       Pakistan        49   216565318   10611700582            3.06250   \n",
       "8      Indonesia        18   270625568    4871260224            1.12500   \n",
       "9          India        18  1366417754   24595519572            1.12500   \n",
       "\n",
       "       total_gallon  pool_filled  lake_filled  million_gallon  \n",
       "0  5055180337.00000   7659.36415      5.05518         5.05518  \n",
       "1 12710132419.00000  19257.77639     12.71013        12.71013  \n",
       "2  3693366722.00000   5596.01018      3.69337         3.69337  \n",
       "3   919737182.00000   1393.54118      0.91974         0.91974  \n",
       "4   984637728.00000   1491.87535      0.98464         0.98464  \n",
       "5  5018242901.00000   7603.39833      5.01824         5.01824  \n",
       "6   615451022.00000    932.50155      0.61545         0.61545  \n",
       "7   663231286.00000   1004.89589      0.66323         0.66323  \n",
       "8   304453764.00000    461.29358      0.30445         0.30445  \n",
       "9  1537219973.00000   2329.12117      1.53722         1.53722  "
      ]
     },
     "execution_count": 20,
     "metadata": {},
     "output_type": "execute_result"
    }
   ],
   "source": [
    "# convert total gallon to billion gallon\n",
    "merged['million_gallon'] = merged['total_gallon']/1000000000\n",
    "merged"
   ]
  },
  {
   "cell_type": "code",
   "execution_count": 21,
   "id": "f6fe92a3",
   "metadata": {},
   "outputs": [
    {
     "data": {
      "text/plain": [
       "<AxesSubplot: ylabel='country'>"
      ]
     },
     "execution_count": 21,
     "metadata": {},
     "output_type": "execute_result"
    },
    {
     "data": {
      "image/png": "[encoded data removed]",
      "text/plain": [
       "<Figure size 640x480 with 1 Axes>"
      ]
     },
     "metadata": {},
     "output_type": "display_data"
    }
   ],
   "source": [
    "merged.sort_values(by='servings').plot(kind='barh',ylabel='country',y='servings',x='country')"
   ]
  },
  {
   "cell_type": "code",
   "execution_count": 22,
   "id": "813bccec",
   "metadata": {
    "scrolled": false
   },
   "outputs": [
    {
     "data": {
      "text/plain": [
       "<AxesSubplot: ylabel='country'>"
      ]
     },
     "execution_count": 22,
     "metadata": {},
     "output_type": "execute_result"
    },
    {
     "data": {
      "image/png": "[encoded data removed]",
      "text/plain": [
       "<Figure size 640x480 with 1 Axes>"
      ]
     },
     "metadata": {},
     "output_type": "display_data"
    }
   ],
   "source": [
    "merged.sort_values(by='pool_filled').plot(kind='barh',ylabel='country',y='pool_filled',x='country')"
   ]
  },
  {
   "cell_type": "code",
   "execution_count": 23,
   "id": "581fbe67",
   "metadata": {},
   "outputs": [],
   "source": [
    "merged.to_csv(\"soda_consumption.csv\", index=False)"
   ]
  }
 ],
 "metadata": {
  "kernelspec": {
   "display_name": "Python 3 (ipykernel)",
   "language": "python",
   "name": "python3"
  },
  "language_info": {
   "codemirror_mode": {
    "name": "ipython",
    "version": 3
   },
   "file_extension": ".py",
   "mimetype": "text/x-python",
   "name": "python",
   "nbconvert_exporter": "python",
   "pygments_lexer": "ipython3",
   "version": "3.11.0rc2"
  }
 },
 "nbformat": 4,
 "nbformat_minor": 5
}
