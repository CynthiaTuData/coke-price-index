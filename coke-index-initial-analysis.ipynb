{
 "cells": [
  {
   "cell_type": "code",
   "execution_count": 1,
   "id": "dc0fc5c7",
   "metadata": {},
   "outputs": [],
   "source": [
    "import pandas as pd"
   ]
  },
  {
   "cell_type": "markdown",
   "id": "e0762722",
   "metadata": {},
   "source": [
    "### What this notebook is for:\n",
    "- Collect coke prices and average income around the world\n",
    "- Calculate the number of coke an average-eraning person could afford with their dialy income around the world.\n"
   ]
  },
  {
   "cell_type": "markdown",
   "id": "27867871",
   "metadata": {},
   "source": [
    "# Step 1: Scraping"
   ]
  },
  {
   "cell_type": "markdown",
   "id": "29b360a5",
   "metadata": {},
   "source": [
    "## Collect coke price data"
   ]
  },
  {
   "cell_type": "code",
   "execution_count": 2,
   "id": "3af4cc37",
   "metadata": {},
   "outputs": [],
   "source": [
    "coke_url = \"https://www.numbeo.com/cost-of-living/prices_by_country.jsp?displayCurrency=USD&itemId=6\""
   ]
  },
  {
   "cell_type": "code",
   "execution_count": 3,
   "id": "db477cd2",
   "metadata": {},
   "outputs": [
    {
     "data": {
      "text/html": [
       "<div>\n",
       "<style scoped>\n",
       "    .dataframe tbody tr th:only-of-type {\n",
       "        vertical-align: middle;\n",
       "    }\n",
       "\n",
       "    .dataframe tbody tr th {\n",
       "        vertical-align: top;\n",
       "    }\n",
       "\n",
       "    .dataframe thead th {\n",
       "        text-align: right;\n",
       "    }\n",
       "</style>\n",
       "<table border=\"1\" class=\"dataframe\">\n",
       "  <thead>\n",
       "    <tr style=\"text-align: right;\">\n",
       "      <th></th>\n",
       "      <th>Rank</th>\n",
       "      <th>Country</th>\n",
       "      <th>Coke/Pepsi (0.33 liter bottle)</th>\n",
       "    </tr>\n",
       "  </thead>\n",
       "  <tbody>\n",
       "    <tr>\n",
       "      <th>0</th>\n",
       "      <td>NaN</td>\n",
       "      <td>Kazakhstan</td>\n",
       "      <td>0.64</td>\n",
       "    </tr>\n",
       "    <tr>\n",
       "      <th>1</th>\n",
       "      <td>NaN</td>\n",
       "      <td>Portugal</td>\n",
       "      <td>1.51</td>\n",
       "    </tr>\n",
       "  </tbody>\n",
       "</table>\n",
       "</div>"
      ],
      "text/plain": [
       "   Rank     Country  Coke/Pepsi (0.33 liter bottle)\n",
       "0   NaN  Kazakhstan                            0.64\n",
       "1   NaN    Portugal                            1.51"
      ]
     },
     "execution_count": 3,
     "metadata": {},
     "output_type": "execute_result"
    }
   ],
   "source": [
    "tables = pd.read_html(coke_url)\n",
    "coke_df = tables[1]\n",
    "coke_df.head(2)"
   ]
  },
  {
   "cell_type": "code",
   "execution_count": 4,
   "id": "e3f418a9",
   "metadata": {
    "scrolled": true
   },
   "outputs": [],
   "source": [
    "coke_df = coke_df.drop(columns='Rank')"
   ]
  },
  {
   "cell_type": "code",
   "execution_count": 5,
   "id": "c921a524",
   "metadata": {},
   "outputs": [
    {
     "data": {
      "text/html": [
       "<div>\n",
       "<style scoped>\n",
       "    .dataframe tbody tr th:only-of-type {\n",
       "        vertical-align: middle;\n",
       "    }\n",
       "\n",
       "    .dataframe tbody tr th {\n",
       "        vertical-align: top;\n",
       "    }\n",
       "\n",
       "    .dataframe thead th {\n",
       "        text-align: right;\n",
       "    }\n",
       "</style>\n",
       "<table border=\"1\" class=\"dataframe\">\n",
       "  <thead>\n",
       "    <tr style=\"text-align: right;\">\n",
       "      <th></th>\n",
       "      <th>country</th>\n",
       "      <th>price</th>\n",
       "    </tr>\n",
       "  </thead>\n",
       "  <tbody>\n",
       "    <tr>\n",
       "      <th>0</th>\n",
       "      <td>Kazakhstan</td>\n",
       "      <td>0.64</td>\n",
       "    </tr>\n",
       "    <tr>\n",
       "      <th>1</th>\n",
       "      <td>Portugal</td>\n",
       "      <td>1.51</td>\n",
       "    </tr>\n",
       "    <tr>\n",
       "      <th>2</th>\n",
       "      <td>Greece</td>\n",
       "      <td>1.92</td>\n",
       "    </tr>\n",
       "    <tr>\n",
       "      <th>3</th>\n",
       "      <td>Latvia</td>\n",
       "      <td>1.28</td>\n",
       "    </tr>\n",
       "    <tr>\n",
       "      <th>4</th>\n",
       "      <td>Iran</td>\n",
       "      <td>0.91</td>\n",
       "    </tr>\n",
       "  </tbody>\n",
       "</table>\n",
       "</div>"
      ],
      "text/plain": [
       "      country  price\n",
       "0  Kazakhstan   0.64\n",
       "1    Portugal   1.51\n",
       "2      Greece   1.92\n",
       "3      Latvia   1.28\n",
       "4        Iran   0.91"
      ]
     },
     "execution_count": 5,
     "metadata": {},
     "output_type": "execute_result"
    }
   ],
   "source": [
    "# clean up column names\n",
    "coke_df = coke_df.rename(columns={'Country': \"country\", 'Coke/Pepsi (0.33 liter bottle)': \"price\"})\n",
    "coke_df.head()"
   ]
  },
  {
   "cell_type": "markdown",
   "id": "79785128",
   "metadata": {},
   "source": [
    "## Collect salary data"
   ]
  },
  {
   "cell_type": "code",
   "execution_count": 6,
   "id": "a1406351",
   "metadata": {
    "scrolled": true
   },
   "outputs": [
    {
     "data": {
      "text/html": [
       "<div>\n",
       "<style scoped>\n",
       "    .dataframe tbody tr th:only-of-type {\n",
       "        vertical-align: middle;\n",
       "    }\n",
       "\n",
       "    .dataframe tbody tr th {\n",
       "        vertical-align: top;\n",
       "    }\n",
       "\n",
       "    .dataframe thead th {\n",
       "        text-align: right;\n",
       "    }\n",
       "</style>\n",
       "<table border=\"1\" class=\"dataframe\">\n",
       "  <thead>\n",
       "    <tr style=\"text-align: right;\">\n",
       "      <th></th>\n",
       "      <th>0</th>\n",
       "      <th>1</th>\n",
       "      <th>2</th>\n",
       "      <th>3</th>\n",
       "    </tr>\n",
       "  </thead>\n",
       "  <tbody>\n",
       "    <tr>\n",
       "      <th>0</th>\n",
       "      <td>1.0</td>\n",
       "      <td>Switzerland</td>\n",
       "      <td>NaN</td>\n",
       "      <td>5,935.58 $</td>\n",
       "    </tr>\n",
       "    <tr>\n",
       "      <th>1</th>\n",
       "      <td>2.0</td>\n",
       "      <td>Singapore</td>\n",
       "      <td>NaN</td>\n",
       "      <td>5,009.32 $</td>\n",
       "    </tr>\n",
       "    <tr>\n",
       "      <th>2</th>\n",
       "      <td>3.0</td>\n",
       "      <td>United States</td>\n",
       "      <td>NaN</td>\n",
       "      <td>4,185.35 $</td>\n",
       "    </tr>\n",
       "    <tr>\n",
       "      <th>3</th>\n",
       "      <td>4.0</td>\n",
       "      <td>Qatar</td>\n",
       "      <td>NaN</td>\n",
       "      <td>3,977.93 $</td>\n",
       "    </tr>\n",
       "    <tr>\n",
       "      <th>4</th>\n",
       "      <td>5.0</td>\n",
       "      <td>Iceland</td>\n",
       "      <td>NaN</td>\n",
       "      <td>3,850.25 $</td>\n",
       "    </tr>\n",
       "  </tbody>\n",
       "</table>\n",
       "</div>"
      ],
      "text/plain": [
       "     0              1   2           3\n",
       "0  1.0    Switzerland NaN  5,935.58 $\n",
       "1  2.0      Singapore NaN  5,009.32 $\n",
       "2  3.0  United States NaN  4,185.35 $\n",
       "3  4.0          Qatar NaN  3,977.93 $\n",
       "4  5.0        Iceland NaN  3,850.25 $"
      ]
     },
     "execution_count": 6,
     "metadata": {},
     "output_type": "execute_result"
    }
   ],
   "source": [
    "salary_url = \"https://www.numbeo.com/cost-of-living/country_price_rankings?itemId=105\"\n",
    "salary_tables = pd.read_html(salary_url)\n",
    "salary_df = salary_tables[1]\n",
    "salary_df.head()"
   ]
  },
  {
   "cell_type": "code",
   "execution_count": 7,
   "id": "0db1ed68",
   "metadata": {},
   "outputs": [
    {
     "data": {
      "text/html": [
       "<div>\n",
       "<style scoped>\n",
       "    .dataframe tbody tr th:only-of-type {\n",
       "        vertical-align: middle;\n",
       "    }\n",
       "\n",
       "    .dataframe tbody tr th {\n",
       "        vertical-align: top;\n",
       "    }\n",
       "\n",
       "    .dataframe thead th {\n",
       "        text-align: right;\n",
       "    }\n",
       "</style>\n",
       "<table border=\"1\" class=\"dataframe\">\n",
       "  <thead>\n",
       "    <tr style=\"text-align: right;\">\n",
       "      <th></th>\n",
       "      <th>country</th>\n",
       "      <th>mo_salary</th>\n",
       "    </tr>\n",
       "  </thead>\n",
       "  <tbody>\n",
       "    <tr>\n",
       "      <th>0</th>\n",
       "      <td>Switzerland</td>\n",
       "      <td>5,935.58 $</td>\n",
       "    </tr>\n",
       "    <tr>\n",
       "      <th>1</th>\n",
       "      <td>Singapore</td>\n",
       "      <td>5,009.32 $</td>\n",
       "    </tr>\n",
       "    <tr>\n",
       "      <th>2</th>\n",
       "      <td>United States</td>\n",
       "      <td>4,185.35 $</td>\n",
       "    </tr>\n",
       "    <tr>\n",
       "      <th>3</th>\n",
       "      <td>Qatar</td>\n",
       "      <td>3,977.93 $</td>\n",
       "    </tr>\n",
       "    <tr>\n",
       "      <th>4</th>\n",
       "      <td>Iceland</td>\n",
       "      <td>3,850.25 $</td>\n",
       "    </tr>\n",
       "  </tbody>\n",
       "</table>\n",
       "</div>"
      ],
      "text/plain": [
       "         country   mo_salary\n",
       "0    Switzerland  5,935.58 $\n",
       "1      Singapore  5,009.32 $\n",
       "2  United States  4,185.35 $\n",
       "3          Qatar  3,977.93 $\n",
       "4        Iceland  3,850.25 $"
      ]
     },
     "execution_count": 7,
     "metadata": {},
     "output_type": "execute_result"
    }
   ],
   "source": [
    "salary_df = salary_df.drop(columns=[0,2])\n",
    "salary_df = salary_df.rename(columns={1: \"country\", 3: \"mo_salary\"})\n",
    "salary_df.head()"
   ]
  },
  {
   "cell_type": "markdown",
   "id": "a7b6bcc7",
   "metadata": {},
   "source": [
    "# Step 2: Cleaning"
   ]
  },
  {
   "cell_type": "markdown",
   "id": "9b3a8147",
   "metadata": {},
   "source": [
    "## Cleaning country names"
   ]
  },
  {
   "cell_type": "code",
   "execution_count": 8,
   "id": "0118d6c7",
   "metadata": {},
   "outputs": [
    {
     "data": {
      "text/html": [
       "<div>\n",
       "<style scoped>\n",
       "    .dataframe tbody tr th:only-of-type {\n",
       "        vertical-align: middle;\n",
       "    }\n",
       "\n",
       "    .dataframe tbody tr th {\n",
       "        vertical-align: top;\n",
       "    }\n",
       "\n",
       "    .dataframe thead th {\n",
       "        text-align: right;\n",
       "    }\n",
       "</style>\n",
       "<table border=\"1\" class=\"dataframe\">\n",
       "  <thead>\n",
       "    <tr style=\"text-align: right;\">\n",
       "      <th></th>\n",
       "      <th>country</th>\n",
       "      <th>price</th>\n",
       "      <th>mo_salary</th>\n",
       "    </tr>\n",
       "  </thead>\n",
       "  <tbody>\n",
       "    <tr>\n",
       "      <th>0</th>\n",
       "      <td>Kazakhstan</td>\n",
       "      <td>0.64</td>\n",
       "      <td>467.31 $</td>\n",
       "    </tr>\n",
       "    <tr>\n",
       "      <th>1</th>\n",
       "      <td>Portugal</td>\n",
       "      <td>1.51</td>\n",
       "      <td>1,067.16 $</td>\n",
       "    </tr>\n",
       "    <tr>\n",
       "      <th>2</th>\n",
       "      <td>Greece</td>\n",
       "      <td>1.92</td>\n",
       "      <td>881.98 $</td>\n",
       "    </tr>\n",
       "    <tr>\n",
       "      <th>3</th>\n",
       "      <td>Latvia</td>\n",
       "      <td>1.28</td>\n",
       "      <td>1,025.95 $</td>\n",
       "    </tr>\n",
       "    <tr>\n",
       "      <th>4</th>\n",
       "      <td>Iran</td>\n",
       "      <td>0.91</td>\n",
       "      <td>313.94 $</td>\n",
       "    </tr>\n",
       "    <tr>\n",
       "      <th>...</th>\n",
       "      <td>...</td>\n",
       "      <td>...</td>\n",
       "      <td>...</td>\n",
       "    </tr>\n",
       "    <tr>\n",
       "      <th>103</th>\n",
       "      <td>Denmark</td>\n",
       "      <td>3.47</td>\n",
       "      <td>3,511.97 $</td>\n",
       "    </tr>\n",
       "    <tr>\n",
       "      <th>104</th>\n",
       "      <td>Dominican Republic</td>\n",
       "      <td>0.92</td>\n",
       "      <td>369.87 $</td>\n",
       "    </tr>\n",
       "    <tr>\n",
       "      <th>105</th>\n",
       "      <td>Mexico</td>\n",
       "      <td>0.99</td>\n",
       "      <td>677.77 $</td>\n",
       "    </tr>\n",
       "    <tr>\n",
       "      <th>106</th>\n",
       "      <td>Montenegro</td>\n",
       "      <td>2.04</td>\n",
       "      <td>653.89 $</td>\n",
       "    </tr>\n",
       "    <tr>\n",
       "      <th>107</th>\n",
       "      <td>Indonesia</td>\n",
       "      <td>0.60</td>\n",
       "      <td>343.55 $</td>\n",
       "    </tr>\n",
       "  </tbody>\n",
       "</table>\n",
       "<p>108 rows × 3 columns</p>\n",
       "</div>"
      ],
      "text/plain": [
       "                country  price   mo_salary\n",
       "0            Kazakhstan   0.64    467.31 $\n",
       "1              Portugal   1.51  1,067.16 $\n",
       "2                Greece   1.92    881.98 $\n",
       "3                Latvia   1.28  1,025.95 $\n",
       "4                  Iran   0.91    313.94 $\n",
       "..                  ...    ...         ...\n",
       "103             Denmark   3.47  3,511.97 $\n",
       "104  Dominican Republic   0.92    369.87 $\n",
       "105              Mexico   0.99    677.77 $\n",
       "106          Montenegro   2.04    653.89 $\n",
       "107           Indonesia   0.60    343.55 $\n",
       "\n",
       "[108 rows x 3 columns]"
      ]
     },
     "execution_count": 8,
     "metadata": {},
     "output_type": "execute_result"
    }
   ],
   "source": [
    "# Merging datasets\n",
    "merged = pd.merge(coke_df, salary_df, how=\"left\", on=\"country\")\n",
    "merged"
   ]
  },
  {
   "cell_type": "code",
   "execution_count": 9,
   "id": "4da3cbeb",
   "metadata": {},
   "outputs": [],
   "source": [
    "# getting rid of dollar sign\n",
    "cleaned_df = merged.replace({'[$]':'',',':''},regex=True)"
   ]
  },
  {
   "cell_type": "code",
   "execution_count": 10,
   "id": "4fe3bc2a",
   "metadata": {},
   "outputs": [
    {
     "data": {
      "text/html": [
       "<div>\n",
       "<style scoped>\n",
       "    .dataframe tbody tr th:only-of-type {\n",
       "        vertical-align: middle;\n",
       "    }\n",
       "\n",
       "    .dataframe tbody tr th {\n",
       "        vertical-align: top;\n",
       "    }\n",
       "\n",
       "    .dataframe thead th {\n",
       "        text-align: right;\n",
       "    }\n",
       "</style>\n",
       "<table border=\"1\" class=\"dataframe\">\n",
       "  <thead>\n",
       "    <tr style=\"text-align: right;\">\n",
       "      <th></th>\n",
       "      <th>country</th>\n",
       "      <th>price</th>\n",
       "      <th>mo_salary</th>\n",
       "    </tr>\n",
       "  </thead>\n",
       "  <tbody>\n",
       "    <tr>\n",
       "      <th>0</th>\n",
       "      <td>Kazakhstan</td>\n",
       "      <td>0.64</td>\n",
       "      <td>467.31</td>\n",
       "    </tr>\n",
       "    <tr>\n",
       "      <th>1</th>\n",
       "      <td>Portugal</td>\n",
       "      <td>1.51</td>\n",
       "      <td>1067.16</td>\n",
       "    </tr>\n",
       "    <tr>\n",
       "      <th>2</th>\n",
       "      <td>Greece</td>\n",
       "      <td>1.92</td>\n",
       "      <td>881.98</td>\n",
       "    </tr>\n",
       "    <tr>\n",
       "      <th>3</th>\n",
       "      <td>Latvia</td>\n",
       "      <td>1.28</td>\n",
       "      <td>1025.95</td>\n",
       "    </tr>\n",
       "    <tr>\n",
       "      <th>4</th>\n",
       "      <td>Iran</td>\n",
       "      <td>0.91</td>\n",
       "      <td>313.94</td>\n",
       "    </tr>\n",
       "  </tbody>\n",
       "</table>\n",
       "</div>"
      ],
      "text/plain": [
       "      country  price mo_salary\n",
       "0  Kazakhstan   0.64   467.31 \n",
       "1    Portugal   1.51  1067.16 \n",
       "2      Greece   1.92   881.98 \n",
       "3      Latvia   1.28  1025.95 \n",
       "4        Iran   0.91   313.94 "
      ]
     },
     "execution_count": 10,
     "metadata": {},
     "output_type": "execute_result"
    }
   ],
   "source": [
    "cleaned_df.head()"
   ]
  },
  {
   "cell_type": "code",
   "execution_count": 11,
   "id": "f76ddeb5",
   "metadata": {},
   "outputs": [],
   "source": [
    "# Fix data type\n",
    "cleaned_df['mo_salary']=cleaned_df['mo_salary'].astype(float)\n",
    "cleaned_df['price']=cleaned_df['price'].astype(float)"
   ]
  },
  {
   "cell_type": "code",
   "execution_count": 12,
   "id": "cdaebc55",
   "metadata": {},
   "outputs": [
    {
     "name": "stderr",
     "output_type": "stream",
     "text": [
      "/var/folders/0h/2v5mxpvs49s0_gs3lqjt474h0000gn/T/ipykernel_73646/938645974.py:1: FutureWarning: The default value of regex will change from True to False in a future version.\n",
      "  cleaned_df['country'] = cleaned_df.country.str.replace(\" [(]China[)]\",\"\").str.replace(\" [(]Disputed Territory[)]\",\"\")\n"
     ]
    },
    {
     "data": {
      "text/html": [
       "<div>\n",
       "<style scoped>\n",
       "    .dataframe tbody tr th:only-of-type {\n",
       "        vertical-align: middle;\n",
       "    }\n",
       "\n",
       "    .dataframe tbody tr th {\n",
       "        vertical-align: top;\n",
       "    }\n",
       "\n",
       "    .dataframe thead th {\n",
       "        text-align: right;\n",
       "    }\n",
       "</style>\n",
       "<table border=\"1\" class=\"dataframe\">\n",
       "  <thead>\n",
       "    <tr style=\"text-align: right;\">\n",
       "      <th></th>\n",
       "      <th>country</th>\n",
       "      <th>price</th>\n",
       "      <th>mo_salary</th>\n",
       "    </tr>\n",
       "  </thead>\n",
       "  <tbody>\n",
       "    <tr>\n",
       "      <th>10</th>\n",
       "      <td>Nepal</td>\n",
       "      <td>0.44</td>\n",
       "      <td>193.09</td>\n",
       "    </tr>\n",
       "    <tr>\n",
       "      <th>77</th>\n",
       "      <td>Albania</td>\n",
       "      <td>1.35</td>\n",
       "      <td>433.49</td>\n",
       "    </tr>\n",
       "    <tr>\n",
       "      <th>53</th>\n",
       "      <td>Israel</td>\n",
       "      <td>2.74</td>\n",
       "      <td>2632.57</td>\n",
       "    </tr>\n",
       "    <tr>\n",
       "      <th>9</th>\n",
       "      <td>Chile</td>\n",
       "      <td>1.34</td>\n",
       "      <td>680.73</td>\n",
       "    </tr>\n",
       "    <tr>\n",
       "      <th>76</th>\n",
       "      <td>Mauritius</td>\n",
       "      <td>1.02</td>\n",
       "      <td>501.54</td>\n",
       "    </tr>\n",
       "    <tr>\n",
       "      <th>39</th>\n",
       "      <td>Croatia</td>\n",
       "      <td>2.23</td>\n",
       "      <td>1039.08</td>\n",
       "    </tr>\n",
       "    <tr>\n",
       "      <th>4</th>\n",
       "      <td>Iran</td>\n",
       "      <td>0.91</td>\n",
       "      <td>313.94</td>\n",
       "    </tr>\n",
       "    <tr>\n",
       "      <th>97</th>\n",
       "      <td>Romania</td>\n",
       "      <td>1.46</td>\n",
       "      <td>776.97</td>\n",
       "    </tr>\n",
       "    <tr>\n",
       "      <th>59</th>\n",
       "      <td>Iceland</td>\n",
       "      <td>2.44</td>\n",
       "      <td>3850.25</td>\n",
       "    </tr>\n",
       "    <tr>\n",
       "      <th>36</th>\n",
       "      <td>Kuwait</td>\n",
       "      <td>0.54</td>\n",
       "      <td>2078.20</td>\n",
       "    </tr>\n",
       "  </tbody>\n",
       "</table>\n",
       "</div>"
      ],
      "text/plain": [
       "      country  price  mo_salary\n",
       "10      Nepal   0.44     193.09\n",
       "77    Albania   1.35     433.49\n",
       "53     Israel   2.74    2632.57\n",
       "9       Chile   1.34     680.73\n",
       "76  Mauritius   1.02     501.54\n",
       "39    Croatia   2.23    1039.08\n",
       "4        Iran   0.91     313.94\n",
       "97    Romania   1.46     776.97\n",
       "59    Iceland   2.44    3850.25\n",
       "36     Kuwait   0.54    2078.20"
      ]
     },
     "execution_count": 12,
     "metadata": {},
     "output_type": "execute_result"
    }
   ],
   "source": [
    "# Clean up columns\n",
    "cleaned_df['country'] = cleaned_df.country.str.replace(\" [(]China[)]\",\"\").str.replace(\" [(]Disputed Territory[)]\",\"\")\n",
    "cleaned_df.sample(10)"
   ]
  },
  {
   "cell_type": "markdown",
   "id": "0355eb82",
   "metadata": {},
   "source": [
    "# Step 3: Data Analysis"
   ]
  },
  {
   "cell_type": "code",
   "execution_count": 27,
   "id": "2600e14a",
   "metadata": {},
   "outputs": [
    {
     "data": {
      "text/html": [
       "<div>\n",
       "<style scoped>\n",
       "    .dataframe tbody tr th:only-of-type {\n",
       "        vertical-align: middle;\n",
       "    }\n",
       "\n",
       "    .dataframe tbody tr th {\n",
       "        vertical-align: top;\n",
       "    }\n",
       "\n",
       "    .dataframe thead th {\n",
       "        text-align: right;\n",
       "    }\n",
       "</style>\n",
       "<table border=\"1\" class=\"dataframe\">\n",
       "  <thead>\n",
       "    <tr style=\"text-align: right;\">\n",
       "      <th></th>\n",
       "      <th>country</th>\n",
       "      <th>price</th>\n",
       "      <th>mo_salary</th>\n",
       "      <th>bottle_per_day</th>\n",
       "      <th>daily_salary</th>\n",
       "    </tr>\n",
       "  </thead>\n",
       "  <tbody>\n",
       "    <tr>\n",
       "      <th>0</th>\n",
       "      <td>Kazakhstan</td>\n",
       "      <td>0.64</td>\n",
       "      <td>467.31</td>\n",
       "      <td>35.0</td>\n",
       "      <td>22.25</td>\n",
       "    </tr>\n",
       "    <tr>\n",
       "      <th>1</th>\n",
       "      <td>Portugal</td>\n",
       "      <td>1.51</td>\n",
       "      <td>1067.16</td>\n",
       "      <td>34.0</td>\n",
       "      <td>50.82</td>\n",
       "    </tr>\n",
       "    <tr>\n",
       "      <th>2</th>\n",
       "      <td>Greece</td>\n",
       "      <td>1.92</td>\n",
       "      <td>881.98</td>\n",
       "      <td>22.0</td>\n",
       "      <td>42.00</td>\n",
       "    </tr>\n",
       "    <tr>\n",
       "      <th>3</th>\n",
       "      <td>Latvia</td>\n",
       "      <td>1.28</td>\n",
       "      <td>1025.95</td>\n",
       "      <td>38.0</td>\n",
       "      <td>48.85</td>\n",
       "    </tr>\n",
       "    <tr>\n",
       "      <th>4</th>\n",
       "      <td>Iran</td>\n",
       "      <td>0.91</td>\n",
       "      <td>313.94</td>\n",
       "      <td>16.0</td>\n",
       "      <td>14.95</td>\n",
       "    </tr>\n",
       "  </tbody>\n",
       "</table>\n",
       "</div>"
      ],
      "text/plain": [
       "      country  price  mo_salary  bottle_per_day  daily_salary\n",
       "0  Kazakhstan   0.64     467.31            35.0         22.25\n",
       "1    Portugal   1.51    1067.16            34.0         50.82\n",
       "2      Greece   1.92     881.98            22.0         42.00\n",
       "3      Latvia   1.28    1025.95            38.0         48.85\n",
       "4        Iran   0.91     313.94            16.0         14.95"
      ]
     },
     "execution_count": 27,
     "metadata": {},
     "output_type": "execute_result"
    }
   ],
   "source": [
    "# calculate the affordability of coke by dividing daily income by local coke prices\n",
    "cleaned_df['bottle_per_day'] = cleaned_df['mo_salary']/21/cleaned_df['price']\n",
    "cleaned_df['bottle_per_day'] = cleaned_df['bottle_per_day'].round()\n",
    "\n",
    "# calculate daily income by dividing average mothly income by 21 (working days in a month)\n",
    "cleaned_df['daily_salary'] = cleaned_df['mo_salary']/21\n",
    "cleaned_df['daily_salary'] = cleaned_df['daily_salary'].round(2)\n",
    "cleaned_df.head()"
   ]
  },
  {
   "cell_type": "code",
   "execution_count": 87,
   "id": "473423c4",
   "metadata": {
    "scrolled": true
   },
   "outputs": [
    {
     "data": {
      "text/plain": [
       "count    108.000000\n",
       "mean      46.287037\n",
       "std       35.346893\n",
       "min        7.000000\n",
       "25%       25.000000\n",
       "50%       33.000000\n",
       "75%       58.250000\n",
       "max      183.000000\n",
       "Name: bottle_per_day, dtype: float64"
      ]
     },
     "execution_count": 87,
     "metadata": {},
     "output_type": "execute_result"
    }
   ],
   "source": [
    "cleaned_df['bottle_per_day'].describe()"
   ]
  },
  {
   "cell_type": "code",
   "execution_count": 90,
   "id": "29fa9c2f",
   "metadata": {},
   "outputs": [
    {
     "data": {
      "text/plain": [
       "count    108.000000\n",
       "mean       1.327870\n",
       "std        0.822907\n",
       "min        0.200000\n",
       "25%        0.685000\n",
       "50%        1.070000\n",
       "75%        1.920000\n",
       "max        4.500000\n",
       "Name: price, dtype: float64"
      ]
     },
     "execution_count": 90,
     "metadata": {},
     "output_type": "execute_result"
    }
   ],
   "source": [
    "cleaned_df['price'].describe()"
   ]
  },
  {
   "cell_type": "code",
   "execution_count": 88,
   "id": "fa24f685",
   "metadata": {},
   "outputs": [
    {
     "data": {
      "text/html": [
       "<div>\n",
       "<style scoped>\n",
       "    .dataframe tbody tr th:only-of-type {\n",
       "        vertical-align: middle;\n",
       "    }\n",
       "\n",
       "    .dataframe tbody tr th {\n",
       "        vertical-align: top;\n",
       "    }\n",
       "\n",
       "    .dataframe thead th {\n",
       "        text-align: right;\n",
       "    }\n",
       "</style>\n",
       "<table border=\"1\" class=\"dataframe\">\n",
       "  <thead>\n",
       "    <tr style=\"text-align: right;\">\n",
       "      <th></th>\n",
       "      <th>country</th>\n",
       "      <th>price</th>\n",
       "      <th>mo_salary</th>\n",
       "      <th>bottle_per_day</th>\n",
       "      <th>daily_salary</th>\n",
       "    </tr>\n",
       "  </thead>\n",
       "  <tbody>\n",
       "    <tr>\n",
       "      <th>36</th>\n",
       "      <td>Kuwait</td>\n",
       "      <td>0.54</td>\n",
       "      <td>2078.20</td>\n",
       "      <td>183.0</td>\n",
       "      <td>98.96</td>\n",
       "    </tr>\n",
       "    <tr>\n",
       "      <th>92</th>\n",
       "      <td>Qatar</td>\n",
       "      <td>1.04</td>\n",
       "      <td>3977.93</td>\n",
       "      <td>182.0</td>\n",
       "      <td>189.43</td>\n",
       "    </tr>\n",
       "    <tr>\n",
       "      <th>43</th>\n",
       "      <td>United Arab Emirates</td>\n",
       "      <td>1.07</td>\n",
       "      <td>3569.88</td>\n",
       "      <td>159.0</td>\n",
       "      <td>169.99</td>\n",
       "    </tr>\n",
       "    <tr>\n",
       "      <th>82</th>\n",
       "      <td>Singapore</td>\n",
       "      <td>1.56</td>\n",
       "      <td>5009.32</td>\n",
       "      <td>153.0</td>\n",
       "      <td>238.54</td>\n",
       "    </tr>\n",
       "    <tr>\n",
       "      <th>14</th>\n",
       "      <td>Bahrain</td>\n",
       "      <td>0.71</td>\n",
       "      <td>2075.60</td>\n",
       "      <td>139.0</td>\n",
       "      <td>98.84</td>\n",
       "    </tr>\n",
       "    <tr>\n",
       "      <th>87</th>\n",
       "      <td>Saudi Arabia</td>\n",
       "      <td>0.75</td>\n",
       "      <td>1957.03</td>\n",
       "      <td>124.0</td>\n",
       "      <td>93.19</td>\n",
       "    </tr>\n",
       "    <tr>\n",
       "      <th>60</th>\n",
       "      <td>Oman</td>\n",
       "      <td>0.81</td>\n",
       "      <td>2082.23</td>\n",
       "      <td>122.0</td>\n",
       "      <td>99.15</td>\n",
       "    </tr>\n",
       "    <tr>\n",
       "      <th>56</th>\n",
       "      <td>Hong Kong</td>\n",
       "      <td>1.21</td>\n",
       "      <td>2852.65</td>\n",
       "      <td>112.0</td>\n",
       "      <td>135.84</td>\n",
       "    </tr>\n",
       "    <tr>\n",
       "      <th>73</th>\n",
       "      <td>Japan</td>\n",
       "      <td>1.14</td>\n",
       "      <td>2578.83</td>\n",
       "      <td>108.0</td>\n",
       "      <td>122.80</td>\n",
       "    </tr>\n",
       "    <tr>\n",
       "      <th>90</th>\n",
       "      <td>China</td>\n",
       "      <td>0.49</td>\n",
       "      <td>1103.47</td>\n",
       "      <td>107.0</td>\n",
       "      <td>52.55</td>\n",
       "    </tr>\n",
       "  </tbody>\n",
       "</table>\n",
       "</div>"
      ],
      "text/plain": [
       "                 country  price  mo_salary  bottle_per_day  daily_salary\n",
       "36                Kuwait   0.54    2078.20           183.0         98.96\n",
       "92                 Qatar   1.04    3977.93           182.0        189.43\n",
       "43  United Arab Emirates   1.07    3569.88           159.0        169.99\n",
       "82             Singapore   1.56    5009.32           153.0        238.54\n",
       "14               Bahrain   0.71    2075.60           139.0         98.84\n",
       "87          Saudi Arabia   0.75    1957.03           124.0         93.19\n",
       "60                  Oman   0.81    2082.23           122.0         99.15\n",
       "56             Hong Kong   1.21    2852.65           112.0        135.84\n",
       "73                 Japan   1.14    2578.83           108.0        122.80\n",
       "90                 China   0.49    1103.47           107.0         52.55"
      ]
     },
     "execution_count": 88,
     "metadata": {},
     "output_type": "execute_result"
    }
   ],
   "source": [
    "cleaned_df.sort_values(by=['bottle_per_day'], ascending=False).dropna().head(10)"
   ]
  },
  {
   "cell_type": "code",
   "execution_count": 29,
   "id": "546dcec5",
   "metadata": {},
   "outputs": [],
   "source": [
    "cleaned_df.to_csv(\"merged.csv\",index=False)"
   ]
  },
  {
   "cell_type": "code",
   "execution_count": 30,
   "id": "0f70fcbd",
   "metadata": {},
   "outputs": [
    {
     "data": {
      "text/plain": [
       "<AxesSubplot: ylabel='country'>"
      ]
     },
     "execution_count": 30,
     "metadata": {},
     "output_type": "execute_result"
    },
    {
     "data": {
      "image/png": "[encoded data removed]",
      "text/plain": [
       "<Figure size 640x480 with 1 Axes>"
      ]
     },
     "metadata": {},
     "output_type": "display_data"
    }
   ],
   "source": [
    "cleaned_df.sort_values(by='bottle_per_day').dropna().tail(10)\\\n",
    "    .plot(kind='barh',ylabel='country',y='bottle_per_day',x='country')"
   ]
  },
  {
   "cell_type": "code",
   "execution_count": 31,
   "id": "5b976787",
   "metadata": {},
   "outputs": [
    {
     "data": {
      "text/plain": [
       "<AxesSubplot: xlabel='bottle_per_day', ylabel='mo_salary'>"
      ]
     },
     "execution_count": 31,
     "metadata": {},
     "output_type": "execute_result"
    },
    {
     "data": {
      "image/png": "[encoded data removed]",
      "text/plain": [
       "<Figure size 640x480 with 1 Axes>"
      ]
     },
     "metadata": {},
     "output_type": "display_data"
    }
   ],
   "source": [
    "cleaned_df.plot(kind='scatter', y='mo_salary',x='bottle_per_day')"
   ]
  },
  {
   "cell_type": "markdown",
   "id": "0ce5df65",
   "metadata": {},
   "source": [
    "# Visualization\n",
    "\n",
    "Here I attempted to plot and see if there's an relationship between daily income and coke price.\n",
    "\n",
    "A few key findings:\n",
    "- Generally speaking, coke prices are higher in countries with higher income.\n",
    "- Coke are most affordable in countries with high daily salary and lower income. However, These countries doesn't have the highest daily income.\n",
    "- A cluster of low-income countires have relatively higher coke prices\n",
    "\n",
    "A few shortcomings with my analysis:\n",
    "- Coke prices in some countries are missing.\n",
    "- I used average income instead of median income, which may be less representative of how much people around the world make.\n",
    "- Data is crowdsource, thus the quality of the data could be contested."
   ]
  },
  {
   "cell_type": "code",
   "execution_count": 32,
   "id": "5df67741",
   "metadata": {},
   "outputs": [
    {
     "name": "stdout",
     "output_type": "stream",
     "text": [
      "The rpy2.ipython extension is already loaded. To reload it, use:\n",
      "  %reload_ext rpy2.ipython\n"
     ]
    }
   ],
   "source": [
    "%load_ext rpy2.ipython"
   ]
  },
  {
   "cell_type": "code",
   "execution_count": 24,
   "id": "2ca76395",
   "metadata": {},
   "outputs": [],
   "source": [
    "%%R\n",
    "\n",
    "library(ggplot2)"
   ]
  },
  {
   "cell_type": "code",
   "execution_count": 59,
   "id": "1a1de5fd",
   "metadata": {},
   "outputs": [
    {
     "data": {
      "image/png": "[encoded data removed]"
     },
     "metadata": {},
     "output_type": "display_data"
    }
   ],
   "source": [
    "%%R -i cleaned_df -w 600 -h 400\n",
    "\n",
    "ggplot(cleaned_df, aes(x=price, y=daily_salary)) + \n",
    "  geom_point(aes(col=bottle_per_day, size=bottle_per_day, alpha=0.05)) +\n",
    "    scale_size(range=c(0,20)) +\n",
    "    theme_minimal()\n",
    "#     scale_color_gradient(low = \"blue\", high = \"red\")"
   ]
  },
  {
   "cell_type": "code",
   "execution_count": 66,
   "id": "7a9c2633",
   "metadata": {},
   "outputs": [],
   "source": [
    "%%R\n",
    "library(plotly)\n",
    "require(plotly)"
   ]
  },
  {
   "cell_type": "code",
   "execution_count": 80,
   "id": "3344d40c",
   "metadata": {},
   "outputs": [],
   "source": [
    "import plotly.express as px"
   ]
  },
  {
   "cell_type": "code",
   "execution_count": 86,
   "id": "c72ab425",
   "metadata": {},
   "outputs": [
    {
     "data": {
      "application/vnd.plotly.v1+json": {
       "config": {
        "plotlyServerURL": "https://plot.ly"
       },
       "data": [
        {
         "hovertemplate": "<b>%{hovertext}</b><br><br>price=%{x}<br>daily_salary=%{y}<br>bottle_per_day=%{marker.color}<extra></extra>",
         "hovertext": [
          "Kazakhstan",
          "Portugal",
          "Greece",
          "Latvia",
          "Iran",
          "Morocco",
          "Panama",
          "Guatemala",
          "Iraq",
          "Chile",
          "Nepal",
          "Argentina",
          "Ukraine",
          "Ghana",
          "Bahrain",
          "India",
          "Canada",
          "Turkey",
          "Belgium",
          "Finland",
          "North Macedonia",
          "South Africa",
          "Georgia",
          "Jamaica",
          "Peru",
          "Germany",
          "Puerto Rico",
          "United States",
          "Thailand",
          "Libya",
          "Costa Rica",
          "Sweden",
          "Vietnam",
          "Poland",
          "Bulgaria",
          "Jordan",
          "Kuwait",
          "Nigeria",
          "Tunisia",
          "Croatia",
          "Sri Lanka",
          "Uruguay",
          "United Kingdom",
          "United Arab Emirates",
          "Kenya",
          "Switzerland",
          "Palestine",
          "Spain",
          "Lebanon",
          "Azerbaijan",
          "Venezuela",
          "Czech Republic",
          "Guernsey",
          "Israel",
          "Australia",
          "Estonia",
          "Hong Kong",
          "Cyprus",
          "Malaysia",
          "Iceland",
          "Oman",
          "Bosnia And Herzegovina",
          "Armenia",
          "Austria",
          "South Korea",
          "El Salvador",
          "Brazil",
          "Algeria",
          "Slovenia",
          "Colombia",
          "Ecuador",
          "Kosovo",
          "Hungary",
          "Japan",
          "Moldova",
          "Belarus",
          "Mauritius",
          "Albania",
          "Trinidad And Tobago",
          "New Zealand",
          "Italy",
          "Ethiopia",
          "Singapore",
          "Egypt",
          "Bolivia",
          "Malta",
          "Russia",
          "Saudi Arabia",
          "Netherlands",
          "Pakistan",
          "China",
          "Ireland",
          "Qatar",
          "Slovakia",
          "France",
          "Lithuania",
          "Serbia",
          "Romania",
          "Philippines",
          "Uzbekistan",
          "Bangladesh",
          "Taiwan",
          "Norway",
          "Denmark",
          "Dominican Republic",
          "Mexico",
          "Montenegro",
          "Indonesia"
         ],
         "legendgroup": "",
         "marker": {
          "color": [
           35,
           34,
           22,
           38,
           16,
           36,
           25,
           23,
           62,
           24,
           21,
           19,
           33,
           17,
           139,
           63,
           81,
           26,
           46,
           50,
           16,
           68,
           27,
           27,
           29,
           52,
           58,
           87,
           42,
           29,
           23,
           66,
           39,
           38,
           32,
           58,
           183,
           21,
           27,
           22,
           17,
           20,
           75,
           159,
           36,
           63,
           39,
           44,
           14,
           34,
           7,
           47,
           63,
           46,
           68,
           32,
           112,
           40,
           72,
           75,
           122,
           21,
           27,
           42,
           76,
           26,
           18,
           26,
           26,
           23,
           29,
           18,
           36,
           108,
           26,
           30,
           23,
           15,
           39,
           60,
           33,
           20,
           153,
           31,
           25,
           31,
           33,
           124,
           59,
           33,
           107,
           65,
           182,
           29,
           41,
           28,
           20,
           25,
           20,
           25,
           42,
           71,
           52,
           48,
           19,
           33,
           15,
           27
          ],
          "coloraxis": "coloraxis",
          "symbol": "circle"
         },
         "mode": "markers",
         "name": "",
         "orientation": "v",
         "showlegend": false,
         "type": "scatter",
         "x": [
          0.64,
          1.51,
          1.92,
          1.28,
          0.91,
          0.5,
          1.47,
          1,
          0.43,
          1.34,
          0.44,
          1.07,
          0.56,
          0.49,
          0.71,
          0.43,
          1.83,
          0.7,
          2.68,
          2.63,
          1.29,
          0.9,
          0.81,
          1.06,
          0.7,
          2.74,
          1.42,
          2.29,
          0.64,
          0.48,
          1.79,
          1.92,
          0.54,
          1.33,
          1.2,
          0.52,
          0.54,
          0.36,
          0.51,
          2.23,
          0.42,
          2.11,
          1.8,
          1.07,
          0.52,
          4.5,
          0.87,
          2,
          1.93,
          0.5,
          1.19,
          1.56,
          2.18,
          2.74,
          2.65,
          2.06,
          1.21,
          1.7,
          0.61,
          2.44,
          0.81,
          1.43,
          0.97,
          2.93,
          1.49,
          0.74,
          1.03,
          0.49,
          2.36,
          0.62,
          0.83,
          1.11,
          1.15,
          1.14,
          0.76,
          0.81,
          1.02,
          1.35,
          0.97,
          2.36,
          2.44,
          0.52,
          1.56,
          0.22,
          0.85,
          2.08,
          0.99,
          0.75,
          2.72,
          0.2,
          0.49,
          2.13,
          1.04,
          1.7,
          2.86,
          1.98,
          1.4,
          1.46,
          0.74,
          0.56,
          0.28,
          1.04,
          3.14,
          3.47,
          0.92,
          0.99,
          2.04,
          0.6
         ],
         "xaxis": "x",
         "y": [
          22.25,
          50.82,
          42,
          48.85,
          14.95,
          18.2,
          36.69,
          23.21,
          26.56,
          32.42,
          9.19,
          20.17,
          18.61,
          8.26,
          98.84,
          26.97,
          147.49,
          17.98,
          123.37,
          132.08,
          21.26,
          61.15,
          21.99,
          28.73,
          20.04,
          141.86,
          81.98,
          199.3,
          26.98,
          13.9,
          40.59,
          126.09,
          21.18,
          51.04,
          38.4,
          30.31,
          98.96,
          7.56,
          13.97,
          49.48,
          7.31,
          43.23,
          134.7,
          169.99,
          18.89,
          282.65,
          33.88,
          87.62,
          27.84,
          16.95,
          8.38,
          73.31,
          138.18,
          125.36,
          179.65,
          65.1,
          135.84,
          67.6,
          43.86,
          183.35,
          99.15,
          29.56,
          25.92,
          121.86,
          112.78,
          18.96,
          18.87,
          12.61,
          61.35,
          14.13,
          23.87,
          19.97,
          41.77,
          122.8,
          19.92,
          24.42,
          23.88,
          20.64,
          37.47,
          142.25,
          79.93,
          10.2,
          238.54,
          6.73,
          21.39,
          64.93,
          32.43,
          93.19,
          161.52,
          6.5,
          52.55,
          139.05,
          189.43,
          49.16,
          118.21,
          54.66,
          28.51,
          37,
          14.44,
          14.04,
          11.8,
          73.51,
          162.62,
          167.24,
          17.61,
          32.27,
          31.14,
          16.36
         ],
         "yaxis": "y"
        }
       ],
       "layout": {
        "coloraxis": {
         "colorbar": {
          "title": {
           "text": "bottle_per_day"
          }
         },
         "colorscale": [
          [
           0,
           "#0d0887"
          ],
          [
           0.1111111111111111,
           "#46039f"
          ],
          [
           0.2222222222222222,
           "#7201a8"
          ],
          [
           0.3333333333333333,
           "#9c179e"
          ],
          [
           0.4444444444444444,
           "#bd3786"
          ],
          [
           0.5555555555555556,
           "#d8576b"
          ],
          [
           0.6666666666666666,
           "#ed7953"
          ],
          [
           0.7777777777777778,
           "#fb9f3a"
          ],
          [
           0.8888888888888888,
           "#fdca26"
          ],
          [
           1,
           "#f0f921"
          ]
         ]
        },
        "legend": {
         "tracegroupgap": 0
        },
        "margin": {
         "t": 60
        },
        "template": {
         "data": {
          "bar": [
           {
            "error_x": {
             "color": "#2a3f5f"
            },
            "error_y": {
             "color": "#2a3f5f"
            },
            "marker": {
             "line": {
              "color": "#E5ECF6",
              "width": 0.5
             },
             "pattern": {
              "fillmode": "overlay",
              "size": 10,
              "solidity": 0.2
             }
            },
            "type": "bar"
           }
          ],
          "barpolar": [
           {
            "marker": {
             "line": {
              "color": "#E5ECF6",
              "width": 0.5
             },
             "pattern": {
              "fillmode": "overlay",
              "size": 10,
              "solidity": 0.2
             }
            },
            "type": "barpolar"
           }
          ],
          "carpet": [
           {
            "aaxis": {
             "endlinecolor": "#2a3f5f",
             "gridcolor": "white",
             "linecolor": "white",
             "minorgridcolor": "white",
             "startlinecolor": "#2a3f5f"
            },
            "baxis": {
             "endlinecolor": "#2a3f5f",
             "gridcolor": "white",
             "linecolor": "white",
             "minorgridcolor": "white",
             "startlinecolor": "#2a3f5f"
            },
            "type": "carpet"
           }
          ],
          "choropleth": [
           {
            "colorbar": {
             "outlinewidth": 0,
             "ticks": ""
            },
            "type": "choropleth"
           }
          ],
          "contour": [
           {
            "colorbar": {
             "outlinewidth": 0,
             "ticks": ""
            },
            "colorscale": [
             [
              0,
              "#0d0887"
             ],
             [
              0.1111111111111111,
              "#46039f"
             ],
             [
              0.2222222222222222,
              "#7201a8"
             ],
             [
              0.3333333333333333,
              "#9c179e"
             ],
             [
              0.4444444444444444,
              "#bd3786"
             ],
             [
              0.5555555555555556,
              "#d8576b"
             ],
             [
              0.6666666666666666,
              "#ed7953"
             ],
             [
              0.7777777777777778,
              "#fb9f3a"
             ],
             [
              0.8888888888888888,
              "#fdca26"
             ],
             [
              1,
              "#f0f921"
             ]
            ],
            "type": "contour"
           }
          ],
          "contourcarpet": [
           {
            "colorbar": {
             "outlinewidth": 0,
             "ticks": ""
            },
            "type": "contourcarpet"
           }
          ],
          "heatmap": [
           {
            "colorbar": {
             "outlinewidth": 0,
             "ticks": ""
            },
            "colorscale": [
             [
              0,
              "#0d0887"
             ],
             [
              0.1111111111111111,
              "#46039f"
             ],
             [
              0.2222222222222222,
              "#7201a8"
             ],
             [
              0.3333333333333333,
              "#9c179e"
             ],
             [
              0.4444444444444444,
              "#bd3786"
             ],
             [
              0.5555555555555556,
              "#d8576b"
             ],
             [
              0.6666666666666666,
              "#ed7953"
             ],
             [
              0.7777777777777778,
              "#fb9f3a"
             ],
             [
              0.8888888888888888,
              "#fdca26"
             ],
             [
              1,
              "#f0f921"
             ]
            ],
            "type": "heatmap"
           }
          ],
          "heatmapgl": [
           {
            "colorbar": {
             "outlinewidth": 0,
             "ticks": ""
            },
            "colorscale": [
             [
              0,
              "#0d0887"
             ],
             [
              0.1111111111111111,
              "#46039f"
             ],
             [
              0.2222222222222222,
              "#7201a8"
             ],
             [
              0.3333333333333333,
              "#9c179e"
             ],
             [
              0.4444444444444444,
              "#bd3786"
             ],
             [
              0.5555555555555556,
              "#d8576b"
             ],
             [
              0.6666666666666666,
              "#ed7953"
             ],
             [
              0.7777777777777778,
              "#fb9f3a"
             ],
             [
              0.8888888888888888,
              "#fdca26"
             ],
             [
              1,
              "#f0f921"
             ]
            ],
            "type": "heatmapgl"
           }
          ],
          "histogram": [
           {
            "marker": {
             "pattern": {
              "fillmode": "overlay",
              "size": 10,
              "solidity": 0.2
             }
            },
            "type": "histogram"
           }
          ],
          "histogram2d": [
           {
            "colorbar": {
             "outlinewidth": 0,
             "ticks": ""
            },
            "colorscale": [
             [
              0,
              "#0d0887"
             ],
             [
              0.1111111111111111,
              "#46039f"
             ],
             [
              0.2222222222222222,
              "#7201a8"
             ],
             [
              0.3333333333333333,
              "#9c179e"
             ],
             [
              0.4444444444444444,
              "#bd3786"
             ],
             [
              0.5555555555555556,
              "#d8576b"
             ],
             [
              0.6666666666666666,
              "#ed7953"
             ],
             [
              0.7777777777777778,
              "#fb9f3a"
             ],
             [
              0.8888888888888888,
              "#fdca26"
             ],
             [
              1,
              "#f0f921"
             ]
            ],
            "type": "histogram2d"
           }
          ],
          "histogram2dcontour": [
           {
            "colorbar": {
             "outlinewidth": 0,
             "ticks": ""
            },
            "colorscale": [
             [
              0,
              "#0d0887"
             ],
             [
              0.1111111111111111,
              "#46039f"
             ],
             [
              0.2222222222222222,
              "#7201a8"
             ],
             [
              0.3333333333333333,
              "#9c179e"
             ],
             [
              0.4444444444444444,
              "#bd3786"
             ],
             [
              0.5555555555555556,
              "#d8576b"
             ],
             [
              0.6666666666666666,
              "#ed7953"
             ],
             [
              0.7777777777777778,
              "#fb9f3a"
             ],
             [
              0.8888888888888888,
              "#fdca26"
             ],
             [
              1,
              "#f0f921"
             ]
            ],
            "type": "histogram2dcontour"
           }
          ],
          "mesh3d": [
           {
            "colorbar": {
             "outlinewidth": 0,
             "ticks": ""
            },
            "type": "mesh3d"
           }
          ],
          "parcoords": [
           {
            "line": {
             "colorbar": {
              "outlinewidth": 0,
              "ticks": ""
             }
            },
            "type": "parcoords"
           }
          ],
          "pie": [
           {
            "automargin": true,
            "type": "pie"
           }
          ],
          "scatter": [
           {
            "fillpattern": {
             "fillmode": "overlay",
             "size": 10,
             "solidity": 0.2
            },
            "type": "scatter"
           }
          ],
          "scatter3d": [
           {
            "line": {
             "colorbar": {
              "outlinewidth": 0,
              "ticks": ""
             }
            },
            "marker": {
             "colorbar": {
              "outlinewidth": 0,
              "ticks": ""
             }
            },
            "type": "scatter3d"
           }
          ],
          "scattercarpet": [
           {
            "marker": {
             "colorbar": {
              "outlinewidth": 0,
              "ticks": ""
             }
            },
            "type": "scattercarpet"
           }
          ],
          "scattergeo": [
           {
            "marker": {
             "colorbar": {
              "outlinewidth": 0,
              "ticks": ""
             }
            },
            "type": "scattergeo"
           }
          ],
          "scattergl": [
           {
            "marker": {
             "colorbar": {
              "outlinewidth": 0,
              "ticks": ""
             }
            },
            "type": "scattergl"
           }
          ],
          "scattermapbox": [
           {
            "marker": {
             "colorbar": {
              "outlinewidth": 0,
              "ticks": ""
             }
            },
            "type": "scattermapbox"
           }
          ],
          "scatterpolar": [
           {
            "marker": {
             "colorbar": {
              "outlinewidth": 0,
              "ticks": ""
             }
            },
            "type": "scatterpolar"
           }
          ],
          "scatterpolargl": [
           {
            "marker": {
             "colorbar": {
              "outlinewidth": 0,
              "ticks": ""
             }
            },
            "type": "scatterpolargl"
           }
          ],
          "scatterternary": [
           {
            "marker": {
             "colorbar": {
              "outlinewidth": 0,
              "ticks": ""
             }
            },
            "type": "scatterternary"
           }
          ],
          "surface": [
           {
            "colorbar": {
             "outlinewidth": 0,
             "ticks": ""
            },
            "colorscale": [
             [
              0,
              "#0d0887"
             ],
             [
              0.1111111111111111,
              "#46039f"
             ],
             [
              0.2222222222222222,
              "#7201a8"
             ],
             [
              0.3333333333333333,
              "#9c179e"
             ],
             [
              0.4444444444444444,
              "#bd3786"
             ],
             [
              0.5555555555555556,
              "#d8576b"
             ],
             [
              0.6666666666666666,
              "#ed7953"
             ],
             [
              0.7777777777777778,
              "#fb9f3a"
             ],
             [
              0.8888888888888888,
              "#fdca26"
             ],
             [
              1,
              "#f0f921"
             ]
            ],
            "type": "surface"
           }
          ],
          "table": [
           {
            "cells": {
             "fill": {
              "color": "#EBF0F8"
             },
             "line": {
              "color": "white"
             }
            },
            "header": {
             "fill": {
              "color": "#C8D4E3"
             },
             "line": {
              "color": "white"
             }
            },
            "type": "table"
           }
          ]
         },
         "layout": {
          "annotationdefaults": {
           "arrowcolor": "#2a3f5f",
           "arrowhead": 0,
           "arrowwidth": 1
          },
          "autotypenumbers": "strict",
          "coloraxis": {
           "colorbar": {
            "outlinewidth": 0,
            "ticks": ""
           }
          },
          "colorscale": {
           "diverging": [
            [
             0,
             "#8e0152"
            ],
            [
             0.1,
             "#c51b7d"
            ],
            [
             0.2,
             "#de77ae"
            ],
            [
             0.3,
             "#f1b6da"
            ],
            [
             0.4,
             "#fde0ef"
            ],
            [
             0.5,
             "#f7f7f7"
            ],
            [
             0.6,
             "#e6f5d0"
            ],
            [
             0.7,
             "#b8e186"
            ],
            [
             0.8,
             "#7fbc41"
            ],
            [
             0.9,
             "#4d9221"
            ],
            [
             1,
             "#276419"
            ]
           ],
           "sequential": [
            [
             0,
             "#0d0887"
            ],
            [
             0.1111111111111111,
             "#46039f"
            ],
            [
             0.2222222222222222,
             "#7201a8"
            ],
            [
             0.3333333333333333,
             "#9c179e"
            ],
            [
             0.4444444444444444,
             "#bd3786"
            ],
            [
             0.5555555555555556,
             "#d8576b"
            ],
            [
             0.6666666666666666,
             "#ed7953"
            ],
            [
             0.7777777777777778,
             "#fb9f3a"
            ],
            [
             0.8888888888888888,
             "#fdca26"
            ],
            [
             1,
             "#f0f921"
            ]
           ],
           "sequentialminus": [
            [
             0,
             "#0d0887"
            ],
            [
             0.1111111111111111,
             "#46039f"
            ],
            [
             0.2222222222222222,
             "#7201a8"
            ],
            [
             0.3333333333333333,
             "#9c179e"
            ],
            [
             0.4444444444444444,
             "#bd3786"
            ],
            [
             0.5555555555555556,
             "#d8576b"
            ],
            [
             0.6666666666666666,
             "#ed7953"
            ],
            [
             0.7777777777777778,
             "#fb9f3a"
            ],
            [
             0.8888888888888888,
             "#fdca26"
            ],
            [
             1,
             "#f0f921"
            ]
           ]
          },
          "colorway": [
           "#636efa",
           "#EF553B",
           "#00cc96",
           "#ab63fa",
           "#FFA15A",
           "#19d3f3",
           "#FF6692",
           "#B6E880",
           "#FF97FF",
           "#FECB52"
          ],
          "font": {
           "color": "#2a3f5f"
          },
          "geo": {
           "bgcolor": "white",
           "lakecolor": "white",
           "landcolor": "#E5ECF6",
           "showlakes": true,
           "showland": true,
           "subunitcolor": "white"
          },
          "hoverlabel": {
           "align": "left"
          },
          "hovermode": "closest",
          "mapbox": {
           "style": "light"
          },
          "paper_bgcolor": "white",
          "plot_bgcolor": "#E5ECF6",
          "polar": {
           "angularaxis": {
            "gridcolor": "white",
            "linecolor": "white",
            "ticks": ""
           },
           "bgcolor": "#E5ECF6",
           "radialaxis": {
            "gridcolor": "white",
            "linecolor": "white",
            "ticks": ""
           }
          },
          "scene": {
           "xaxis": {
            "backgroundcolor": "#E5ECF6",
            "gridcolor": "white",
            "gridwidth": 2,
            "linecolor": "white",
            "showbackground": true,
            "ticks": "",
            "zerolinecolor": "white"
           },
           "yaxis": {
            "backgroundcolor": "#E5ECF6",
            "gridcolor": "white",
            "gridwidth": 2,
            "linecolor": "white",
            "showbackground": true,
            "ticks": "",
            "zerolinecolor": "white"
           },
           "zaxis": {
            "backgroundcolor": "#E5ECF6",
            "gridcolor": "white",
            "gridwidth": 2,
            "linecolor": "white",
            "showbackground": true,
            "ticks": "",
            "zerolinecolor": "white"
           }
          },
          "shapedefaults": {
           "line": {
            "color": "#2a3f5f"
           }
          },
          "ternary": {
           "aaxis": {
            "gridcolor": "white",
            "linecolor": "white",
            "ticks": ""
           },
           "baxis": {
            "gridcolor": "white",
            "linecolor": "white",
            "ticks": ""
           },
           "bgcolor": "#E5ECF6",
           "caxis": {
            "gridcolor": "white",
            "linecolor": "white",
            "ticks": ""
           }
          },
          "title": {
           "x": 0.05
          },
          "xaxis": {
           "automargin": true,
           "gridcolor": "white",
           "linecolor": "white",
           "ticks": "",
           "title": {
            "standoff": 15
           },
           "zerolinecolor": "white",
           "zerolinewidth": 2
          },
          "yaxis": {
           "automargin": true,
           "gridcolor": "white",
           "linecolor": "white",
           "ticks": "",
           "title": {
            "standoff": 15
           },
           "zerolinecolor": "white",
           "zerolinewidth": 2
          }
         }
        },
        "xaxis": {
         "anchor": "y",
         "domain": [
          0,
          1
         ],
         "title": {
          "text": "price"
         },
         "type": "log"
        },
        "yaxis": {
         "anchor": "x",
         "domain": [
          0,
          1
         ],
         "title": {
          "text": "daily_salary"
         }
        }
       }
      },
      "text/html": [
       "<div>                            <div id=\"93c20bb6-a7f5-4abd-a998-5d95a22b44f2\" class=\"plotly-graph-div\" style=\"height:525px; width:100%;\"></div>            <script type=\"text/javascript\">                require([\"plotly\"], function(Plotly) {                    window.PLOTLYENV=window.PLOTLYENV || {};                                    if (document.getElementById(\"93c20bb6-a7f5-4abd-a998-5d95a22b44f2\")) {                    Plotly.newPlot(                        \"93c20bb6-a7f5-4abd-a998-5d95a22b44f2\",                        [{\"hovertemplate\":\"<b>%{hovertext}</b><br><br>price=%{x}<br>daily_salary=%{y}<br>bottle_per_day=%{marker.color}<extra></extra>\",\"hovertext\":[\"Kazakhstan\",\"Portugal\",\"Greece\",\"Latvia\",\"Iran\",\"Morocco\",\"Panama\",\"Guatemala\",\"Iraq\",\"Chile\",\"Nepal\",\"Argentina\",\"Ukraine\",\"Ghana\",\"Bahrain\",\"India\",\"Canada\",\"Turkey\",\"Belgium\",\"Finland\",\"North Macedonia\",\"South Africa\",\"Georgia\",\"Jamaica\",\"Peru\",\"Germany\",\"Puerto Rico\",\"United States\",\"Thailand\",\"Libya\",\"Costa Rica\",\"Sweden\",\"Vietnam\",\"Poland\",\"Bulgaria\",\"Jordan\",\"Kuwait\",\"Nigeria\",\"Tunisia\",\"Croatia\",\"Sri Lanka\",\"Uruguay\",\"United Kingdom\",\"United Arab Emirates\",\"Kenya\",\"Switzerland\",\"Palestine\",\"Spain\",\"Lebanon\",\"Azerbaijan\",\"Venezuela\",\"Czech Republic\",\"Guernsey\",\"Israel\",\"Australia\",\"Estonia\",\"Hong Kong\",\"Cyprus\",\"Malaysia\",\"Iceland\",\"Oman\",\"Bosnia And Herzegovina\",\"Armenia\",\"Austria\",\"South Korea\",\"El Salvador\",\"Brazil\",\"Algeria\",\"Slovenia\",\"Colombia\",\"Ecuador\",\"Kosovo\",\"Hungary\",\"Japan\",\"Moldova\",\"Belarus\",\"Mauritius\",\"Albania\",\"Trinidad And Tobago\",\"New Zealand\",\"Italy\",\"Ethiopia\",\"Singapore\",\"Egypt\",\"Bolivia\",\"Malta\",\"Russia\",\"Saudi Arabia\",\"Netherlands\",\"Pakistan\",\"China\",\"Ireland\",\"Qatar\",\"Slovakia\",\"France\",\"Lithuania\",\"Serbia\",\"Romania\",\"Philippines\",\"Uzbekistan\",\"Bangladesh\",\"Taiwan\",\"Norway\",\"Denmark\",\"Dominican Republic\",\"Mexico\",\"Montenegro\",\"Indonesia\"],\"legendgroup\":\"\",\"marker\":{\"color\":[35.0,34.0,22.0,38.0,16.0,36.0,25.0,23.0,62.0,24.0,21.0,19.0,33.0,17.0,139.0,63.0,81.0,26.0,46.0,50.0,16.0,68.0,27.0,27.0,29.0,52.0,58.0,87.0,42.0,29.0,23.0,66.0,39.0,38.0,32.0,58.0,183.0,21.0,27.0,22.0,17.0,20.0,75.0,159.0,36.0,63.0,39.0,44.0,14.0,34.0,7.0,47.0,63.0,46.0,68.0,32.0,112.0,40.0,72.0,75.0,122.0,21.0,27.0,42.0,76.0,26.0,18.0,26.0,26.0,23.0,29.0,18.0,36.0,108.0,26.0,30.0,23.0,15.0,39.0,60.0,33.0,20.0,153.0,31.0,25.0,31.0,33.0,124.0,59.0,33.0,107.0,65.0,182.0,29.0,41.0,28.0,20.0,25.0,20.0,25.0,42.0,71.0,52.0,48.0,19.0,33.0,15.0,27.0],\"coloraxis\":\"coloraxis\",\"symbol\":\"circle\"},\"mode\":\"markers\",\"name\":\"\",\"orientation\":\"v\",\"showlegend\":false,\"x\":[0.64,1.51,1.92,1.28,0.91,0.5,1.47,1.0,0.43,1.34,0.44,1.07,0.56,0.49,0.71,0.43,1.83,0.7,2.68,2.63,1.29,0.9,0.81,1.06,0.7,2.74,1.42,2.29,0.64,0.48,1.79,1.92,0.54,1.33,1.2,0.52,0.54,0.36,0.51,2.23,0.42,2.11,1.8,1.07,0.52,4.5,0.87,2.0,1.93,0.5,1.19,1.56,2.18,2.74,2.65,2.06,1.21,1.7,0.61,2.44,0.81,1.43,0.97,2.93,1.49,0.74,1.03,0.49,2.36,0.62,0.83,1.11,1.15,1.14,0.76,0.81,1.02,1.35,0.97,2.36,2.44,0.52,1.56,0.22,0.85,2.08,0.99,0.75,2.72,0.2,0.49,2.13,1.04,1.7,2.86,1.98,1.4,1.46,0.74,0.56,0.28,1.04,3.14,3.47,0.92,0.99,2.04,0.6],\"xaxis\":\"x\",\"y\":[22.25,50.82,42.0,48.85,14.95,18.2,36.69,23.21,26.56,32.42,9.19,20.17,18.61,8.26,98.84,26.97,147.49,17.98,123.37,132.08,21.26,61.15,21.99,28.73,20.04,141.86,81.98,199.3,26.98,13.9,40.59,126.09,21.18,51.04,38.4,30.31,98.96,7.56,13.97,49.48,7.31,43.23,134.7,169.99,18.89,282.65,33.88,87.62,27.84,16.95,8.38,73.31,138.18,125.36,179.65,65.1,135.84,67.6,43.86,183.35,99.15,29.56,25.92,121.86,112.78,18.96,18.87,12.61,61.35,14.13,23.87,19.97,41.77,122.8,19.92,24.42,23.88,20.64,37.47,142.25,79.93,10.2,238.54,6.73,21.39,64.93,32.43,93.19,161.52,6.5,52.55,139.05,189.43,49.16,118.21,54.66,28.51,37.0,14.44,14.04,11.8,73.51,162.62,167.24,17.61,32.27,31.14,16.36],\"yaxis\":\"y\",\"type\":\"scatter\"}],                        {\"template\":{\"data\":{\"histogram2dcontour\":[{\"type\":\"histogram2dcontour\",\"colorbar\":{\"outlinewidth\":0,\"ticks\":\"\"},\"colorscale\":[[0.0,\"#0d0887\"],[0.1111111111111111,\"#46039f\"],[0.2222222222222222,\"#7201a8\"],[0.3333333333333333,\"#9c179e\"],[0.4444444444444444,\"#bd3786\"],[0.5555555555555556,\"#d8576b\"],[0.6666666666666666,\"#ed7953\"],[0.7777777777777778,\"#fb9f3a\"],[0.8888888888888888,\"#fdca26\"],[1.0,\"#f0f921\"]]}],\"choropleth\":[{\"type\":\"choropleth\",\"colorbar\":{\"outlinewidth\":0,\"ticks\":\"\"}}],\"histogram2d\":[{\"type\":\"histogram2d\",\"colorbar\":{\"outlinewidth\":0,\"ticks\":\"\"},\"colorscale\":[[0.0,\"#0d0887\"],[0.1111111111111111,\"#46039f\"],[0.2222222222222222,\"#7201a8\"],[0.3333333333333333,\"#9c179e\"],[0.4444444444444444,\"#bd3786\"],[0.5555555555555556,\"#d8576b\"],[0.6666666666666666,\"#ed7953\"],[0.7777777777777778,\"#fb9f3a\"],[0.8888888888888888,\"#fdca26\"],[1.0,\"#f0f921\"]]}],\"heatmap\":[{\"type\":\"heatmap\",\"colorbar\":{\"outlinewidth\":0,\"ticks\":\"\"},\"colorscale\":[[0.0,\"#0d0887\"],[0.1111111111111111,\"#46039f\"],[0.2222222222222222,\"#7201a8\"],[0.3333333333333333,\"#9c179e\"],[0.4444444444444444,\"#bd3786\"],[0.5555555555555556,\"#d8576b\"],[0.6666666666666666,\"#ed7953\"],[0.7777777777777778,\"#fb9f3a\"],[0.8888888888888888,\"#fdca26\"],[1.0,\"#f0f921\"]]}],\"heatmapgl\":[{\"type\":\"heatmapgl\",\"colorbar\":{\"outlinewidth\":0,\"ticks\":\"\"},\"colorscale\":[[0.0,\"#0d0887\"],[0.1111111111111111,\"#46039f\"],[0.2222222222222222,\"#7201a8\"],[0.3333333333333333,\"#9c179e\"],[0.4444444444444444,\"#bd3786\"],[0.5555555555555556,\"#d8576b\"],[0.6666666666666666,\"#ed7953\"],[0.7777777777777778,\"#fb9f3a\"],[0.8888888888888888,\"#fdca26\"],[1.0,\"#f0f921\"]]}],\"contourcarpet\":[{\"type\":\"contourcarpet\",\"colorbar\":{\"outlinewidth\":0,\"ticks\":\"\"}}],\"contour\":[{\"type\":\"contour\",\"colorbar\":{\"outlinewidth\":0,\"ticks\":\"\"},\"colorscale\":[[0.0,\"#0d0887\"],[0.1111111111111111,\"#46039f\"],[0.2222222222222222,\"#7201a8\"],[0.3333333333333333,\"#9c179e\"],[0.4444444444444444,\"#bd3786\"],[0.5555555555555556,\"#d8576b\"],[0.6666666666666666,\"#ed7953\"],[0.7777777777777778,\"#fb9f3a\"],[0.8888888888888888,\"#fdca26\"],[1.0,\"#f0f921\"]]}],\"surface\":[{\"type\":\"surface\",\"colorbar\":{\"outlinewidth\":0,\"ticks\":\"\"},\"colorscale\":[[0.0,\"#0d0887\"],[0.1111111111111111,\"#46039f\"],[0.2222222222222222,\"#7201a8\"],[0.3333333333333333,\"#9c179e\"],[0.4444444444444444,\"#bd3786\"],[0.5555555555555556,\"#d8576b\"],[0.6666666666666666,\"#ed7953\"],[0.7777777777777778,\"#fb9f3a\"],[0.8888888888888888,\"#fdca26\"],[1.0,\"#f0f921\"]]}],\"mesh3d\":[{\"type\":\"mesh3d\",\"colorbar\":{\"outlinewidth\":0,\"ticks\":\"\"}}],\"scatter\":[{\"fillpattern\":{\"fillmode\":\"overlay\",\"size\":10,\"solidity\":0.2},\"type\":\"scatter\"}],\"parcoords\":[{\"type\":\"parcoords\",\"line\":{\"colorbar\":{\"outlinewidth\":0,\"ticks\":\"\"}}}],\"scatterpolargl\":[{\"type\":\"scatterpolargl\",\"marker\":{\"colorbar\":{\"outlinewidth\":0,\"ticks\":\"\"}}}],\"bar\":[{\"error_x\":{\"color\":\"#2a3f5f\"},\"error_y\":{\"color\":\"#2a3f5f\"},\"marker\":{\"line\":{\"color\":\"#E5ECF6\",\"width\":0.5},\"pattern\":{\"fillmode\":\"overlay\",\"size\":10,\"solidity\":0.2}},\"type\":\"bar\"}],\"scattergeo\":[{\"type\":\"scattergeo\",\"marker\":{\"colorbar\":{\"outlinewidth\":0,\"ticks\":\"\"}}}],\"scatterpolar\":[{\"type\":\"scatterpolar\",\"marker\":{\"colorbar\":{\"outlinewidth\":0,\"ticks\":\"\"}}}],\"histogram\":[{\"marker\":{\"pattern\":{\"fillmode\":\"overlay\",\"size\":10,\"solidity\":0.2}},\"type\":\"histogram\"}],\"scattergl\":[{\"type\":\"scattergl\",\"marker\":{\"colorbar\":{\"outlinewidth\":0,\"ticks\":\"\"}}}],\"scatter3d\":[{\"type\":\"scatter3d\",\"line\":{\"colorbar\":{\"outlinewidth\":0,\"ticks\":\"\"}},\"marker\":{\"colorbar\":{\"outlinewidth\":0,\"ticks\":\"\"}}}],\"scattermapbox\":[{\"type\":\"scattermapbox\",\"marker\":{\"colorbar\":{\"outlinewidth\":0,\"ticks\":\"\"}}}],\"scatterternary\":[{\"type\":\"scatterternary\",\"marker\":{\"colorbar\":{\"outlinewidth\":0,\"ticks\":\"\"}}}],\"scattercarpet\":[{\"type\":\"scattercarpet\",\"marker\":{\"colorbar\":{\"outlinewidth\":0,\"ticks\":\"\"}}}],\"carpet\":[{\"aaxis\":{\"endlinecolor\":\"#2a3f5f\",\"gridcolor\":\"white\",\"linecolor\":\"white\",\"minorgridcolor\":\"white\",\"startlinecolor\":\"#2a3f5f\"},\"baxis\":{\"endlinecolor\":\"#2a3f5f\",\"gridcolor\":\"white\",\"linecolor\":\"white\",\"minorgridcolor\":\"white\",\"startlinecolor\":\"#2a3f5f\"},\"type\":\"carpet\"}],\"table\":[{\"cells\":{\"fill\":{\"color\":\"#EBF0F8\"},\"line\":{\"color\":\"white\"}},\"header\":{\"fill\":{\"color\":\"#C8D4E3\"},\"line\":{\"color\":\"white\"}},\"type\":\"table\"}],\"barpolar\":[{\"marker\":{\"line\":{\"color\":\"#E5ECF6\",\"width\":0.5},\"pattern\":{\"fillmode\":\"overlay\",\"size\":10,\"solidity\":0.2}},\"type\":\"barpolar\"}],\"pie\":[{\"automargin\":true,\"type\":\"pie\"}]},\"layout\":{\"autotypenumbers\":\"strict\",\"colorway\":[\"#636efa\",\"#EF553B\",\"#00cc96\",\"#ab63fa\",\"#FFA15A\",\"#19d3f3\",\"#FF6692\",\"#B6E880\",\"#FF97FF\",\"#FECB52\"],\"font\":{\"color\":\"#2a3f5f\"},\"hovermode\":\"closest\",\"hoverlabel\":{\"align\":\"left\"},\"paper_bgcolor\":\"white\",\"plot_bgcolor\":\"#E5ECF6\",\"polar\":{\"bgcolor\":\"#E5ECF6\",\"angularaxis\":{\"gridcolor\":\"white\",\"linecolor\":\"white\",\"ticks\":\"\"},\"radialaxis\":{\"gridcolor\":\"white\",\"linecolor\":\"white\",\"ticks\":\"\"}},\"ternary\":{\"bgcolor\":\"#E5ECF6\",\"aaxis\":{\"gridcolor\":\"white\",\"linecolor\":\"white\",\"ticks\":\"\"},\"baxis\":{\"gridcolor\":\"white\",\"linecolor\":\"white\",\"ticks\":\"\"},\"caxis\":{\"gridcolor\":\"white\",\"linecolor\":\"white\",\"ticks\":\"\"}},\"coloraxis\":{\"colorbar\":{\"outlinewidth\":0,\"ticks\":\"\"}},\"colorscale\":{\"sequential\":[[0.0,\"#0d0887\"],[0.1111111111111111,\"#46039f\"],[0.2222222222222222,\"#7201a8\"],[0.3333333333333333,\"#9c179e\"],[0.4444444444444444,\"#bd3786\"],[0.5555555555555556,\"#d8576b\"],[0.6666666666666666,\"#ed7953\"],[0.7777777777777778,\"#fb9f3a\"],[0.8888888888888888,\"#fdca26\"],[1.0,\"#f0f921\"]],\"sequentialminus\":[[0.0,\"#0d0887\"],[0.1111111111111111,\"#46039f\"],[0.2222222222222222,\"#7201a8\"],[0.3333333333333333,\"#9c179e\"],[0.4444444444444444,\"#bd3786\"],[0.5555555555555556,\"#d8576b\"],[0.6666666666666666,\"#ed7953\"],[0.7777777777777778,\"#fb9f3a\"],[0.8888888888888888,\"#fdca26\"],[1.0,\"#f0f921\"]],\"diverging\":[[0,\"#8e0152\"],[0.1,\"#c51b7d\"],[0.2,\"#de77ae\"],[0.3,\"#f1b6da\"],[0.4,\"#fde0ef\"],[0.5,\"#f7f7f7\"],[0.6,\"#e6f5d0\"],[0.7,\"#b8e186\"],[0.8,\"#7fbc41\"],[0.9,\"#4d9221\"],[1,\"#276419\"]]},\"xaxis\":{\"gridcolor\":\"white\",\"linecolor\":\"white\",\"ticks\":\"\",\"title\":{\"standoff\":15},\"zerolinecolor\":\"white\",\"automargin\":true,\"zerolinewidth\":2},\"yaxis\":{\"gridcolor\":\"white\",\"linecolor\":\"white\",\"ticks\":\"\",\"title\":{\"standoff\":15},\"zerolinecolor\":\"white\",\"automargin\":true,\"zerolinewidth\":2},\"scene\":{\"xaxis\":{\"backgroundcolor\":\"#E5ECF6\",\"gridcolor\":\"white\",\"linecolor\":\"white\",\"showbackground\":true,\"ticks\":\"\",\"zerolinecolor\":\"white\",\"gridwidth\":2},\"yaxis\":{\"backgroundcolor\":\"#E5ECF6\",\"gridcolor\":\"white\",\"linecolor\":\"white\",\"showbackground\":true,\"ticks\":\"\",\"zerolinecolor\":\"white\",\"gridwidth\":2},\"zaxis\":{\"backgroundcolor\":\"#E5ECF6\",\"gridcolor\":\"white\",\"linecolor\":\"white\",\"showbackground\":true,\"ticks\":\"\",\"zerolinecolor\":\"white\",\"gridwidth\":2}},\"shapedefaults\":{\"line\":{\"color\":\"#2a3f5f\"}},\"annotationdefaults\":{\"arrowcolor\":\"#2a3f5f\",\"arrowhead\":0,\"arrowwidth\":1},\"geo\":{\"bgcolor\":\"white\",\"landcolor\":\"#E5ECF6\",\"subunitcolor\":\"white\",\"showland\":true,\"showlakes\":true,\"lakecolor\":\"white\"},\"title\":{\"x\":0.05},\"mapbox\":{\"style\":\"light\"}}},\"xaxis\":{\"anchor\":\"y\",\"domain\":[0.0,1.0],\"title\":{\"text\":\"price\"},\"type\":\"log\"},\"yaxis\":{\"anchor\":\"x\",\"domain\":[0.0,1.0],\"title\":{\"text\":\"daily_salary\"}},\"coloraxis\":{\"colorbar\":{\"title\":{\"text\":\"bottle_per_day\"}},\"colorscale\":[[0.0,\"#0d0887\"],[0.1111111111111111,\"#46039f\"],[0.2222222222222222,\"#7201a8\"],[0.3333333333333333,\"#9c179e\"],[0.4444444444444444,\"#bd3786\"],[0.5555555555555556,\"#d8576b\"],[0.6666666666666666,\"#ed7953\"],[0.7777777777777778,\"#fb9f3a\"],[0.8888888888888888,\"#fdca26\"],[1.0,\"#f0f921\"]]},\"legend\":{\"tracegroupgap\":0},\"margin\":{\"t\":60}},                        {\"responsive\": true}                    ).then(function(){\n",
       "                            \n",
       "var gd = document.getElementById('93c20bb6-a7f5-4abd-a998-5d95a22b44f2');\n",
       "var x = new MutationObserver(function (mutations, observer) {{\n",
       "        var display = window.getComputedStyle(gd).display;\n",
       "        if (!display || display === 'none') {{\n",
       "            console.log([gd, 'removed!']);\n",
       "            Plotly.purge(gd);\n",
       "            observer.disconnect();\n",
       "        }}\n",
       "}});\n",
       "\n",
       "// Listen for the removal of the full notebook cells\n",
       "var notebookContainer = gd.closest('#notebook-container');\n",
       "if (notebookContainer) {{\n",
       "    x.observe(notebookContainer, {childList: true});\n",
       "}}\n",
       "\n",
       "// Listen for the clearing of the current output cell\n",
       "var outputEl = gd.closest('.output');\n",
       "if (outputEl) {{\n",
       "    x.observe(outputEl, {childList: true});\n",
       "}}\n",
       "\n",
       "                        })                };                });            </script>        </div>"
      ]
     },
     "metadata": {},
     "output_type": "display_data"
    }
   ],
   "source": [
    "\n",
    "\n",
    "fig = px.scatter(cleaned_df, x=\"price\", y=\"daily_salary\",\\\n",
    "                color=\"bottle_per_day\",\\\n",
    "                 hover_name=\"country\", log_x=True, size_max=50)\n",
    "fig.show()"
   ]
  },
  {
   "cell_type": "code",
   "execution_count": null,
   "id": "f8f78b08",
   "metadata": {},
   "outputs": [],
   "source": []
  }
 ],
 "metadata": {
  "kernelspec": {
   "display_name": "Python 3 (ipykernel)",
   "language": "python",
   "name": "python3"
  },
  "language_info": {
   "codemirror_mode": {
    "name": "ipython",
    "version": 3
   },
   "file_extension": ".py",
   "mimetype": "text/x-python",
   "name": "python",
   "nbconvert_exporter": "python",
   "pygments_lexer": "ipython3",
   "version": "3.11.0rc2"
  },
  "vscode": {
   "interpreter": {
    "hash": "aee8b7b246df8f9039afb4144a1f6fd8d2ca17a180786b69acc140d282b71a49"
   }
  }
 },
 "nbformat": 4,
 "nbformat_minor": 5
}
